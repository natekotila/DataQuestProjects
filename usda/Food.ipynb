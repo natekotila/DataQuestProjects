{
 "cells": [
  {
   "cell_type": "code",
   "execution_count": 2,
   "metadata": {},
   "outputs": [],
   "source": [
    "import pandas as pd\n",
    "food_info = pd.read_csv('food_info.csv')"
   ]
  },
  {
   "cell_type": "code",
   "execution_count": 5,
   "metadata": {},
   "outputs": [
    {
     "data": {
      "text/plain": [
       "pandas.core.frame.DataFrame"
      ]
     },
     "execution_count": 5,
     "metadata": {},
     "output_type": "execute_result"
    }
   ],
   "source": [
    "type(food_info)"
   ]
  },
  {
   "cell_type": "code",
   "execution_count": 6,
   "metadata": {},
   "outputs": [
    {
     "name": "stdout",
     "output_type": "stream",
     "text": [
      "   NDB_No                 Shrt_Desc  Water_(g)  Energ_Kcal  Protein_(g)  \\\n",
      "0    1001          BUTTER WITH SALT      15.87         717         0.85   \n",
      "1    1002  BUTTER WHIPPED WITH SALT      15.87         717         0.85   \n",
      "2    1003      BUTTER OIL ANHYDROUS       0.24         876         0.28   \n",
      "3    1004               CHEESE BLUE      42.41         353        21.40   \n",
      "4    1005              CHEESE BRICK      41.11         371        23.24   \n",
      "\n",
      "   Lipid_Tot_(g)  Ash_(g)  Carbohydrt_(g)  Fiber_TD_(g)  Sugar_Tot_(g)  \\\n",
      "0          81.11     2.11            0.06           0.0           0.06   \n",
      "1          81.11     2.11            0.06           0.0           0.06   \n",
      "2          99.48     0.00            0.00           0.0           0.00   \n",
      "3          28.74     5.11            2.34           0.0           0.50   \n",
      "4          29.68     3.18            2.79           0.0           0.51   \n",
      "\n",
      "        ...        Vit_A_IU  Vit_A_RAE  Vit_E_(mg)  Vit_D_mcg  Vit_D_IU  \\\n",
      "0       ...          2499.0      684.0        2.32        1.5      60.0   \n",
      "1       ...          2499.0      684.0        2.32        1.5      60.0   \n",
      "2       ...          3069.0      840.0        2.80        1.8      73.0   \n",
      "3       ...           721.0      198.0        0.25        0.5      21.0   \n",
      "4       ...          1080.0      292.0        0.26        0.5      22.0   \n",
      "\n",
      "   Vit_K_(mcg)  FA_Sat_(g)  FA_Mono_(g)  FA_Poly_(g)  Cholestrl_(mg)  \n",
      "0          7.0      51.368       21.021        3.043           215.0  \n",
      "1          7.0      50.489       23.426        3.012           219.0  \n",
      "2          8.6      61.924       28.732        3.694           256.0  \n",
      "3          2.4      18.669        7.778        0.800            75.0  \n",
      "4          2.5      18.764        8.598        0.784            94.0  \n",
      "\n",
      "[5 rows x 36 columns]\n"
     ]
    }
   ],
   "source": [
    "print(food_info.head())"
   ]
  },
  {
   "cell_type": "code",
   "execution_count": 7,
   "metadata": {},
   "outputs": [],
   "source": [
    "column_names = food_info.columns"
   ]
  },
  {
   "cell_type": "code",
   "execution_count": 8,
   "metadata": {},
   "outputs": [
    {
     "data": {
      "text/plain": [
       "Index(['NDB_No', 'Shrt_Desc', 'Water_(g)', 'Energ_Kcal', 'Protein_(g)',\n",
       "       'Lipid_Tot_(g)', 'Ash_(g)', 'Carbohydrt_(g)', 'Fiber_TD_(g)',\n",
       "       'Sugar_Tot_(g)', 'Calcium_(mg)', 'Iron_(mg)', 'Magnesium_(mg)',\n",
       "       'Phosphorus_(mg)', 'Potassium_(mg)', 'Sodium_(mg)', 'Zinc_(mg)',\n",
       "       'Copper_(mg)', 'Manganese_(mg)', 'Selenium_(mcg)', 'Vit_C_(mg)',\n",
       "       'Thiamin_(mg)', 'Riboflavin_(mg)', 'Niacin_(mg)', 'Vit_B6_(mg)',\n",
       "       'Vit_B12_(mcg)', 'Vit_A_IU', 'Vit_A_RAE', 'Vit_E_(mg)', 'Vit_D_mcg',\n",
       "       'Vit_D_IU', 'Vit_K_(mcg)', 'FA_Sat_(g)', 'FA_Mono_(g)', 'FA_Poly_(g)',\n",
       "       'Cholestrl_(mg)'],\n",
       "      dtype='object')"
      ]
     },
     "execution_count": 8,
     "metadata": {},
     "output_type": "execute_result"
    }
   ],
   "source": [
    "column_names"
   ]
  },
  {
   "cell_type": "code",
   "execution_count": 9,
   "metadata": {},
   "outputs": [
    {
     "data": {
      "text/plain": [
       "(8618, 36)"
      ]
     },
     "execution_count": 9,
     "metadata": {},
     "output_type": "execute_result"
    }
   ],
   "source": [
    "food_info.shape"
   ]
  },
  {
   "cell_type": "code",
   "execution_count": 10,
   "metadata": {},
   "outputs": [
    {
     "name": "stdout",
     "output_type": "stream",
     "text": [
      "NDB_No               int64\n",
      "Shrt_Desc           object\n",
      "Water_(g)          float64\n",
      "Energ_Kcal           int64\n",
      "Protein_(g)        float64\n",
      "Lipid_Tot_(g)      float64\n",
      "Ash_(g)            float64\n",
      "Carbohydrt_(g)     float64\n",
      "Fiber_TD_(g)       float64\n",
      "Sugar_Tot_(g)      float64\n",
      "Calcium_(mg)       float64\n",
      "Iron_(mg)          float64\n",
      "Magnesium_(mg)     float64\n",
      "Phosphorus_(mg)    float64\n",
      "Potassium_(mg)     float64\n",
      "Sodium_(mg)        float64\n",
      "Zinc_(mg)          float64\n",
      "Copper_(mg)        float64\n",
      "Manganese_(mg)     float64\n",
      "Selenium_(mcg)     float64\n",
      "Vit_C_(mg)         float64\n",
      "Thiamin_(mg)       float64\n",
      "Riboflavin_(mg)    float64\n",
      "Niacin_(mg)        float64\n",
      "Vit_B6_(mg)        float64\n",
      "Vit_B12_(mcg)      float64\n",
      "Vit_A_IU           float64\n",
      "Vit_A_RAE          float64\n",
      "Vit_E_(mg)         float64\n",
      "Vit_D_mcg          float64\n",
      "Vit_D_IU           float64\n",
      "Vit_K_(mcg)        float64\n",
      "FA_Sat_(g)         float64\n",
      "FA_Mono_(g)        float64\n",
      "FA_Poly_(g)        float64\n",
      "Cholestrl_(mg)     float64\n",
      "dtype: object\n"
     ]
    }
   ],
   "source": [
    "print(food_info.dtypes)"
   ]
  },
  {
   "cell_type": "markdown",
   "metadata": {},
   "source": [
    "Note: when looking through Pandas DataFrames, it is necessary to use iloc rather than loc when using _position_ for indexing"
   ]
  },
  {
   "cell_type": "code",
   "execution_count": 13,
   "metadata": {},
   "outputs": [],
   "source": [
    "last_rows = food_info.iloc[-5:]\n",
    "last_rows_loc = food_info.loc[-5:]"
   ]
  },
  {
   "cell_type": "code",
   "execution_count": 14,
   "metadata": {},
   "outputs": [
    {
     "name": "stdout",
     "output_type": "stream",
     "text": [
      "(5, 36)\n",
      "(8618, 36)\n"
     ]
    }
   ],
   "source": [
    "print(last_rows.shape)\n",
    "print(last_rows_loc.shape)"
   ]
  },
  {
   "cell_type": "code",
   "execution_count": 15,
   "metadata": {},
   "outputs": [
    {
     "name": "stdout",
     "output_type": "stream",
     "text": [
      "(8618, 36)\n"
     ]
    }
   ],
   "source": [
    "print(food_info.shape)"
   ]
  },
  {
   "cell_type": "code",
   "execution_count": 20,
   "metadata": {},
   "outputs": [
    {
     "data": {
      "text/plain": [
       "['NDB_No',\n",
       " 'Shrt_Desc',\n",
       " 'Water_(g)',\n",
       " 'Energ_Kcal',\n",
       " 'Protein_(g)',\n",
       " 'Lipid_Tot_(g)',\n",
       " 'Ash_(g)',\n",
       " 'Carbohydrt_(g)',\n",
       " 'Fiber_TD_(g)',\n",
       " 'Sugar_Tot_(g)',\n",
       " 'Calcium_(mg)',\n",
       " 'Iron_(mg)',\n",
       " 'Magnesium_(mg)',\n",
       " 'Phosphorus_(mg)',\n",
       " 'Potassium_(mg)',\n",
       " 'Sodium_(mg)',\n",
       " 'Zinc_(mg)',\n",
       " 'Copper_(mg)',\n",
       " 'Manganese_(mg)',\n",
       " 'Selenium_(mcg)',\n",
       " 'Vit_C_(mg)',\n",
       " 'Thiamin_(mg)',\n",
       " 'Riboflavin_(mg)',\n",
       " 'Niacin_(mg)',\n",
       " 'Vit_B6_(mg)',\n",
       " 'Vit_B12_(mcg)',\n",
       " 'Vit_A_IU',\n",
       " 'Vit_A_RAE',\n",
       " 'Vit_E_(mg)',\n",
       " 'Vit_D_mcg',\n",
       " 'Vit_D_IU',\n",
       " 'Vit_K_(mcg)',\n",
       " 'FA_Sat_(g)',\n",
       " 'FA_Mono_(g)',\n",
       " 'FA_Poly_(g)',\n",
       " 'Cholestrl_(mg)']"
      ]
     },
     "execution_count": 20,
     "metadata": {},
     "output_type": "execute_result"
    }
   ],
   "source": [
    "names = food_info.columns.tolist()\n",
    "names"
   ]
  },
  {
   "cell_type": "code",
   "execution_count": 26,
   "metadata": {},
   "outputs": [
    {
     "data": {
      "text/plain": [
       "['Water_(g)',\n",
       " 'Protein_(g)',\n",
       " 'Lipid_Tot_(g)',\n",
       " 'Ash_(g)',\n",
       " 'Carbohydrt_(g)',\n",
       " 'Fiber_TD_(g)',\n",
       " 'Sugar_Tot_(g)',\n",
       " 'FA_Sat_(g)',\n",
       " 'FA_Mono_(g)',\n",
       " 'FA_Poly_(g)']"
      ]
     },
     "execution_count": 26,
     "metadata": {},
     "output_type": "execute_result"
    }
   ],
   "source": [
    "import re\n",
    "gram_columns = [] \n",
    "for name in names:\n",
    "    if re.search(\"\\(g\\)$\", name) is not None:\n",
    "        gram_columns.append(name)\n",
    "gram_columns"
   ]
  },
  {
   "cell_type": "code",
   "execution_count": 23,
   "metadata": {},
   "outputs": [
    {
     "data": {
      "text/plain": [
       "True"
      ]
     },
     "execution_count": 23,
     "metadata": {},
     "output_type": "execute_result"
    }
   ],
   "source": [
    "re.search(\"\\(g\\)$\",'FA_Poly_(g)') is not None"
   ]
  },
  {
   "cell_type": "code",
   "execution_count": 27,
   "metadata": {},
   "outputs": [
    {
     "data": {
      "text/plain": [
       "['Water_(g)',\n",
       " 'Protein_(g)',\n",
       " 'Lipid_Tot_(g)',\n",
       " 'Ash_(g)',\n",
       " 'Carbohydrt_(g)',\n",
       " 'Fiber_TD_(g)',\n",
       " 'Sugar_Tot_(g)',\n",
       " 'FA_Sat_(g)',\n",
       " 'FA_Mono_(g)',\n",
       " 'FA_Poly_(g)']"
      ]
     },
     "execution_count": 27,
     "metadata": {},
     "output_type": "execute_result"
    }
   ],
   "source": [
    "gram_columns = []\n",
    "for name in names:\n",
    "    if name.endswith('(g)'):\n",
    "        gram_columns.append(name)\n",
    "gram_columns\n",
    "        "
   ]
  },
  {
   "cell_type": "code",
   "execution_count": 30,
   "metadata": {},
   "outputs": [],
   "source": [
    "grams_of_protein_per_gram_of_water = food_info[\"Protein_(g)\"] / food_info[\"Water_(g)\"]\n",
    "milligrams_of_calcium_and_iron = food_info[\"Calcium_(mg)\"] + food_info[\"Iron_(mg)\"]"
   ]
  },
  {
   "cell_type": "code",
   "execution_count": 33,
   "metadata": {},
   "outputs": [],
   "source": [
    "weighted_protein = 2 * food_info[\"Protein_(g)\"]\n",
    "weighted_fat = -0.75 * food_info[\"Lipid_Tot_(g)\"]\n",
    "initial_rating = weighted_protein + weighted_fat"
   ]
  },
  {
   "cell_type": "code",
   "execution_count": null,
   "metadata": {},
   "outputs": [],
   "source": []
  }
 ],
 "metadata": {
  "kernelspec": {
   "display_name": "Python 3",
   "language": "python",
   "name": "python3"
  },
  "language_info": {
   "codemirror_mode": {
    "name": "ipython",
    "version": 3
   },
   "file_extension": ".py",
   "mimetype": "text/x-python",
   "name": "python",
   "nbconvert_exporter": "python",
   "pygments_lexer": "ipython3",
   "version": "3.6.4"
  }
 },
 "nbformat": 4,
 "nbformat_minor": 2
}
