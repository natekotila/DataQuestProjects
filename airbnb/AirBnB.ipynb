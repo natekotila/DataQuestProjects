{
 "cells": [
  {
   "cell_type": "markdown",
   "metadata": {},
   "source": [
    "# Using k Nearest Neighbors to Estimate AirBnB Listing Price\n",
    "\n",
    "Using 2015 data from http://data.insideairbnb.com/united-states/dc/washington-dc/2015-10-03/data/listings.csv.gz I will predict the price for various listings."
   ]
  },
  {
   "cell_type": "code",
   "execution_count": 1,
   "metadata": {},
   "outputs": [],
   "source": [
    "import pandas as pd\n",
    "import numpy as np\n",
    "%matplotlib inline"
   ]
  },
  {
   "cell_type": "code",
   "execution_count": 5,
   "metadata": {},
   "outputs": [
    {
     "data": {
      "text/plain": [
       "Index(['id', 'listing_url', 'scrape_id', 'last_scraped', 'name', 'summary',\n",
       "       'space', 'description', 'experiences_offered', 'neighborhood_overview',\n",
       "       'notes', 'transit', 'thumbnail_url', 'medium_url', 'picture_url',\n",
       "       'xl_picture_url', 'host_id', 'host_url', 'host_name', 'host_since',\n",
       "       'host_location', 'host_about', 'host_response_time',\n",
       "       'host_response_rate', 'host_acceptance_rate', 'host_is_superhost',\n",
       "       'host_thumbnail_url', 'host_picture_url', 'host_neighbourhood',\n",
       "       'host_listings_count', 'host_total_listings_count',\n",
       "       'host_verifications', 'host_has_profile_pic', 'host_identity_verified',\n",
       "       'street', 'neighbourhood', 'neighbourhood_cleansed',\n",
       "       'neighbourhood_group_cleansed', 'city', 'state', 'zipcode', 'market',\n",
       "       'smart_location', 'country_code', 'country', 'latitude', 'longitude',\n",
       "       'is_location_exact', 'property_type', 'room_type', 'accommodates',\n",
       "       'bathrooms', 'bedrooms', 'beds', 'bed_type', 'amenities', 'square_feet',\n",
       "       'price', 'weekly_price', 'monthly_price', 'security_deposit',\n",
       "       'cleaning_fee', 'guests_included', 'extra_people', 'minimum_nights',\n",
       "       'maximum_nights', 'calendar_updated', 'has_availability',\n",
       "       'availability_30', 'availability_60', 'availability_90',\n",
       "       'availability_365', 'calendar_last_scraped', 'number_of_reviews',\n",
       "       'first_review', 'last_review', 'review_scores_rating',\n",
       "       'review_scores_accuracy', 'review_scores_cleanliness',\n",
       "       'review_scores_checkin', 'review_scores_communication',\n",
       "       'review_scores_location', 'review_scores_value', 'requires_license',\n",
       "       'license', 'jurisdiction_names', 'instant_bookable',\n",
       "       'cancellation_policy', 'require_guest_profile_picture',\n",
       "       'require_guest_phone_verification', 'calculated_host_listings_count',\n",
       "       'reviews_per_month'],\n",
       "      dtype='object')"
      ]
     },
     "execution_count": 5,
     "metadata": {},
     "output_type": "execute_result"
    }
   ],
   "source": [
    "listings = pd.read_csv('listings.csv')\n",
    "listings.columns"
   ]
  },
  {
   "cell_type": "code",
   "execution_count": 9,
   "metadata": {},
   "outputs": [],
   "source": [
    "cols_to_keep = ['host_response_rate',\n",
    "               'host_acceptance_rate',\n",
    "               'host_listings_count',\n",
    "               'latitude',\n",
    "               'longitude',\n",
    "               'city',\n",
    "               'zipcode',\n",
    "               'state',\n",
    "               'accommodates',\n",
    "               'room_type',\n",
    "               'bedrooms',\n",
    "               'bathrooms',\n",
    "               'beds',\n",
    "               'price',\n",
    "               'cleaning_fee',\n",
    "               'security_deposit',\n",
    "               'minimum_nights',\n",
    "               'maximum_nights',\n",
    "               'number_of_reviews']"
   ]
  },
  {
   "cell_type": "code",
   "execution_count": 10,
   "metadata": {},
   "outputs": [],
   "source": [
    "dc_listings = listings[cols_to_keep]"
   ]
  },
  {
   "cell_type": "code",
   "execution_count": 12,
   "metadata": {},
   "outputs": [
    {
     "name": "stdout",
     "output_type": "stream",
     "text": [
      "host_response_rate                  92%\n",
      "host_acceptance_rate                91%\n",
      "host_listings_count                  26\n",
      "latitude                          38.89\n",
      "longitude                      -77.0028\n",
      "city                         Washington\n",
      "zipcode                           20003\n",
      "state                                DC\n",
      "accommodates                          4\n",
      "room_type               Entire home/apt\n",
      "bedrooms                              1\n",
      "bathrooms                             1\n",
      "beds                                  2\n",
      "price                           $160.00\n",
      "cleaning_fee                    $115.00\n",
      "security_deposit                $100.00\n",
      "minimum_nights                        1\n",
      "maximum_nights                     1125\n",
      "number_of_reviews                     0\n",
      "Name: 0, dtype: object\n"
     ]
    }
   ],
   "source": [
    "print(dc_listings.iloc[0])"
   ]
  },
  {
   "cell_type": "markdown",
   "metadata": {},
   "source": [
    "## Distance Metric\n",
    "\n",
    "We will be using the standard Euclidean distance metric $\\sum\\left(p_i - q_i\\right)^2$ across numeric values for our distance metric\n",
    "\n",
    "First, I will be testing across the *accommodates* variable to get a result"
   ]
  },
  {
   "cell_type": "code",
   "execution_count": 32,
   "metadata": {},
   "outputs": [
    {
     "name": "stdout",
     "output_type": "stream",
     "text": [
      "1.0\n"
     ]
    }
   ],
   "source": [
    "new_listing = 3\n",
    "first_distance = np.sqrt((new_listing - dc_listings.iloc[0]['accommodates'])**2)\n",
    "print(first_distance)"
   ]
  },
  {
   "cell_type": "code",
   "execution_count": 33,
   "metadata": {},
   "outputs": [
    {
     "name": "stdout",
     "output_type": "stream",
     "text": [
      "1     2294\n",
      "2      503\n",
      "0      461\n",
      "3      279\n",
      "5       73\n",
      "4       35\n",
      "7       22\n",
      "6       17\n",
      "9       12\n",
      "13       8\n",
      "8        7\n",
      "12       6\n",
      "11       4\n",
      "10       2\n",
      "Name: distance, dtype: int64\n"
     ]
    },
    {
     "name": "stderr",
     "output_type": "stream",
     "text": [
      "C:\\Users\\Nate\\Miniconda3\\envs\\dataquest3\\lib\\site-packages\\ipykernel_launcher.py:1: SettingWithCopyWarning: \n",
      "A value is trying to be set on a copy of a slice from a DataFrame.\n",
      "Try using .loc[row_indexer,col_indexer] = value instead\n",
      "\n",
      "See the caveats in the documentation: http://pandas.pydata.org/pandas-docs/stable/indexing.html#indexing-view-versus-copy\n",
      "  \"\"\"Entry point for launching an IPython kernel.\n"
     ]
    }
   ],
   "source": [
    "dc_listings['distance'] = dc_listings['accommodates'].apply(lambda x: int(np.sqrt((new_listing - x)**2)))\n",
    "print(dc_listings['distance'].value_counts())"
   ]
  },
  {
   "cell_type": "code",
   "execution_count": 34,
   "metadata": {},
   "outputs": [
    {
     "data": {
      "text/plain": [
       "3723"
      ]
     },
     "execution_count": 34,
     "metadata": {},
     "output_type": "execute_result"
    }
   ],
   "source": [
    "len(dc_listings)"
   ]
  },
  {
   "cell_type": "code",
   "execution_count": 35,
   "metadata": {},
   "outputs": [],
   "source": [
    "np.random.seed(1)"
   ]
  },
  {
   "cell_type": "code",
   "execution_count": 41,
   "metadata": {},
   "outputs": [],
   "source": [
    "dc_listings = dc_listings.loc[np.random.permutation(len(dc_listings))]"
   ]
  },
  {
   "cell_type": "code",
   "execution_count": 42,
   "metadata": {},
   "outputs": [
    {
     "name": "stdout",
     "output_type": "stream",
     "text": [
      "     host_response_rate host_acceptance_rate  host_listings_count   latitude  \\\n",
      "2318                66%                  96%                    5  38.921236   \n",
      "3211               100%                 100%                    2  38.931935   \n",
      "3356                50%                 100%                    1  38.934330   \n",
      "1524                91%                  91%                    1  38.949829   \n",
      "2477                66%                  96%                    5  38.920730   \n",
      "334                 32%                  80%                    8  38.899747   \n",
      "3140                90%                  60%                    1  38.928391   \n",
      "3179                70%                  75%                    2  38.923038   \n",
      "1011                NaN                  NaN                    1  38.907382   \n",
      "293                 92%                  76%                  206  38.901786   \n",
      "\n",
      "      longitude        city zipcode state  accommodates        room_type  \\\n",
      "2318 -77.040380  Washington   20009    DC             3  Entire home/apt   \n",
      "3211 -77.031903  Washington   20010    DC             3     Private room   \n",
      "3356 -77.073567  Washington   20016    DC             3  Entire home/apt   \n",
      "1524 -76.996109  Washington   20017    DC             3  Entire home/apt   \n",
      "2477 -77.039363  Washington   20009    DC             3  Entire home/apt   \n",
      "334  -77.048477  Washington   20037    DC             3  Entire home/apt   \n",
      "3140 -77.032701  Washington   20010    DC             3  Entire home/apt   \n",
      "3179 -77.027486  Washington   20009    DC             3  Entire home/apt   \n",
      "1011 -77.035075  Washington   20005    DC             3  Entire home/apt   \n",
      "293  -77.048970  Washington   20037    DC             3  Entire home/apt   \n",
      "\n",
      "      bedrooms  bathrooms  beds    price cleaning_fee security_deposit  \\\n",
      "2318       1.0        1.0   1.0  $140.00          NaN              NaN   \n",
      "3211       1.0        1.0   2.0   $70.00       $10.00              NaN   \n",
      "3356       0.0        1.0   1.0   $64.00       $25.00              NaN   \n",
      "1524       1.0        1.0   2.0   $60.00          NaN              NaN   \n",
      "2477       1.0        1.0   1.0  $100.00          NaN              NaN   \n",
      "334        1.0        1.0   1.0  $189.00          NaN          $150.00   \n",
      "3140       1.0        1.0   1.0  $115.00          NaN              NaN   \n",
      "3179       1.0        1.0   1.0  $140.00       $75.00          $200.00   \n",
      "1011       0.0        1.0   1.0  $115.00          NaN              NaN   \n",
      "293        1.0        1.0   2.0  $259.00      $100.00              NaN   \n",
      "\n",
      "      minimum_nights  maximum_nights  number_of_reviews  distance  \n",
      "2318               3            1125                  4         0  \n",
      "3211               2            1125                122         0  \n",
      "3356               4            1125                  1         0  \n",
      "1524               2            1125                  0         0  \n",
      "2477              10            1125                  1         0  \n",
      "334                6              30                 22         0  \n",
      "3140               1               4                  6         0  \n",
      "3179               1            1125                  4         0  \n",
      "1011               1            1125                  0         0  \n",
      "293                3            1125                  0         0  \n"
     ]
    }
   ],
   "source": [
    "dc_listings = dc_listings.sort_values(by=['distance'])\n",
    "print(dc_listings.head(10))"
   ]
  },
  {
   "cell_type": "code",
   "execution_count": 45,
   "metadata": {},
   "outputs": [],
   "source": [
    "dc_listings['price'] = dc_listings['price'].str.replace(',','')\n",
    "dc_listings['price'] = dc_listings['price'].str.replace('$','')\n",
    "dc_listings['price'] = dc_listings['price'].apply(lambda x: float(x))"
   ]
  },
  {
   "cell_type": "code",
   "execution_count": 46,
   "metadata": {},
   "outputs": [],
   "source": [
    "mean_price = np.mean(dc_listings['price'].head(5))"
   ]
  },
  {
   "cell_type": "code",
   "execution_count": 47,
   "metadata": {},
   "outputs": [
    {
     "data": {
      "text/plain": [
       "86.8"
      ]
     },
     "execution_count": 47,
     "metadata": {},
     "output_type": "execute_result"
    }
   ],
   "source": [
    "mean_price"
   ]
  },
  {
   "cell_type": "markdown",
   "metadata": {},
   "source": [
    "## Resetting, and Making Predictions for Various Accomodation Sizes"
   ]
  },
  {
   "cell_type": "code",
   "execution_count": 49,
   "metadata": {},
   "outputs": [],
   "source": [
    "dc_listings = pd.read_csv('listings.csv')\n",
    "stripped_commas = dc_listings['price'].str.replace(',', '')\n",
    "stripped_dollars = stripped_commas.str.replace('$', '')\n",
    "dc_listings['price'] = stripped_dollars.astype('float')\n",
    "dc_listings = dc_listings.loc[np.random.permutation(len(dc_listings))]\n",
    "\n",
    "def predict_price(new_listing):\n",
    "    temp_df = dc_listings.copy()\n",
    "    temp_df['distance'] = temp_df['accommodates'].apply(lambda x: int(np.sqrt((new_listing - x)**2)))\n",
    "    temp_df = temp_df.sort_values(by=['distance'])\n",
    "    new_listing = np.mean(temp_df['price'].head(5))\n",
    "    return(new_listing)\n",
    "\n",
    "acc_one = predict_price(1)\n",
    "acc_two = predict_price(2)\n",
    "acc_four = predict_price(4)"
   ]
  },
  {
   "cell_type": "code",
   "execution_count": 50,
   "metadata": {},
   "outputs": [
    {
     "name": "stdout",
     "output_type": "stream",
     "text": [
      "77.0 92.0 172.6\n"
     ]
    }
   ],
   "source": [
    "print(acc_one,acc_two,acc_four)"
   ]
  },
  {
   "cell_type": "code",
   "execution_count": null,
   "metadata": {},
   "outputs": [],
   "source": []
  }
 ],
 "metadata": {
  "kernelspec": {
   "display_name": "Python 3",
   "language": "python",
   "name": "python3"
  },
  "language_info": {
   "codemirror_mode": {
    "name": "ipython",
    "version": 3
   },
   "file_extension": ".py",
   "mimetype": "text/x-python",
   "name": "python",
   "nbconvert_exporter": "python",
   "pygments_lexer": "ipython3",
   "version": "3.7.3"
  }
 },
 "nbformat": 4,
 "nbformat_minor": 4
}
