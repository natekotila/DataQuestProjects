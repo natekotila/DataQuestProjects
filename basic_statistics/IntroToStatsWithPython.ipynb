{
 "cells": [
  {
   "cell_type": "markdown",
   "metadata": {},
   "source": [
    "# Basic Statistics with Python"
   ]
  },
  {
   "cell_type": "markdown",
   "metadata": {},
   "source": [
    "In order to improve my statistics usefulness, I am going through and working on statistics using Python"
   ]
  },
  {
   "cell_type": "markdown",
   "metadata": {},
   "source": [
    "## Calculating Mean\n",
    "\n",
    "$\\mu = \\frac{\\Sigma x}{n}$"
   ]
  },
  {
   "cell_type": "code",
   "execution_count": 1,
   "metadata": {},
   "outputs": [],
   "source": [
    "car_speeds = [10,20,30,50,20]\n",
    "earthquake_intensities = [2,7,4,5,8]\n",
    "\n",
    "mean_car_speed = sum(car_speeds)/len(car_speeds)\n",
    "mean_earthquake_intensities = sum(earthquake_intensities)/len(earthquake_intensities)"
   ]
  },
  {
   "cell_type": "markdown",
   "metadata": {},
   "source": [
    "## Visualizing Data"
   ]
  },
  {
   "cell_type": "code",
   "execution_count": 4,
   "metadata": {},
   "outputs": [
    {
     "data": {
      "image/png": "[encoded data removed]",
      "text/plain": [
       "<matplotlib.figure.Figure at 0x7f12e842a048>"
      ]
     },
     "metadata": {},
     "output_type": "display_data"
    },
    {
     "data": {
      "image/png": "[encoded data removed]",
      "text/plain": [
       "<matplotlib.figure.Figure at 0x7f12c1319668>"
      ]
     },
     "metadata": {},
     "output_type": "display_data"
    }
   ],
   "source": [
    "%matplotlib inline\n",
    "day_numbers = [1,2,3,4,5,6,7]\n",
    "snail_crawl_length = [.5,2,5,10,1,.25,4]\n",
    "cars_in_parking_lot = [5,6,4,2,1,7,8]\n",
    "\n",
    "import matplotlib.pyplot as plt\n",
    "plt.plot(day_numbers, snail_crawl_length)\n",
    "plt.show()\n",
    "\n",
    "plt.plot(day_numbers, cars_in_parking_lot)\n",
    "plt.show()"
   ]
  },
  {
   "cell_type": "markdown",
   "metadata": {},
   "source": [
    "## Scaling"
   ]
  },
  {
   "cell_type": "markdown",
   "metadata": {},
   "source": [
    "Because Absolute Zero (The absence of warmth) is -459.67 degrees Fahrenheit we need to add 459.67 degrees to get fahrenheit temperatures on an absolute scale"
   ]
  },
  {
   "cell_type": "code",
   "execution_count": 7,
   "metadata": {},
   "outputs": [
    {
     "name": "stdout",
     "output_type": "stream",
     "text": [
      "[491.67, 523.6700000000001, 537.6700000000001, 561.6700000000001]\n",
      "[100, 102, 103, 110, 105, 120]\n"
     ]
    }
   ],
   "source": [
    "fahrenheit_degrees = [32, 64, 78, 102]\n",
    "yearly_town_population = [100,102,103,110,105,120]\n",
    "\n",
    "degrees_zero = []\n",
    "for temp in fahrenheit_degrees:\n",
    "    degrees_zero.append(temp+459.67)\n",
    "population_zero = yearly_town_population\n",
    "\n",
    "print(degrees_zero)\n",
    "print(population_zero)"
   ]
  },
  {
   "cell_type": "markdown",
   "metadata": {},
   "source": [
    "## Working with Categorical Data"
   ]
  },
  {
   "cell_type": "markdown",
   "metadata": {},
   "source": [
    "In order to change categories to ordinal data, we need to create a dictionary of values that need to be subbed for each category. Then, loop through the categorical responses and add their numerical counterpart to a new list"
   ]
  },
  {
   "cell_type": "code",
   "execution_count": 8,
   "metadata": {},
   "outputs": [
    {
     "name": "stdout",
     "output_type": "stream",
     "text": [
      "0.8571428571428571\n"
     ]
    }
   ],
   "source": [
    "# Results from our survey on how many cigarettes people smoke per day\n",
    "survey_responses = [\"none\", \"some\", \"a lot\", \"none\", \"a few\", \"none\", \"none\"]\n",
    "\n",
    "vals = {'none': 0, 'a few': 1, 'some': 2, 'a lot':3}\n",
    "int_responses = []\n",
    "for response in survey_responses:\n",
    "    int_responses.append(vals[response])\n",
    "\n",
    "average_smoking = sum(int_responses)/len(int_responses)\n",
    "print(average_smoking)"
   ]
  },
  {
   "cell_type": "markdown",
   "metadata": {},
   "source": [
    "## Separating Values By Category and Averaging them"
   ]
  },
  {
   "cell_type": "markdown",
   "metadata": {},
   "source": [
    "Because there are two categories, we will work with the following lists in parallel and then average their values."
   ]
  },
  {
   "cell_type": "code",
   "execution_count": 9,
   "metadata": {},
   "outputs": [
    {
     "name": "stdout",
     "output_type": "stream",
     "text": [
      "2133.3333333333335\n",
      "4166.666666666667\n"
     ]
    }
   ],
   "source": [
    "# Let's say that these lists are both columns in a matrix.  Index 0 is the first row in both, and so on.\n",
    "gender = [\"male\", \"female\", \"female\", \"male\", \"male\", \"female\"]\n",
    "savings = [1200, 5000, 3400, 2400, 2800, 4100]\n",
    "\n",
    "male_savings = 0\n",
    "male_count = 0\n",
    "\n",
    "female_savings = 0\n",
    "female_count = 0\n",
    "for i in range(len(gender)):\n",
    "    if gender[i] == 'male':\n",
    "        male_count += 1\n",
    "        male_savings += savings[i]\n",
    "    else:\n",
    "        female_count += 1\n",
    "        female_savings += savings[i]\n",
    "\n",
    "male_savings = male_savings/male_count\n",
    "female_savings = female_savings / female_count\n",
    "\n",
    "print(male_savings)\n",
    "print(female_savings)"
   ]
  },
  {
   "cell_type": "code",
   "execution_count": null,
   "metadata": {},
   "outputs": [],
   "source": []
  }
 ],
 "metadata": {
  "kernelspec": {
   "display_name": "Python 3",
   "language": "python",
   "name": "python3"
  },
  "language_info": {
   "codemirror_mode": {
    "name": "ipython",
    "version": 3
   },
   "file_extension": ".py",
   "mimetype": "text/x-python",
   "name": "python",
   "nbconvert_exporter": "python",
   "pygments_lexer": "ipython3",
   "version": "3.6.4"
  }
 },
 "nbformat": 4,
 "nbformat_minor": 2
}
