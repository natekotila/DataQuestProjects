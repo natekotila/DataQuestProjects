{
 "cells": [
  {
   "cell_type": "markdown",
   "metadata": {},
   "source": [
    "# Statistics on Titanic Dataset"
   ]
  },
  {
   "cell_type": "markdown",
   "metadata": {},
   "source": [
    "## Import the Data\n",
    "\n",
    "Working with the *Survival* dataset, we have to import, subset, and determine which variables we are interested in."
   ]
  },
  {
   "cell_type": "code",
   "execution_count": 1,
   "metadata": {},
   "outputs": [
    {
     "name": "stdout",
     "output_type": "stream",
     "text": [
      "(1310, 14)\n",
      "(0, 14)\n",
      "(293, 14)\n"
     ]
    }
   ],
   "source": [
    "import pandas\n",
    "f = \"titanic_survival.csv\"\n",
    "titanic_survival = pandas.read_csv(f)\n",
    "\n",
    "# Luckily, pandas DataFrames have a method that can drop rows that have missing data\n",
    "# Let's look at how large the DataFrame is first\n",
    "print(titanic_survival.shape)\n",
    "\n",
    "# There were 1,310 passengers on the Titanic, according to our data\n",
    "# Now let's drop any rows that have missing data\n",
    "# The DataFrame dropna method will do this for us\n",
    "# It will remove any rows with that contain missing values\n",
    "new_titanic_survival = titanic_survival.dropna()\n",
    "\n",
    "# Hmm, it looks like we were too zealous with dropping rows that contained NA values\n",
    "# We now have no rows in our DataFrame\n",
    "# This is because some of the later columns, which aren't immediately relevant to our analysis, contain a lot of missing values\n",
    "print(new_titanic_survival.shape)\n",
    "\n",
    "# We can use the subset keyword argument to the dropna method so that it only drops rows if there are NA values in certain columns\n",
    "# This line of code will drop any row where the embarkation port (where people boarded the Titanic) or cabin number is missing\n",
    "new_titanic_survival = titanic_survival.dropna(subset=[\"embarked\", \"cabin\"])\n",
    "\n",
    "# This result is much better. We've only removed the rows we needed to.\n",
    "print(new_titanic_survival.shape)"
   ]
  },
  {
   "cell_type": "code",
   "execution_count": 2,
   "metadata": {},
   "outputs": [],
   "source": [
    "age_sex_titanic_survival = titanic_survival.dropna(subset = ['age','sex'])"
   ]
  },
  {
   "cell_type": "code",
   "execution_count": 3,
   "metadata": {},
   "outputs": [
    {
     "data": {
      "image/png": "[encoded data removed]",
      "text/plain": [
       "<matplotlib.figure.Figure at 0x7f7ef9af8400>"
      ]
     },
     "metadata": {},
     "output_type": "display_data"
    }
   ],
   "source": [
    "%matplotlib inline\n",
    "import matplotlib.pyplot as plt\n",
    "import numpy\n",
    "\n",
    "median_age = numpy.median(age_sex_titanic_survival['age'])\n",
    "mean_age = age_sex_titanic_survival['age'].mean()\n",
    "\n",
    "plt.hist(age_sex_titanic_survival['age'])\n",
    "plt.axvline(median_age, color='g')\n",
    "plt.axvline(mean_age, color = 'r')\n",
    "plt.show()"
   ]
  },
  {
   "cell_type": "code",
   "execution_count": 4,
   "metadata": {},
   "outputs": [
    {
     "name": "stdout",
     "output_type": "stream",
     "text": [
      "0.4070870379484177\n",
      "0.14051780299368888\n"
     ]
    }
   ],
   "source": [
    "from scipy.stats import kurtosis\n",
    "from scipy.stats import skew\n",
    "\n",
    "skew_age = skew(age_sex_titanic_survival['age'])\n",
    "kurtosis_age = kurtosis(age_sex_titanic_survival['age'])\n",
    "\n",
    "print(skew_age)\n",
    "print(kurtosis_age)\n"
   ]
  },
  {
   "cell_type": "code",
   "execution_count": null,
   "metadata": {},
   "outputs": [],
   "source": []
  }
 ],
 "metadata": {
  "kernelspec": {
   "display_name": "Python 3",
   "language": "python",
   "name": "python3"
  },
  "language_info": {
   "codemirror_mode": {
    "name": "ipython",
    "version": 3
   },
   "file_extension": ".py",
   "mimetype": "text/x-python",
   "name": "python",
   "nbconvert_exporter": "python",
   "pygments_lexer": "ipython3",
   "version": "3.6.4"
  }
 },
 "nbformat": 4,
 "nbformat_minor": 2
}
