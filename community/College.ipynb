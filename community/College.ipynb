{
 "cells": [
  {
   "cell_type": "markdown",
   "metadata": {},
   "source": [
    "# Comparison of Employment Across College Majors"
   ]
  },
  {
   "cell_type": "markdown",
   "metadata": {},
   "source": [
    "Comparing employment statistics across majors for recent graduates vs. general population. <br>\n",
    "The first thing that we need to do is import the data, and make sure that the Major Categories are the same in both tables."
   ]
  },
  {
   "cell_type": "code",
   "execution_count": 1,
   "metadata": {},
   "outputs": [],
   "source": [
    "import pandas as pd\n",
    "import numpy as np\n",
    "\n",
    "\n",
    "#setup Dataframes for use in this project\n",
    "f_ages = 'all-ages.csv'\n",
    "f_recent = 'recent-grads.csv'\n",
    "\n",
    "all_ages = pd.read_csv(f_ages)\n",
    "recent_grads = pd.read_csv(f_recent)"
   ]
  },
  {
   "cell_type": "markdown",
   "metadata": {},
   "source": [
    "Want to make sure that the Major categories include the same set of values"
   ]
  },
  {
   "cell_type": "code",
   "execution_count": 2,
   "metadata": {},
   "outputs": [
    {
     "data": {
      "text/plain": [
       "True"
      ]
     },
     "execution_count": 2,
     "metadata": {},
     "output_type": "execute_result"
    }
   ],
   "source": [
    "set(all_ages['Major_category'].unique()) == set(recent_grads['Major_category'].unique())"
   ]
  },
  {
   "cell_type": "code",
   "execution_count": 3,
   "metadata": {},
   "outputs": [
    {
     "data": {
      "text/plain": [
       "{'Agriculture & Natural Resources': 632437,\n",
       " 'Arts': 1805865,\n",
       " 'Biology & Life Science': 1338186,\n",
       " 'Business': 9858741,\n",
       " 'Communications & Journalism': 1803822,\n",
       " 'Computers & Mathematics': 1781378,\n",
       " 'Education': 4700118,\n",
       " 'Engineering': 3576013,\n",
       " 'Health': 2950859,\n",
       " 'Humanities & Liberal Arts': 3738335,\n",
       " 'Industrial Arts & Consumer Services': 1033798,\n",
       " 'Interdisciplinary': 45199,\n",
       " 'Law & Public Policy': 902926,\n",
       " 'Physical Sciences': 1025318,\n",
       " 'Psychology & Social Work': 1987278,\n",
       " 'Social Science': 2654125}"
      ]
     },
     "execution_count": 3,
     "metadata": {},
     "output_type": "execute_result"
    }
   ],
   "source": [
    "cats = all_ages['Major_category'].unique()\n",
    "\n",
    "aa_cat_counts = {}\n",
    "rg_cat_counts = {}\n",
    "\n",
    "for cat in cats:\n",
    "    aa_cat_counts[cat] = all_ages[all_ages['Major_category'] == cat]['Total'].sum()\n",
    "    rg_cat_counts[cat] = recent_grads[recent_grads['Major_category'] == cat]['Total'].sum()\n",
    "aa_cat_counts"
   ]
  },
  {
   "cell_type": "markdown",
   "metadata": {},
   "source": [
    "Check out how many more people are in the *all ages* table vs the *recent grads* table"
   ]
  },
  {
   "cell_type": "code",
   "execution_count": 7,
   "metadata": {},
   "outputs": [
    {
     "name": "stdout",
     "output_type": "stream",
     "text": [
      "Agriculture & Natural Resources :  556817.0\n",
      "Biology & Life Science :  884324.0\n",
      "Engineering :  3038430.0\n",
      "Humanities & Liberal Arts :  3024867.0\n",
      "Communications & Journalism :  1411221.0\n",
      "Computers & Mathematics :  1482370.0\n",
      "Industrial Arts & Consumer Services :  804006.0\n",
      "Education :  4140989.0\n",
      "Law & Public Policy :  723819.0\n",
      "Interdisciplinary :  32903.0\n",
      "Health :  2487629.0\n",
      "Social Science :  2124159.0\n",
      "Physical Sciences :  839839.0\n",
      "Psychology & Social Work :  1506271.0\n",
      "Arts :  1448735.0\n",
      "Business :  8556365.0\n"
     ]
    }
   ],
   "source": [
    "for cat in cats:\n",
    "    print(cat,': ',aa_cat_counts[cat]-rg_cat_counts[cat])"
   ]
  },
  {
   "cell_type": "code",
   "execution_count": 4,
   "metadata": {},
   "outputs": [
    {
     "data": {
      "text/plain": [
       "0.09858891195563152"
      ]
     },
     "execution_count": 4,
     "metadata": {},
     "output_type": "execute_result"
    }
   ],
   "source": [
    "low_wage_proportion = recent_grads['Low_wage_jobs'].sum()/recent_grads['Total'].sum()\n",
    "low_wage_proportion"
   ]
  },
  {
   "cell_type": "markdown",
   "metadata": {},
   "source": [
    "## Comparison of Unemployment Rates for Recent Grads vs General Population"
   ]
  },
  {
   "cell_type": "code",
   "execution_count": 9,
   "metadata": {},
   "outputs": [
    {
     "name": "stdout",
     "output_type": "stream",
     "text": [
      "44\n"
     ]
    }
   ],
   "source": [
    "majors = recent_grads['Major'].unique()\n",
    "\n",
    "lower = []\n",
    "\n",
    "rg_lower_count = 0\n",
    "for major in majors:\n",
    "    aa = float(all_ages[all_ages['Major'] == major]['Unemployment_rate'])\n",
    "    rg = float(recent_grads[recent_grads['Major'] == major]['Unemployment_rate'])\n",
    "    if rg < aa:\n",
    "        rg_lower_count += 1\n",
    "        lower.append(major)\n",
    "        \n",
    "print(rg_lower_count)"
   ]
  },
  {
   "cell_type": "markdown",
   "metadata": {},
   "source": [
    "**Note to Self:**\n",
    "In order to compare aa and rg, they must be cast to *float*. Initially, they are series objects, and cannot be directly compared to each other."
   ]
  },
  {
   "cell_type": "markdown",
   "metadata": {},
   "source": [
    "The following 44 Majors have lower unemployment for recent grads than for general population."
   ]
  },
  {
   "cell_type": "code",
   "execution_count": 10,
   "metadata": {},
   "outputs": [
    {
     "name": "stdout",
     "output_type": "stream",
     "text": [
      "['PETROLEUM ENGINEERING', 'METALLURGICAL ENGINEERING', 'ASTRONOMY AND ASTROPHYSICS', 'ENGINEERING MECHANICS PHYSICS AND SCIENCE', 'INDUSTRIAL AND MANUFACTURING ENGINEERING', 'ARCHITECTURAL ENGINEERING', 'COURT REPORTING', 'MATERIALS ENGINEERING AND MATERIALS SCIENCE', 'MISCELLANEOUS FINE ARTS', 'INDUSTRIAL PRODUCTION TECHNOLOGIES', 'MATHEMATICS', 'PHYSICS', 'ENGINEERING AND INDUSTRIAL MANAGEMENT', 'MATHEMATICS AND COMPUTER SCIENCE', 'GENERAL AGRICULTURE', 'MISCELLANEOUS ENGINEERING TECHNOLOGIES', 'GENETICS', 'UNITED STATES HISTORY', 'PHYSICAL SCIENCES', 'MILITARY TECHNOLOGIES', 'CHEMISTRY', 'ELECTRICAL, MECHANICAL, AND PRECISION TECHNOLOGIES AND PRODUCTION', 'BOTANY', 'HUMAN RESOURCES AND PERSONNEL MANAGEMENT', 'GEOSCIENCES', 'SOCIAL PSYCHOLOGY', 'AREA ETHNIC AND CIVILIZATION STUDIES', 'SPECIAL NEEDS EDUCATION', 'NEUROSCIENCE', 'MULTI/INTERDISCIPLINARY STUDIES', 'ATMOSPHERIC SCIENCES AND METEOROLOGY', 'SOIL SCIENCE', 'MATHEMATICS TEACHER EDUCATION', 'HEALTH AND MEDICAL PREPARATORY PROGRAMS', 'ART AND MUSIC EDUCATION', 'ART HISTORY AND CRITICISM', 'MISCELLANEOUS PSYCHOLOGY', 'HUMAN SERVICES AND COMMUNITY ORGANIZATION', 'HUMANITIES', 'EARLY CHILDHOOD EDUCATION', 'DRAMA AND THEATER ARTS', 'ZOOLOGY', 'EDUCATIONAL PSYCHOLOGY', 'COUNSELING PSYCHOLOGY']\n"
     ]
    }
   ],
   "source": [
    "print(lower)"
   ]
  },
  {
   "cell_type": "code",
   "execution_count": null,
   "metadata": {},
   "outputs": [],
   "source": []
  }
 ],
 "metadata": {
  "kernelspec": {
   "display_name": "Python 3",
   "language": "python",
   "name": "python3"
  },
  "language_info": {
   "codemirror_mode": {
    "name": "ipython",
    "version": 3
   },
   "file_extension": ".py",
   "mimetype": "text/x-python",
   "name": "python",
   "nbconvert_exporter": "python",
   "pygments_lexer": "ipython3",
   "version": "3.6.4"
  }
 },
 "nbformat": 4,
 "nbformat_minor": 2
}
