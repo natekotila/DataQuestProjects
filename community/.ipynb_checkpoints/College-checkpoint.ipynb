{
 "cells": [
  {
   "cell_type": "code",
   "execution_count": 28,
   "metadata": {},
   "outputs": [],
   "source": [
    "import pandas as pd\n",
    "import numpy as np\n",
    "\n",
    "\n",
    "#setup Dataframes for use in this project\n",
    "f_ages = 'all-ages.csv'\n",
    "f_recent = 'recent-grads.csv'\n",
    "\n",
    "all_ages = pd.read_csv(f_ages)\n",
    "recent_grads = pd.read_csv(f_recent)"
   ]
  },
  {
   "cell_type": "markdown",
   "metadata": {},
   "source": [
    "Want to make sure that the Major categories include the same set of values"
   ]
  },
  {
   "cell_type": "code",
   "execution_count": 9,
   "metadata": {},
   "outputs": [
    {
     "data": {
      "text/plain": [
       "True"
      ]
     },
     "execution_count": 9,
     "metadata": {},
     "output_type": "execute_result"
    }
   ],
   "source": [
    "set(all_ages['Major_category'].unique()) == set(recent_grads['Major_category'].unique())"
   ]
  },
  {
   "cell_type": "code",
   "execution_count": 21,
   "metadata": {},
   "outputs": [
    {
     "data": {
      "text/plain": [
       "{'Agriculture & Natural Resources': 632437,\n",
       " 'Arts': 1805865,\n",
       " 'Biology & Life Science': 1338186,\n",
       " 'Business': 9858741,\n",
       " 'Communications & Journalism': 1803822,\n",
       " 'Computers & Mathematics': 1781378,\n",
       " 'Education': 4700118,\n",
       " 'Engineering': 3576013,\n",
       " 'Health': 2950859,\n",
       " 'Humanities & Liberal Arts': 3738335,\n",
       " 'Industrial Arts & Consumer Services': 1033798,\n",
       " 'Interdisciplinary': 45199,\n",
       " 'Law & Public Policy': 902926,\n",
       " 'Physical Sciences': 1025318,\n",
       " 'Psychology & Social Work': 1987278,\n",
       " 'Social Science': 2654125}"
      ]
     },
     "execution_count": 21,
     "metadata": {},
     "output_type": "execute_result"
    }
   ],
   "source": [
    "cats = all_ages['Major_category'].unique()\n",
    "\n",
    "aa_cat_counts = {}\n",
    "rg_cat_counts = {}\n",
    "\n",
    "for cat in cats:\n",
    "    aa_cat_counts[cat] = all_ages[all_ages['Major_category'] == cat]['Total'].sum()\n",
    "    rg_cat_counts[cat] = recent_grads[recent_grads['Major_category'] == cat]['Total'].sum()\n",
    "aa_cat_counts"
   ]
  },
  {
   "cell_type": "code",
   "execution_count": 22,
   "metadata": {},
   "outputs": [
    {
     "data": {
      "text/plain": [
       "0.09858891195563152"
      ]
     },
     "execution_count": 22,
     "metadata": {},
     "output_type": "execute_result"
    }
   ],
   "source": [
    "low_wage_proportion = recent_grads['Low_wage_jobs'].sum()/recent_grads['Total'].sum()\n",
    "low_wage_proportion"
   ]
  },
  {
   "cell_type": "code",
   "execution_count": 38,
   "metadata": {},
   "outputs": [
    {
     "name": "stdout",
     "output_type": "stream",
     "text": [
      "44\n"
     ]
    }
   ],
   "source": [
    "majors = recent_grads['Major'].unique()\n",
    "\n",
    "rg_lower_count = 0\n",
    "for major in majors:\n",
    "    aa = float(all_ages[all_ages['Major'] == major]['Unemployment_rate'])\n",
    "    rg = float(recent_grads[recent_grads['Major'] == major]['Unemployment_rate'])\n",
    "    if rg < aa:\n",
    "        rg_lower_count += 1\n",
    "        \n",
    "print(rg_lower_count)"
   ]
  },
  {
   "cell_type": "markdown",
   "metadata": {},
   "source": [
    "In order to compare aa and gg, they must be cast to *float*. Initially, they are series objects, and cannot be directly compared to each other."
   ]
  },
  {
   "cell_type": "code",
   "execution_count": 37,
   "metadata": {},
   "outputs": [
    {
     "ename": "ValueError",
     "evalue": "Can only compare identically-labeled Series objects",
     "output_type": "error",
     "traceback": [
      "\u001b[0;31m---------------------------------------------------------------------------\u001b[0m",
      "\u001b[0;31mValueError\u001b[0m                                Traceback (most recent call last)",
      "\u001b[0;32m<ipython-input-37-1e2cbe9b77d1>\u001b[0m in \u001b[0;36m<module>\u001b[0;34m()\u001b[0m\n\u001b[0;32m----> 1\u001b[0;31m \u001b[0mrecent_grads\u001b[0m\u001b[0;34m[\u001b[0m\u001b[0mrecent_grads\u001b[0m\u001b[0;34m[\u001b[0m\u001b[0;34m'Major'\u001b[0m\u001b[0;34m]\u001b[0m \u001b[0;34m==\u001b[0m \u001b[0;34m'MATHEMATICS'\u001b[0m\u001b[0;34m]\u001b[0m\u001b[0;34m[\u001b[0m\u001b[0;34m'Unemployment_rate'\u001b[0m\u001b[0;34m]\u001b[0m \u001b[0;34m<\u001b[0m \u001b[0mall_ages\u001b[0m\u001b[0;34m[\u001b[0m\u001b[0mall_ages\u001b[0m\u001b[0;34m[\u001b[0m\u001b[0;34m'Major'\u001b[0m\u001b[0;34m]\u001b[0m \u001b[0;34m==\u001b[0m \u001b[0;34m'MATHEMATICS'\u001b[0m\u001b[0;34m]\u001b[0m\u001b[0;34m[\u001b[0m\u001b[0;34m'Unemployment_rate'\u001b[0m\u001b[0;34m]\u001b[0m\u001b[0;34m\u001b[0m\u001b[0m\n\u001b[0m",
      "\u001b[0;32m~/anaconda3/lib/python3.6/site-packages/pandas/core/ops.py\u001b[0m in \u001b[0;36mwrapper\u001b[0;34m(self, other, axis)\u001b[0m\n\u001b[1;32m    834\u001b[0m             \u001b[0;32mif\u001b[0m \u001b[0;32mnot\u001b[0m \u001b[0mself\u001b[0m\u001b[0;34m.\u001b[0m\u001b[0m_indexed_same\u001b[0m\u001b[0;34m(\u001b[0m\u001b[0mother\u001b[0m\u001b[0;34m)\u001b[0m\u001b[0;34m:\u001b[0m\u001b[0;34m\u001b[0m\u001b[0m\n\u001b[1;32m    835\u001b[0m                 \u001b[0mmsg\u001b[0m \u001b[0;34m=\u001b[0m \u001b[0;34m'Can only compare identically-labeled Series objects'\u001b[0m\u001b[0;34m\u001b[0m\u001b[0m\n\u001b[0;32m--> 836\u001b[0;31m                 \u001b[0;32mraise\u001b[0m \u001b[0mValueError\u001b[0m\u001b[0;34m(\u001b[0m\u001b[0mmsg\u001b[0m\u001b[0;34m)\u001b[0m\u001b[0;34m\u001b[0m\u001b[0m\n\u001b[0m\u001b[1;32m    837\u001b[0m             return self._constructor(na_op(self.values, other.values),\n\u001b[1;32m    838\u001b[0m                                      index=self.index, name=name)\n",
      "\u001b[0;31mValueError\u001b[0m: Can only compare identically-labeled Series objects"
     ]
    }
   ],
   "source": []
  },
  {
   "cell_type": "code",
   "execution_count": null,
   "metadata": {},
   "outputs": [],
   "source": []
  }
 ],
 "metadata": {
  "kernelspec": {
   "display_name": "Python 3",
   "language": "python",
   "name": "python3"
  },
  "language_info": {
   "codemirror_mode": {
    "name": "ipython",
    "version": 3
   },
   "file_extension": ".py",
   "mimetype": "text/x-python",
   "name": "python",
   "nbconvert_exporter": "python",
   "pygments_lexer": "ipython3",
   "version": "3.6.4"
  }
 },
 "nbformat": 4,
 "nbformat_minor": 2
}
