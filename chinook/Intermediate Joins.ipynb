{
 "cells": [
  {
   "cell_type": "markdown",
   "metadata": {},
   "source": [
    "# Intermediate Joins in SQL Using Chinook Database\n",
    "The goal for this notebook is to continue practicing SQL joins using a database with more than two tables in it. This will allow for some interesting queries.\n",
    "\n",
    "<img src = 'chinook-schema.svg' width = 600>"
   ]
  },
  {
   "cell_type": "code",
   "execution_count": 1,
   "metadata": {},
   "outputs": [],
   "source": [
    "%%capture\n",
    "%load_ext sql\n",
    "%sql sqlite:///chinook.db"
   ]
  },
  {
   "cell_type": "markdown",
   "metadata": {},
   "source": [
    "First Query:\n",
    "\n",
    "1. The id of the track, track_id.\n",
    "2. The name of the track, track_name.\n",
    "3. The name of media type of the track, track_type.\n",
    "4. The price that the customer paid for the track, unit_price.\n",
    "5. The quantity of the track that was purchased, quantity.\n",
    "\n",
    "Based on the schema above, this will involve three separate tables:\n",
    "\n",
    "1. Track\n",
    "2. Invoice Line\n",
    "3. Media Type\n"
   ]
  },
  {
   "cell_type": "code",
   "execution_count": 6,
   "metadata": {},
   "outputs": [
    {
     "name": "stdout",
     "output_type": "stream",
     "text": [
      " * sqlite:///chinook.db\n",
      "Done.\n"
     ]
    },
    {
     "data": {
      "text/html": [
       "<table>\n",
       "    <tr>\n",
       "        <th>track_id</th>\n",
       "        <th>track_name</th>\n",
       "        <th>media_type</th>\n",
       "        <th>unit_price</th>\n",
       "        <th>quantity</th>\n",
       "    </tr>\n",
       "    <tr>\n",
       "        <td>3448</td>\n",
       "        <td>Lamentations of Jeremiah, First Set \\ Incipit Lamentatio</td>\n",
       "        <td>Protected AAC audio file</td>\n",
       "        <td>0.99</td>\n",
       "        <td>1</td>\n",
       "    </tr>\n",
       "    <tr>\n",
       "        <td>2560</td>\n",
       "        <td>Violent Pornography</td>\n",
       "        <td>MPEG audio file</td>\n",
       "        <td>0.99</td>\n",
       "        <td>1</td>\n",
       "    </tr>\n",
       "    <tr>\n",
       "        <td>3336</td>\n",
       "        <td>War Pigs</td>\n",
       "        <td>Purchased AAC audio file</td>\n",
       "        <td>0.99</td>\n",
       "        <td>1</td>\n",
       "    </tr>\n",
       "    <tr>\n",
       "        <td>829</td>\n",
       "        <td>Let&#x27;s Get Rocked</td>\n",
       "        <td>MPEG audio file</td>\n",
       "        <td>0.99</td>\n",
       "        <td>1</td>\n",
       "    </tr>\n",
       "    <tr>\n",
       "        <td>1872</td>\n",
       "        <td>Attitude</td>\n",
       "        <td>MPEG audio file</td>\n",
       "        <td>0.99</td>\n",
       "        <td>1</td>\n",
       "    </tr>\n",
       "    <tr>\n",
       "        <td>748</td>\n",
       "        <td>Dealer</td>\n",
       "        <td>MPEG audio file</td>\n",
       "        <td>0.99</td>\n",
       "        <td>1</td>\n",
       "    </tr>\n",
       "    <tr>\n",
       "        <td>1778</td>\n",
       "        <td>You&#x27;re What&#x27;s Happening (In The World Today)</td>\n",
       "        <td>MPEG audio file</td>\n",
       "        <td>0.99</td>\n",
       "        <td>1</td>\n",
       "    </tr>\n",
       "    <tr>\n",
       "        <td>2514</td>\n",
       "        <td>Spoonman</td>\n",
       "        <td>MPEG audio file</td>\n",
       "        <td>0.99</td>\n",
       "        <td>1</td>\n",
       "    </tr>\n",
       "</table>"
      ],
      "text/plain": [
       "[(3448, 'Lamentations of Jeremiah, First Set \\\\ Incipit Lamentatio', 'Protected AAC audio file', 0.99, 1),\n",
       " (2560, 'Violent Pornography', 'MPEG audio file', 0.99, 1),\n",
       " (3336, 'War Pigs', 'Purchased AAC audio file', 0.99, 1),\n",
       " (829, \"Let's Get Rocked\", 'MPEG audio file', 0.99, 1),\n",
       " (1872, 'Attitude', 'MPEG audio file', 0.99, 1),\n",
       " (748, 'Dealer', 'MPEG audio file', 0.99, 1),\n",
       " (1778, \"You're What's Happening (In The World Today)\", 'MPEG audio file', 0.99, 1),\n",
       " (2514, 'Spoonman', 'MPEG audio file', 0.99, 1)]"
      ]
     },
     "execution_count": 6,
     "metadata": {},
     "output_type": "execute_result"
    }
   ],
   "source": [
    "%%sql\n",
    "SELECT tr.track_id, \n",
    "       tr.name track_name, \n",
    "       mt.name AS media_type, \n",
    "       tr.unit_price, \n",
    "       il.quantity\n",
    "FROM invoice_line il\n",
    "INNER JOIN track tr ON tr.track_id = il.track_id\n",
    "INNER JOIN media_type mt ON mt.media_type_id = tr.media_type_id\n",
    "WHERE il.invoice_id = 4;"
   ]
  },
  {
   "cell_type": "markdown",
   "metadata": {},
   "source": [
    "Second Query:\n",
    "\n",
    "Add a column containing the artists name to the previous query.\n",
    "\n",
    "1. The column should be called artist_name\n",
    "2. The column should be placed between track_name and track_type\n",
    "\n",
    "To get this single extra column, I will have to add two joins. \n",
    "\n",
    "1. Track table joins Album table on album_id\n",
    "2. Album table joins Artist table on artist_id\n",
    "\n",
    "Then, I will get Artist name from the name value of the Artist table\n"
   ]
  },
  {
   "cell_type": "code",
   "execution_count": 7,
   "metadata": {},
   "outputs": [
    {
     "name": "stdout",
     "output_type": "stream",
     "text": [
      " * sqlite:///chinook.db\n",
      "Done.\n"
     ]
    },
    {
     "data": {
      "text/html": [
       "<table>\n",
       "    <tr>\n",
       "        <th>track_id</th>\n",
       "        <th>track_name</th>\n",
       "        <th>artist_name</th>\n",
       "        <th>media_type</th>\n",
       "        <th>unit_price</th>\n",
       "        <th>quantity</th>\n",
       "    </tr>\n",
       "    <tr>\n",
       "        <td>3448</td>\n",
       "        <td>Lamentations of Jeremiah, First Set \\ Incipit Lamentatio</td>\n",
       "        <td>The King&#x27;s Singers</td>\n",
       "        <td>Protected AAC audio file</td>\n",
       "        <td>0.99</td>\n",
       "        <td>1</td>\n",
       "    </tr>\n",
       "    <tr>\n",
       "        <td>2560</td>\n",
       "        <td>Violent Pornography</td>\n",
       "        <td>System Of A Down</td>\n",
       "        <td>MPEG audio file</td>\n",
       "        <td>0.99</td>\n",
       "        <td>1</td>\n",
       "    </tr>\n",
       "    <tr>\n",
       "        <td>3336</td>\n",
       "        <td>War Pigs</td>\n",
       "        <td>Cake</td>\n",
       "        <td>Purchased AAC audio file</td>\n",
       "        <td>0.99</td>\n",
       "        <td>1</td>\n",
       "    </tr>\n",
       "    <tr>\n",
       "        <td>829</td>\n",
       "        <td>Let&#x27;s Get Rocked</td>\n",
       "        <td>Def Leppard</td>\n",
       "        <td>MPEG audio file</td>\n",
       "        <td>0.99</td>\n",
       "        <td>1</td>\n",
       "    </tr>\n",
       "    <tr>\n",
       "        <td>1872</td>\n",
       "        <td>Attitude</td>\n",
       "        <td>Metallica</td>\n",
       "        <td>MPEG audio file</td>\n",
       "        <td>0.99</td>\n",
       "        <td>1</td>\n",
       "    </tr>\n",
       "    <tr>\n",
       "        <td>748</td>\n",
       "        <td>Dealer</td>\n",
       "        <td>Deep Purple</td>\n",
       "        <td>MPEG audio file</td>\n",
       "        <td>0.99</td>\n",
       "        <td>1</td>\n",
       "    </tr>\n",
       "    <tr>\n",
       "        <td>1778</td>\n",
       "        <td>You&#x27;re What&#x27;s Happening (In The World Today)</td>\n",
       "        <td>Marvin Gaye</td>\n",
       "        <td>MPEG audio file</td>\n",
       "        <td>0.99</td>\n",
       "        <td>1</td>\n",
       "    </tr>\n",
       "    <tr>\n",
       "        <td>2514</td>\n",
       "        <td>Spoonman</td>\n",
       "        <td>Soundgarden</td>\n",
       "        <td>MPEG audio file</td>\n",
       "        <td>0.99</td>\n",
       "        <td>1</td>\n",
       "    </tr>\n",
       "</table>"
      ],
      "text/plain": [
       "[(3448, 'Lamentations of Jeremiah, First Set \\\\ Incipit Lamentatio', \"The King's Singers\", 'Protected AAC audio file', 0.99, 1),\n",
       " (2560, 'Violent Pornography', 'System Of A Down', 'MPEG audio file', 0.99, 1),\n",
       " (3336, 'War Pigs', 'Cake', 'Purchased AAC audio file', 0.99, 1),\n",
       " (829, \"Let's Get Rocked\", 'Def Leppard', 'MPEG audio file', 0.99, 1),\n",
       " (1872, 'Attitude', 'Metallica', 'MPEG audio file', 0.99, 1),\n",
       " (748, 'Dealer', 'Deep Purple', 'MPEG audio file', 0.99, 1),\n",
       " (1778, \"You're What's Happening (In The World Today)\", 'Marvin Gaye', 'MPEG audio file', 0.99, 1),\n",
       " (2514, 'Spoonman', 'Soundgarden', 'MPEG audio file', 0.99, 1)]"
      ]
     },
     "execution_count": 7,
     "metadata": {},
     "output_type": "execute_result"
    }
   ],
   "source": [
    "%%sql\n",
    "SELECT tr.track_id, \n",
    "       tr.name track_name, \n",
    "       ar.name artist_name, \n",
    "       mt.name AS media_type, \n",
    "       tr.unit_price, \n",
    "       il.quantity\n",
    "FROM invoice_line il\n",
    "INNER JOIN track tr ON tr.track_id = il.track_id\n",
    "INNER JOIN media_type mt ON mt.media_type_id = tr.media_type_id\n",
    "INNER JOIN album al ON al.album_id = tr.album_id\n",
    "INNER JOIN artist ar ON ar.artist_id = al.artist_id\n",
    "WHERE il.invoice_id = 4;"
   ]
  },
  {
   "cell_type": "markdown",
   "metadata": {},
   "source": [
    "Third Query:\n",
    "\n",
    "Write a query that returns the top 5 albums, as calculated by the number of times a track from that album has been purchased. Your query should be sorted from most tracks purchased to least tracks purchased and return the following columns, in order:\n",
    "\n",
    "1. album, the title of the album\n",
    "2. artist, the artist who produced the album\n",
    "3. tracks_purchased the total number of tracks purchased from that album\n",
    "\n",
    "Tables Involved:\n",
    "1. album  artist.artist_id = album.artist_id and album.album_id = track.album_id\n",
    "2. artist (name)\n",
    "2. track (track_id) track.track_id = invoice_line.track_id\n",
    "3. invoice line\n"
   ]
  },
  {
   "cell_type": "code",
   "execution_count": 14,
   "metadata": {},
   "outputs": [
    {
     "name": "stdout",
     "output_type": "stream",
     "text": [
      " * sqlite:///chinook.db\n",
      "Done.\n"
     ]
    },
    {
     "data": {
      "text/html": [
       "<table>\n",
       "    <tr>\n",
       "        <th>album</th>\n",
       "        <th>artist</th>\n",
       "        <th>tracks_purchased</th>\n",
       "    </tr>\n",
       "    <tr>\n",
       "        <td>Are You Experienced?</td>\n",
       "        <td>Jimi Hendrix</td>\n",
       "        <td>187</td>\n",
       "    </tr>\n",
       "    <tr>\n",
       "        <td>Faceless</td>\n",
       "        <td>Godsmack</td>\n",
       "        <td>96</td>\n",
       "    </tr>\n",
       "    <tr>\n",
       "        <td>Mezmerize</td>\n",
       "        <td>System Of A Down</td>\n",
       "        <td>93</td>\n",
       "    </tr>\n",
       "    <tr>\n",
       "        <td>Get Born</td>\n",
       "        <td>JET</td>\n",
       "        <td>90</td>\n",
       "    </tr>\n",
       "    <tr>\n",
       "        <td>The Doors</td>\n",
       "        <td>The Doors</td>\n",
       "        <td>83</td>\n",
       "    </tr>\n",
       "</table>"
      ],
      "text/plain": [
       "[('Are You Experienced?', 'Jimi Hendrix', 187),\n",
       " ('Faceless', 'Godsmack', 96),\n",
       " ('Mezmerize', 'System Of A Down', 93),\n",
       " ('Get Born', 'JET', 90),\n",
       " ('The Doors', 'The Doors', 83)]"
      ]
     },
     "execution_count": 14,
     "metadata": {},
     "output_type": "execute_result"
    }
   ],
   "source": [
    "%%sql\n",
    "SELECT ta.album_name album,\n",
    "       ta.artist_name artist,\n",
    "       COUNT(*) tracks_purchased\n",
    "FROM invoice_line il\n",
    "INNER JOIN (SELECT al.title album_name,\n",
    "                   ar.name artist_name,\n",
    "                   tr.track_id track_id\n",
    "            FROM track tr\n",
    "            INNER JOIN album al ON tr.album_id = al.album_id\n",
    "            INNER JOIN artist ar ON ar.artist_id = al.artist_id\n",
    "            ) ta\n",
    "ON ta.track_id = il.track_id\n",
    "GROUP BY album\n",
    "ORDER BY tracks_purchased DESC\n",
    "LIMIT 5;"
   ]
  },
  {
   "cell_type": "markdown",
   "metadata": {},
   "source": [
    "## Recursive Joins\n",
    "\n",
    "Write a query that returns information about each employee and their supervisor.\n",
    "\n",
    "The report should include employees even if they do not report to another employee.\n",
    "\n",
    "The report should be sorted alphabetically by the employee_name column.\n",
    "\n",
    "Your query should return the following columns, in order:\n",
    "\n",
    "1. employee_name - containing the first_name and last_name columns separated by a space, eg Luke Skywalker\n",
    "2. employee_title - the title of that employee\n",
    "3. supervisor_name - the first and last name of the person the employee reports to, in the same format as employee_name\n",
    "4. supervisor_title - the title of the person the employee reports to\n",
    "\n",
    "\n",
    "Tables that will be involved for this:\n",
    "\n",
    "Only the *employee* table\n"
   ]
  },
  {
   "cell_type": "code",
   "execution_count": 18,
   "metadata": {},
   "outputs": [
    {
     "name": "stdout",
     "output_type": "stream",
     "text": [
      " * sqlite:///chinook.db\n",
      "Done.\n"
     ]
    },
    {
     "data": {
      "text/html": [
       "<table>\n",
       "    <tr>\n",
       "        <th>employee_name</th>\n",
       "        <th>employee_title</th>\n",
       "        <th>supervisor_name</th>\n",
       "        <th>supervisor_title</th>\n",
       "    </tr>\n",
       "    <tr>\n",
       "        <td>Andrew Adams</td>\n",
       "        <td>General Manager</td>\n",
       "        <td>None</td>\n",
       "        <td>None</td>\n",
       "    </tr>\n",
       "    <tr>\n",
       "        <td>Jane Peacock</td>\n",
       "        <td>Sales Support Agent</td>\n",
       "        <td>Nancy Edwards</td>\n",
       "        <td>Sales Manager</td>\n",
       "    </tr>\n",
       "    <tr>\n",
       "        <td>Laura Callahan</td>\n",
       "        <td>IT Staff</td>\n",
       "        <td>Michael Mitchell</td>\n",
       "        <td>IT Manager</td>\n",
       "    </tr>\n",
       "    <tr>\n",
       "        <td>Margaret Park</td>\n",
       "        <td>Sales Support Agent</td>\n",
       "        <td>Nancy Edwards</td>\n",
       "        <td>Sales Manager</td>\n",
       "    </tr>\n",
       "    <tr>\n",
       "        <td>Michael Mitchell</td>\n",
       "        <td>IT Manager</td>\n",
       "        <td>Andrew Adams</td>\n",
       "        <td>General Manager</td>\n",
       "    </tr>\n",
       "    <tr>\n",
       "        <td>Nancy Edwards</td>\n",
       "        <td>Sales Manager</td>\n",
       "        <td>Andrew Adams</td>\n",
       "        <td>General Manager</td>\n",
       "    </tr>\n",
       "    <tr>\n",
       "        <td>Robert King</td>\n",
       "        <td>IT Staff</td>\n",
       "        <td>Michael Mitchell</td>\n",
       "        <td>IT Manager</td>\n",
       "    </tr>\n",
       "    <tr>\n",
       "        <td>Steve Johnson</td>\n",
       "        <td>Sales Support Agent</td>\n",
       "        <td>Nancy Edwards</td>\n",
       "        <td>Sales Manager</td>\n",
       "    </tr>\n",
       "</table>"
      ],
      "text/plain": [
       "[('Andrew Adams', 'General Manager', None, None),\n",
       " ('Jane Peacock', 'Sales Support Agent', 'Nancy Edwards', 'Sales Manager'),\n",
       " ('Laura Callahan', 'IT Staff', 'Michael Mitchell', 'IT Manager'),\n",
       " ('Margaret Park', 'Sales Support Agent', 'Nancy Edwards', 'Sales Manager'),\n",
       " ('Michael Mitchell', 'IT Manager', 'Andrew Adams', 'General Manager'),\n",
       " ('Nancy Edwards', 'Sales Manager', 'Andrew Adams', 'General Manager'),\n",
       " ('Robert King', 'IT Staff', 'Michael Mitchell', 'IT Manager'),\n",
       " ('Steve Johnson', 'Sales Support Agent', 'Nancy Edwards', 'Sales Manager')]"
      ]
     },
     "execution_count": 18,
     "metadata": {},
     "output_type": "execute_result"
    }
   ],
   "source": [
    "%%sql\n",
    "SELECT e1.first_name || ' ' || e1.last_name AS employee_name,\n",
    "       e1.title employee_title,\n",
    "       e2.first_name || ' ' || e2.last_name AS supervisor_name,\n",
    "       e2.title supervisor_title\n",
    "FROM employee e1\n",
    "LEFT JOIN employee e2 ON e1.reports_to = e2.employee_id\n",
    "ORDER BY employee_name;"
   ]
  },
  {
   "cell_type": "markdown",
   "metadata": {},
   "source": [
    "## Pattern Matching in SQL\n",
    "\n",
    "### Problem:\n",
    "You have just returned from lunch to see another phone message on your desk: \"Call Belle.\"\n",
    "\n",
    "Write a query that finds the contact details of a customer with a first_name containing Belle from the database. Your query should include the following columns, in order:\n",
    "\n",
    "1. first_name\n",
    "2. last_name\n",
    "3. phone\n",
    "\n",
    "### Solution \n",
    "This is going to involve the use of the customer table only, with the columns titled as above."
   ]
  },
  {
   "cell_type": "code",
   "execution_count": 23,
   "metadata": {},
   "outputs": [
    {
     "name": "stdout",
     "output_type": "stream",
     "text": [
      " * sqlite:///chinook.db\n",
      "Done.\n"
     ]
    },
    {
     "data": {
      "text/html": [
       "<table>\n",
       "    <tr>\n",
       "        <th>first_name</th>\n",
       "        <th>last_name</th>\n",
       "        <th>phone</th>\n",
       "    </tr>\n",
       "    <tr>\n",
       "        <td>Isabelle</td>\n",
       "        <td>Mercier</td>\n",
       "        <td>+33 03 80 73 66 99</td>\n",
       "    </tr>\n",
       "</table>"
      ],
      "text/plain": [
       "[('Isabelle', 'Mercier', '+33 03 80 73 66 99')]"
      ]
     },
     "execution_count": 23,
     "metadata": {},
     "output_type": "execute_result"
    }
   ],
   "source": [
    "%%sql\n",
    "SELECT first_name,\n",
    "       last_name,\n",
    "       phone\n",
    "FROM customer\n",
    "WHERE first_name LIKE \"%Belle%\";"
   ]
  },
  {
   "cell_type": "markdown",
   "metadata": {},
   "source": [
    "<img src = 'chinook-schema.svg' width = 600>"
   ]
  },
  {
   "cell_type": "markdown",
   "metadata": {},
   "source": [
    "## Categorization of Results\n",
    "\n",
    "### Problem\n",
    "\n",
    "Write a query that summarizes the purchases of each customer. For the purposes of this exercise, we do not have any two customers with the same name.\n",
    "\n",
    "Your query should include the following columns, in order:\n",
    "1. customer_name - containing the first_name and last_name columns separated by a space, eg Luke Skywalker.\n",
    "2. number_of_purchases, counting the number of purchases made by each customer.\n",
    "3. total_spent - the total sum of money spent by each customer.\n",
    "4. customer_category - a column that categorizes the customer based on their total purchases. The column should contain the following values:  \n",
    "    4.1 small spender - If the customer's total purchases are less than \\\\$40.  \n",
    "    4.2 big spender - If the customer's total purchases are greater than \\\\$100.    \n",
    "    4.3 regular - If the customer's total purchases are between \\\\$40 and \\\\$100 (inclusive).       \n",
    "5. Order your results by the customer_name column.\n",
    "\n",
    "### Solution\n",
    "\n",
    "**Tables Required**\n",
    "1. customer linked to invoice on customer.customer_id = invoice.customer_id\n",
    "2. invoice"
   ]
  },
  {
   "cell_type": "code",
   "execution_count": 60,
   "metadata": {},
   "outputs": [
    {
     "name": "stdout",
     "output_type": "stream",
     "text": [
      " * sqlite:///chinook.db\n",
      "Done.\n"
     ]
    },
    {
     "data": {
      "text/html": [
       "<table>\n",
       "    <tr>\n",
       "        <th>customer_name</th>\n",
       "        <th>number_of_purchases</th>\n",
       "        <th>total_spent</th>\n",
       "        <th>customer_category</th>\n",
       "    </tr>\n",
       "    <tr>\n",
       "        <td>Aaron Mitchell</td>\n",
       "        <td>8</td>\n",
       "        <td>70.28999999999999</td>\n",
       "        <td>regular</td>\n",
       "    </tr>\n",
       "    <tr>\n",
       "        <td>Alexandre Rocha</td>\n",
       "        <td>10</td>\n",
       "        <td>69.3</td>\n",
       "        <td>regular</td>\n",
       "    </tr>\n",
       "    <tr>\n",
       "        <td>Astrid Gruber</td>\n",
       "        <td>9</td>\n",
       "        <td>69.3</td>\n",
       "        <td>regular</td>\n",
       "    </tr>\n",
       "    <tr>\n",
       "        <td>Bjørn Hansen</td>\n",
       "        <td>9</td>\n",
       "        <td>72.27000000000001</td>\n",
       "        <td>regular</td>\n",
       "    </tr>\n",
       "    <tr>\n",
       "        <td>Camille Bernard</td>\n",
       "        <td>9</td>\n",
       "        <td>79.2</td>\n",
       "        <td>regular</td>\n",
       "    </tr>\n",
       "    <tr>\n",
       "        <td>Daan Peeters</td>\n",
       "        <td>7</td>\n",
       "        <td>60.38999999999999</td>\n",
       "        <td>regular</td>\n",
       "    </tr>\n",
       "    <tr>\n",
       "        <td>Dan Miller</td>\n",
       "        <td>12</td>\n",
       "        <td>95.03999999999999</td>\n",
       "        <td>regular</td>\n",
       "    </tr>\n",
       "    <tr>\n",
       "        <td>Diego Gutiérrez</td>\n",
       "        <td>5</td>\n",
       "        <td>39.6</td>\n",
       "        <td>small spender</td>\n",
       "    </tr>\n",
       "    <tr>\n",
       "        <td>Dominique Lefebvre</td>\n",
       "        <td>9</td>\n",
       "        <td>72.27</td>\n",
       "        <td>regular</td>\n",
       "    </tr>\n",
       "    <tr>\n",
       "        <td>Eduardo Martins</td>\n",
       "        <td>12</td>\n",
       "        <td>60.39</td>\n",
       "        <td>regular</td>\n",
       "    </tr>\n",
       "</table>"
      ],
      "text/plain": [
       "[('Aaron Mitchell', 8, 70.28999999999999, 'regular'),\n",
       " ('Alexandre Rocha', 10, 69.3, 'regular'),\n",
       " ('Astrid Gruber', 9, 69.3, 'regular'),\n",
       " ('Bjørn Hansen', 9, 72.27000000000001, 'regular'),\n",
       " ('Camille Bernard', 9, 79.2, 'regular'),\n",
       " ('Daan Peeters', 7, 60.38999999999999, 'regular'),\n",
       " ('Dan Miller', 12, 95.03999999999999, 'regular'),\n",
       " ('Diego Gutiérrez', 5, 39.6, 'small spender'),\n",
       " ('Dominique Lefebvre', 9, 72.27, 'regular'),\n",
       " ('Eduardo Martins', 12, 60.39, 'regular')]"
      ]
     },
     "execution_count": 60,
     "metadata": {},
     "output_type": "execute_result"
    }
   ],
   "source": [
    "%%sql\n",
    "\n",
    "SELECT \n",
    "    c.first_name || ' ' || c.last_name customer_name,\n",
    "    COUNT(i.invoice_id) number_of_purchases,\n",
    "    SUM(i.total) total_spent,\n",
    "    CASE \n",
    "    WHEN SUM(i.total) < 40 THEN 'small spender'\n",
    "    WHEN SUM(i.total) > 100 THEN 'big spender'\n",
    "    ELSE 'regular'\n",
    "    END AS customer_category\n",
    "FROM invoice i\n",
    "INNER JOIN customer c ON c.customer_id = i.customer_id\n",
    "GROUP BY customer_name\n",
    "ORDER BY customer_name\n",
    "LIMIT 10; -- Just want to shorten the output"
   ]
  },
  {
   "cell_type": "code",
   "execution_count": null,
   "metadata": {},
   "outputs": [],
   "source": []
  },
  {
   "cell_type": "code",
   "execution_count": null,
   "metadata": {},
   "outputs": [],
   "source": []
  }
 ],
 "metadata": {
  "kernelspec": {
   "display_name": "Python 3",
   "language": "python",
   "name": "python3"
  },
  "language_info": {
   "codemirror_mode": {
    "name": "ipython",
    "version": 3
   },
   "file_extension": ".py",
   "mimetype": "text/x-python",
   "name": "python",
   "nbconvert_exporter": "python",
   "pygments_lexer": "ipython3",
   "version": "3.7.7"
  }
 },
 "nbformat": 4,
 "nbformat_minor": 4
}
