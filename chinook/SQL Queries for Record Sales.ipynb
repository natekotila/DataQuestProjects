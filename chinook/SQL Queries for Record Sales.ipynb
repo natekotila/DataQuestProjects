{
 "cells": [
  {
   "cell_type": "markdown",
   "metadata": {},
   "source": [
    "# Practical Uses of SQL For Making Business Decisions\n",
    "\n",
    "The goal for this project is to come up with business decisions based on SQL queries. This project is based off the Chinook Database, with the following schema.\n",
    "\n",
    "<img src = 'chinook-schema.svg' width=500>"
   ]
  },
  {
   "cell_type": "code",
   "execution_count": 1,
   "metadata": {},
   "outputs": [],
   "source": [
    "%%capture\n",
    "%load_ext sql\n",
    "%sql sqlite:///chinook.db"
   ]
  },
  {
   "cell_type": "code",
   "execution_count": 2,
   "metadata": {},
   "outputs": [
    {
     "name": "stdout",
     "output_type": "stream",
     "text": [
      " * sqlite:///chinook.db\n",
      "Done.\n"
     ]
    },
    {
     "data": {
      "text/html": [
       "<table>\n",
       "    <tr>\n",
       "        <th>name</th>\n",
       "        <th>type</th>\n",
       "    </tr>\n",
       "    <tr>\n",
       "        <td>album</td>\n",
       "        <td>table</td>\n",
       "    </tr>\n",
       "    <tr>\n",
       "        <td>artist</td>\n",
       "        <td>table</td>\n",
       "    </tr>\n",
       "    <tr>\n",
       "        <td>customer</td>\n",
       "        <td>table</td>\n",
       "    </tr>\n",
       "    <tr>\n",
       "        <td>employee</td>\n",
       "        <td>table</td>\n",
       "    </tr>\n",
       "    <tr>\n",
       "        <td>genre</td>\n",
       "        <td>table</td>\n",
       "    </tr>\n",
       "    <tr>\n",
       "        <td>invoice</td>\n",
       "        <td>table</td>\n",
       "    </tr>\n",
       "    <tr>\n",
       "        <td>invoice_line</td>\n",
       "        <td>table</td>\n",
       "    </tr>\n",
       "    <tr>\n",
       "        <td>media_type</td>\n",
       "        <td>table</td>\n",
       "    </tr>\n",
       "    <tr>\n",
       "        <td>playlist</td>\n",
       "        <td>table</td>\n",
       "    </tr>\n",
       "    <tr>\n",
       "        <td>playlist_track</td>\n",
       "        <td>table</td>\n",
       "    </tr>\n",
       "    <tr>\n",
       "        <td>track</td>\n",
       "        <td>table</td>\n",
       "    </tr>\n",
       "    <tr>\n",
       "        <td>customer_gt_90_dollars</td>\n",
       "        <td>view</td>\n",
       "    </tr>\n",
       "    <tr>\n",
       "        <td>customer_usa</td>\n",
       "        <td>view</td>\n",
       "    </tr>\n",
       "    <tr>\n",
       "        <td>genre_count</td>\n",
       "        <td>view</td>\n",
       "    </tr>\n",
       "</table>"
      ],
      "text/plain": [
       "[('album', 'table'),\n",
       " ('artist', 'table'),\n",
       " ('customer', 'table'),\n",
       " ('employee', 'table'),\n",
       " ('genre', 'table'),\n",
       " ('invoice', 'table'),\n",
       " ('invoice_line', 'table'),\n",
       " ('media_type', 'table'),\n",
       " ('playlist', 'table'),\n",
       " ('playlist_track', 'table'),\n",
       " ('track', 'table'),\n",
       " ('customer_gt_90_dollars', 'view'),\n",
       " ('customer_usa', 'view'),\n",
       " ('genre_count', 'view')]"
      ]
     },
     "execution_count": 2,
     "metadata": {},
     "output_type": "execute_result"
    }
   ],
   "source": [
    "%%sql\n",
    "SELECT name, type FROM sqlite_master\n",
    "WHERE type IN ('table', 'view');"
   ]
  },
  {
   "cell_type": "markdown",
   "metadata": {},
   "source": [
    "## Topselling Genres (To Determine New Record Purchases)\n",
    "\n",
    "The first thing I am going to want to do is get a look at what tables and views the database has. In addition to all the tables in the schema, there are two views:\n",
    "\n",
    "1. customer_usa: Customers in the USA\n",
    "2. customer_gt_90_dollars: Customers who have purchased more than 90 dollars in music"
   ]
  },
  {
   "cell_type": "markdown",
   "metadata": {},
   "source": [
    "A new record label has signed on to distribute through our store. We've come to an agreement where I will sell three of the 4 new albums they are selling:\n",
    "\n",
    "|Artist Name| \tGenre|\n",
    "|---|---|\n",
    "|Regal |\tHip-Hop|\n",
    "|Red Tone |\tPunk|\n",
    "|Meteor and the Girls |\tPop\n",
    "|Slim Jim Bites |\tBlues\n",
    "\n",
    "Since I don't know anything about the individual artists, the only information I have to know what I want to purchase is the name of the artist and the genre.\n",
    "\n",
    "In general, unless it's a big named artist, the name has low impact on the sales. These names are fairly neutral in sentiment, so I will rely on the genre to be the deciding factor of my choice."
   ]
  },
  {
   "cell_type": "code",
   "execution_count": 3,
   "metadata": {},
   "outputs": [
    {
     "name": "stdout",
     "output_type": "stream",
     "text": [
      " * sqlite:///chinook.db\n",
      "Done.\n",
      "Done.\n",
      "Done.\n"
     ]
    },
    {
     "data": {
      "text/html": [
       "<table>\n",
       "    <tr>\n",
       "        <th>genre_name</th>\n",
       "        <th>number_of_tracks</th>\n",
       "        <th>genre_percent</th>\n",
       "    </tr>\n",
       "    <tr>\n",
       "        <td>Rock</td>\n",
       "        <td>2635</td>\n",
       "        <td>55.39</td>\n",
       "    </tr>\n",
       "    <tr>\n",
       "        <td>Metal</td>\n",
       "        <td>619</td>\n",
       "        <td>13.01</td>\n",
       "    </tr>\n",
       "    <tr>\n",
       "        <td>Alternative &amp; Punk</td>\n",
       "        <td>492</td>\n",
       "        <td>10.34</td>\n",
       "    </tr>\n",
       "    <tr>\n",
       "        <td>Latin</td>\n",
       "        <td>167</td>\n",
       "        <td>3.51</td>\n",
       "    </tr>\n",
       "    <tr>\n",
       "        <td>R&amp;B/Soul</td>\n",
       "        <td>159</td>\n",
       "        <td>3.34</td>\n",
       "    </tr>\n",
       "    <tr>\n",
       "        <td>Blues</td>\n",
       "        <td>124</td>\n",
       "        <td>2.61</td>\n",
       "    </tr>\n",
       "    <tr>\n",
       "        <td>Jazz</td>\n",
       "        <td>121</td>\n",
       "        <td>2.54</td>\n",
       "    </tr>\n",
       "    <tr>\n",
       "        <td>Alternative</td>\n",
       "        <td>117</td>\n",
       "        <td>2.46</td>\n",
       "    </tr>\n",
       "    <tr>\n",
       "        <td>Easy Listening</td>\n",
       "        <td>74</td>\n",
       "        <td>1.56</td>\n",
       "    </tr>\n",
       "    <tr>\n",
       "        <td>Pop</td>\n",
       "        <td>63</td>\n",
       "        <td>1.32</td>\n",
       "    </tr>\n",
       "    <tr>\n",
       "        <td>Electronica/Dance</td>\n",
       "        <td>55</td>\n",
       "        <td>1.16</td>\n",
       "    </tr>\n",
       "    <tr>\n",
       "        <td>Classical</td>\n",
       "        <td>47</td>\n",
       "        <td>0.99</td>\n",
       "    </tr>\n",
       "    <tr>\n",
       "        <td>Reggae</td>\n",
       "        <td>35</td>\n",
       "        <td>0.74</td>\n",
       "    </tr>\n",
       "    <tr>\n",
       "        <td>Hip Hop/Rap</td>\n",
       "        <td>33</td>\n",
       "        <td>0.69</td>\n",
       "    </tr>\n",
       "    <tr>\n",
       "        <td>Heavy Metal</td>\n",
       "        <td>8</td>\n",
       "        <td>0.17</td>\n",
       "    </tr>\n",
       "    <tr>\n",
       "        <td>Soundtrack</td>\n",
       "        <td>5</td>\n",
       "        <td>0.11</td>\n",
       "    </tr>\n",
       "    <tr>\n",
       "        <td>TV Shows</td>\n",
       "        <td>2</td>\n",
       "        <td>0.04</td>\n",
       "    </tr>\n",
       "    <tr>\n",
       "        <td>Drama</td>\n",
       "        <td>1</td>\n",
       "        <td>0.02</td>\n",
       "    </tr>\n",
       "</table>"
      ],
      "text/plain": [
       "[('Rock', 2635, 55.39),\n",
       " ('Metal', 619, 13.01),\n",
       " ('Alternative & Punk', 492, 10.34),\n",
       " ('Latin', 167, 3.51),\n",
       " ('R&B/Soul', 159, 3.34),\n",
       " ('Blues', 124, 2.61),\n",
       " ('Jazz', 121, 2.54),\n",
       " ('Alternative', 117, 2.46),\n",
       " ('Easy Listening', 74, 1.56),\n",
       " ('Pop', 63, 1.32),\n",
       " ('Electronica/Dance', 55, 1.16),\n",
       " ('Classical', 47, 0.99),\n",
       " ('Reggae', 35, 0.74),\n",
       " ('Hip Hop/Rap', 33, 0.69),\n",
       " ('Heavy Metal', 8, 0.17),\n",
       " ('Soundtrack', 5, 0.11),\n",
       " ('TV Shows', 2, 0.04),\n",
       " ('Drama', 1, 0.02)]"
      ]
     },
     "execution_count": 3,
     "metadata": {},
     "output_type": "execute_result"
    }
   ],
   "source": [
    "%%sql\n",
    "DROP VIEW genre_count;\n",
    "CREATE VIEW genre_count AS\n",
    "SELECT g.name genre_name,\n",
    "       SUM(il.quantity) number_of_tracks\n",
    "FROM invoice_line il\n",
    "INNER JOIN track t ON t.track_id = il.track_id\n",
    "INNER JOIN genre g ON t.genre_id = g.genre_id\n",
    "GROUP BY 1\n",
    "ORDER BY 2 DESC;\n",
    "\n",
    "SELECT genre_name,\n",
    "       number_of_tracks,\n",
    "      ROUND(CAST(number_of_tracks AS FLOAT) * 100 / (SELECT SUM(number_of_tracks)\n",
    "                                          FROM genre_count),2) genre_percent\n",
    "FROM genre_count;"
   ]
  },
  {
   "cell_type": "markdown",
   "metadata": {},
   "source": [
    "Since the 4 options were Punk, Pop, Hip Hop, and Blues, and my sales quantities are shown above. It looks like I will be ordering the Punk, Blues, and Pop albums and leaving off the Hip Hop album. As it stands, since Pop and Hip Hop are fairly close to each other around 1\\% of sales, I would probably just take the punk and blues albums.\n",
    "\n",
    "Something that I note from my own music experience, Alternative \\& punk are so different that they should not be combined into one genre. Punk by itself is already a diverse genre, and Alternative is rather all encompassing. These two being grouped together may be throwing the representation of the sales entirely out of whack"
   ]
  },
  {
   "cell_type": "markdown",
   "metadata": {},
   "source": [
    "## Top Sales Agents\n",
    "\n",
    "I want to determine the top sales agents for my music store. If I can determine who has the best selling velocity, value/time, then I can try to determine what makes them sell more than ther other sales folk. That information will be valuable to train new sales agents.\n",
    "\n",
    "I am going to look at a table involving the Agent Name, Total Sales, and Initial Start Date. Then, I will determine sales velocity after.\n",
    "\n",
    "- I will first compile a table of every customer that has the customer ID and total sales\n",
    "- I will link this table with the employee table to then gather total sales by each employee. I will also include their start date"
   ]
  },
  {
   "cell_type": "code",
   "execution_count": 19,
   "metadata": {},
   "outputs": [
    {
     "name": "stdout",
     "output_type": "stream",
     "text": [
      " * sqlite:///chinook.db\n",
      "Done.\n",
      "Done.\n",
      "Done.\n"
     ]
    },
    {
     "data": {
      "text/html": [
       "<table>\n",
       "    <tr>\n",
       "        <th>customer_id</th>\n",
       "        <th>support_rep_id</th>\n",
       "        <th>total</th>\n",
       "    </tr>\n",
       "    <tr>\n",
       "        <td>1</td>\n",
       "        <td>3</td>\n",
       "        <td>108.90</td>\n",
       "    </tr>\n",
       "    <tr>\n",
       "        <td>2</td>\n",
       "        <td>5</td>\n",
       "        <td>82.17</td>\n",
       "    </tr>\n",
       "    <tr>\n",
       "        <td>3</td>\n",
       "        <td>3</td>\n",
       "        <td>99.99</td>\n",
       "    </tr>\n",
       "    <tr>\n",
       "        <td>4</td>\n",
       "        <td>4</td>\n",
       "        <td>72.27</td>\n",
       "    </tr>\n",
       "    <tr>\n",
       "        <td>5</td>\n",
       "        <td>4</td>\n",
       "        <td>144.54</td>\n",
       "    </tr>\n",
       "</table>"
      ],
      "text/plain": [
       "[(1, 3, '108.90'),\n",
       " (2, 5, '82.17'),\n",
       " (3, 3, '99.99'),\n",
       " (4, 4, '72.27'),\n",
       " (5, 4, '144.54')]"
      ]
     },
     "execution_count": 19,
     "metadata": {},
     "output_type": "execute_result"
    }
   ],
   "source": [
    "%%sql\n",
    "DROP VIEW IF EXISTS customer_total;\n",
    "CREATE VIEW customer_total AS\n",
    "    SELECT c.customer_id customer_id,\n",
    "           c.support_rep_id support_rep_id,\n",
    "           PRINTF('%.2f',SUM(i.total)) total\n",
    "    FROM customer c\n",
    "    INNER JOIN invoice i ON c.customer_id = i.customer_id\n",
    "    GROUP BY 1;\n",
    "\n",
    "SELECT * FROM customer_total\n",
    "LIMIT 5;"
   ]
  },
  {
   "cell_type": "code",
   "execution_count": 64,
   "metadata": {},
   "outputs": [
    {
     "name": "stdout",
     "output_type": "stream",
     "text": [
      " * sqlite:///chinook.db\n",
      "Done.\n"
     ]
    },
    {
     "data": {
      "text/html": [
       "<table>\n",
       "    <tr>\n",
       "        <th>sales_agent</th>\n",
       "        <th>hire_date</th>\n",
       "        <th>work_length_days</th>\n",
       "        <th>sales_total</th>\n",
       "        <th>sales_velocity</th>\n",
       "    </tr>\n",
       "    <tr>\n",
       "        <td>Jane Peacock</td>\n",
       "        <td>2017-04-01 00:00:00</td>\n",
       "        <td>1369.0</td>\n",
       "        <td>1731.51</td>\n",
       "        <td>1.264799123447772</td>\n",
       "    </tr>\n",
       "    <tr>\n",
       "        <td>Steve Johnson</td>\n",
       "        <td>2017-10-17 00:00:00</td>\n",
       "        <td>1170.0</td>\n",
       "        <td>1393.92</td>\n",
       "        <td>1.1913846153846155</td>\n",
       "    </tr>\n",
       "    <tr>\n",
       "        <td>Margaret Park</td>\n",
       "        <td>2017-05-03 00:00:00</td>\n",
       "        <td>1337.0</td>\n",
       "        <td>1584.00</td>\n",
       "        <td>1.1847419596110698</td>\n",
       "    </tr>\n",
       "</table>"
      ],
      "text/plain": [
       "[('Jane Peacock', '2017-04-01 00:00:00', 1369.0, '1731.51', 1.264799123447772),\n",
       " ('Steve Johnson', '2017-10-17 00:00:00', 1170.0, '1393.92', 1.1913846153846155),\n",
       " ('Margaret Park', '2017-05-03 00:00:00', 1337.0, '1584.00', 1.1847419596110698)]"
      ]
     },
     "execution_count": 64,
     "metadata": {},
     "output_type": "execute_result"
    }
   ],
   "source": [
    "%%sql\n",
    "SELECT e.first_name || ' ' || e.last_name sales_agent,\n",
    "       e.hire_date,\n",
    "       JULIANDAY((SELECT MAX(invoice_date) FROM invoice)) - JULIANDAY(hire_date) work_length_days,\n",
    "       PRINTF('%.2f',SUM(ct.total)) sales_total,\n",
    "       SUM(ct.total) / (JULIANDAY((SELECT MAX(invoice_date) FROM invoice)) - JULIANDAY(hire_date)) AS sales_velocity\n",
    "FROM employee e\n",
    "INNER JOIN customer_total ct\n",
    "ON e.employee_id = ct.support_rep_id\n",
    "GROUP BY sales_agent\n",
    "ORDER BY sales_velocity DESC;"
   ]
  },
  {
   "cell_type": "markdown",
   "metadata": {},
   "source": [
    "After looking through the invoice data, I noticed that the last invoice was dated 2020-12-30 and that no employees were listed with a date of leaving employment.\n",
    "\n",
    "Using the difference between the last invoice date and the date of hire, I was able to create a length of time, in days, that each employee had worked for the company.\n",
    "\n",
    "Dividing the total sales volume by the number of days leads me to the metric that I am calling **sales velocity** \n",
    "\n",
    "$$\\text{Sales Velocity} = \\frac{\\text{Total Sales}}{\\text{Days Worked}}$$\n",
    "\n",
    "Initially, looking at the hire date, I assumed that Jane Peacock was not doing the best because Steve Johnson had accumulated only a few hundred dollars less in sales while having worked 6 months less than Jane. This was before looking at the final invoice date.\n",
    "\n",
    "Our clear winner, is Jane Peacock with almost 5 percent hire sales than the other two. Steve Johnson comes in second, only slightly ahead of Margaret Park."
   ]
  },
  {
   "cell_type": "code",
   "execution_count": null,
   "metadata": {},
   "outputs": [],
   "source": []
  }
 ],
 "metadata": {
  "kernelspec": {
   "display_name": "Python 3",
   "language": "python",
   "name": "python3"
  },
  "language_info": {
   "codemirror_mode": {
    "name": "ipython",
    "version": 3
   },
   "file_extension": ".py",
   "mimetype": "text/x-python",
   "name": "python",
   "nbconvert_exporter": "python",
   "pygments_lexer": "ipython3",
   "version": "3.7.3"
  }
 },
 "nbformat": 4,
 "nbformat_minor": 4
}
