{
 "cells": [
  {
   "cell_type": "code",
   "execution_count": 1,
   "metadata": {},
   "outputs": [
    {
     "data": {
      "text/html": [
       "<div>\n",
       "<style scoped>\n",
       "    .dataframe tbody tr th:only-of-type {\n",
       "        vertical-align: middle;\n",
       "    }\n",
       "\n",
       "    .dataframe tbody tr th {\n",
       "        vertical-align: top;\n",
       "    }\n",
       "\n",
       "    .dataframe thead th {\n",
       "        text-align: right;\n",
       "    }\n",
       "</style>\n",
       "<table border=\"1\" class=\"dataframe\">\n",
       "  <thead>\n",
       "    <tr style=\"text-align: right;\">\n",
       "      <th></th>\n",
       "      <th>FILM</th>\n",
       "      <th>RottenTomatoes</th>\n",
       "      <th>RottenTomatoes_User</th>\n",
       "      <th>Metacritic</th>\n",
       "      <th>Metacritic_User</th>\n",
       "      <th>IMDB</th>\n",
       "      <th>Fandango_Stars</th>\n",
       "      <th>Fandango_Ratingvalue</th>\n",
       "      <th>RT_norm</th>\n",
       "      <th>RT_user_norm</th>\n",
       "      <th>...</th>\n",
       "      <th>IMDB_norm</th>\n",
       "      <th>RT_norm_round</th>\n",
       "      <th>RT_user_norm_round</th>\n",
       "      <th>Metacritic_norm_round</th>\n",
       "      <th>Metacritic_user_norm_round</th>\n",
       "      <th>IMDB_norm_round</th>\n",
       "      <th>Metacritic_user_vote_count</th>\n",
       "      <th>IMDB_user_vote_count</th>\n",
       "      <th>Fandango_votes</th>\n",
       "      <th>Fandango_Difference</th>\n",
       "    </tr>\n",
       "  </thead>\n",
       "  <tbody>\n",
       "    <tr>\n",
       "      <th>0</th>\n",
       "      <td>Avengers: Age of Ultron (2015)</td>\n",
       "      <td>74</td>\n",
       "      <td>86</td>\n",
       "      <td>66</td>\n",
       "      <td>7.1</td>\n",
       "      <td>7.8</td>\n",
       "      <td>5.0</td>\n",
       "      <td>4.5</td>\n",
       "      <td>3.70</td>\n",
       "      <td>4.3</td>\n",
       "      <td>...</td>\n",
       "      <td>3.90</td>\n",
       "      <td>3.5</td>\n",
       "      <td>4.5</td>\n",
       "      <td>3.5</td>\n",
       "      <td>3.5</td>\n",
       "      <td>4.0</td>\n",
       "      <td>1330</td>\n",
       "      <td>271107</td>\n",
       "      <td>14846</td>\n",
       "      <td>0.5</td>\n",
       "    </tr>\n",
       "    <tr>\n",
       "      <th>1</th>\n",
       "      <td>Cinderella (2015)</td>\n",
       "      <td>85</td>\n",
       "      <td>80</td>\n",
       "      <td>67</td>\n",
       "      <td>7.5</td>\n",
       "      <td>7.1</td>\n",
       "      <td>5.0</td>\n",
       "      <td>4.5</td>\n",
       "      <td>4.25</td>\n",
       "      <td>4.0</td>\n",
       "      <td>...</td>\n",
       "      <td>3.55</td>\n",
       "      <td>4.5</td>\n",
       "      <td>4.0</td>\n",
       "      <td>3.5</td>\n",
       "      <td>4.0</td>\n",
       "      <td>3.5</td>\n",
       "      <td>249</td>\n",
       "      <td>65709</td>\n",
       "      <td>12640</td>\n",
       "      <td>0.5</td>\n",
       "    </tr>\n",
       "  </tbody>\n",
       "</table>\n",
       "<p>2 rows × 22 columns</p>\n",
       "</div>"
      ],
      "text/plain": [
       "                             FILM  RottenTomatoes  RottenTomatoes_User  \\\n",
       "0  Avengers: Age of Ultron (2015)              74                   86   \n",
       "1               Cinderella (2015)              85                   80   \n",
       "\n",
       "   Metacritic  Metacritic_User  IMDB  Fandango_Stars  Fandango_Ratingvalue  \\\n",
       "0          66              7.1   7.8             5.0                   4.5   \n",
       "1          67              7.5   7.1             5.0                   4.5   \n",
       "\n",
       "   RT_norm  RT_user_norm         ...           IMDB_norm  RT_norm_round  \\\n",
       "0     3.70           4.3         ...                3.90            3.5   \n",
       "1     4.25           4.0         ...                3.55            4.5   \n",
       "\n",
       "   RT_user_norm_round  Metacritic_norm_round  Metacritic_user_norm_round  \\\n",
       "0                 4.5                    3.5                         3.5   \n",
       "1                 4.0                    3.5                         4.0   \n",
       "\n",
       "   IMDB_norm_round  Metacritic_user_vote_count  IMDB_user_vote_count  \\\n",
       "0              4.0                        1330                271107   \n",
       "1              3.5                         249                 65709   \n",
       "\n",
       "   Fandango_votes  Fandango_Difference  \n",
       "0           14846                  0.5  \n",
       "1           12640                  0.5  \n",
       "\n",
       "[2 rows x 22 columns]"
      ]
     },
     "execution_count": 1,
     "metadata": {},
     "output_type": "execute_result"
    }
   ],
   "source": [
    "import pandas as pd\n",
    "import numpy as np\n",
    "\n",
    "fandango = pd.read_csv(\"fandango_score_comparison.csv\")\n",
    "fandango.head(2)"
   ]
  },
  {
   "cell_type": "code",
   "execution_count": 2,
   "metadata": {},
   "outputs": [
    {
     "name": "stdout",
     "output_type": "stream",
     "text": [
      "0    Avengers: Age of Ultron (2015)\n",
      "1                 Cinderella (2015)\n",
      "2                    Ant-Man (2015)\n",
      "3            Do You Believe? (2015)\n",
      "4     Hot Tub Time Machine 2 (2015)\n",
      "Name: FILM, dtype: object\n",
      "0    74\n",
      "1    85\n",
      "2    80\n",
      "3    18\n",
      "4    14\n",
      "Name: RottenTomatoes, dtype: int64\n"
     ]
    }
   ],
   "source": [
    "series_film = fandango['FILM']\n",
    "print(series_film.head())\n",
    "\n",
    "series_rt = fandango['RottenTomatoes']\n",
    "print(series_rt.head())"
   ]
  },
  {
   "cell_type": "code",
   "execution_count": 3,
   "metadata": {},
   "outputs": [],
   "source": [
    "film_names = series_film.values\n",
    "rt_scores = series_rt.values"
   ]
  },
  {
   "cell_type": "code",
   "execution_count": 4,
   "metadata": {},
   "outputs": [],
   "source": [
    "from pandas import Series\n",
    "series_custom = Series(data = rt_scores, index = film_names)"
   ]
  },
  {
   "cell_type": "markdown",
   "metadata": {},
   "source": [
    "Slicing:\n",
    "1. Use series[[a,b,c]] to get three specific values\n",
    "2. Use series[a:c] to get a range *REMEMBER that the final value is NOT included when slicing*"
   ]
  },
  {
   "cell_type": "code",
   "execution_count": 5,
   "metadata": {},
   "outputs": [
    {
     "data": {
      "text/plain": [
       "The Water Diviner (2015)             63\n",
       "Irrational Man (2015)                42\n",
       "Top Five (2014)                      86\n",
       "Shaun the Sheep Movie (2015)         99\n",
       "Love & Mercy (2015)                  89\n",
       "Far From The Madding Crowd (2015)    84\n",
       "dtype: int64"
      ]
     },
     "execution_count": 5,
     "metadata": {},
     "output_type": "execute_result"
    }
   ],
   "source": [
    "fiveten = series_custom[5:11]\n",
    "fiveten"
   ]
  },
  {
   "cell_type": "code",
   "execution_count": 6,
   "metadata": {},
   "outputs": [],
   "source": [
    "sorted_series = series_custom.reindex(sorted(series_custom.index))\n",
    "\n",
    "sorted_by_title = series_custom.sort_index()\n",
    "sorted_by_score = series_custom.sort_values()"
   ]
  },
  {
   "cell_type": "markdown",
   "metadata": {},
   "source": [
    "## Subsetting Example"
   ]
  },
  {
   "cell_type": "code",
   "execution_count": 18,
   "metadata": {},
   "outputs": [
    {
     "data": {
      "text/plain": [
       "5 Flights Up (2015)                                                       52\n",
       "A Little Chaos (2015)                                                     40\n",
       "Aloha (2015)                                                              19\n",
       "American Sniper (2015)                                                    72\n",
       "American Ultra (2015)                                                     46\n",
       "Annie (2014)                                                              27\n",
       "Avengers: Age of Ultron (2015)                                            74\n",
       "Big Eyes (2014)                                                           72\n",
       "Black or White (2015)                                                     39\n",
       "Blackhat (2015)                                                           34\n",
       "Cake (2015)                                                               49\n",
       "Chappie (2015)                                                            30\n",
       "Child 44 (2015)                                                           26\n",
       "Dark Places (2015)                                                        26\n",
       "Do You Believe? (2015)                                                    18\n",
       "Entourage (2015)                                                          32\n",
       "Escobar: Paradise Lost (2015)                                             52\n",
       "Fantastic Four (2015)                                                      9\n",
       "Fifty Shades of Grey (2015)                                               25\n",
       "Focus (2015)                                                              57\n",
       "Get Hard (2015)                                                           29\n",
       "Hitman: Agent 47 (2015)                                                    7\n",
       "Home (2015)                                                               45\n",
       "Hot Pursuit (2015)                                                         8\n",
       "Hot Tub Time Machine 2 (2015)                                             14\n",
       "Inherent Vice (2014)                                                      73\n",
       "Insidious: Chapter 3 (2015)                                               59\n",
       "Into the Woods (2014)                                                     71\n",
       "Irrational Man (2015)                                                     42\n",
       "Jupiter Ascending (2015)                                                  26\n",
       "                                                                          ..\n",
       "Strange Magic (2015)                                                      17\n",
       "Taken 3 (2015)                                                             9\n",
       "Ted 2 (2015)                                                              46\n",
       "Terminator Genisys (2015)                                                 26\n",
       "The 100-Year-Old Man Who Climbed Out the Window and Disappeared (2015)    67\n",
       "The Age of Adaline (2015)                                                 54\n",
       "The Boy Next Door (2015)                                                  10\n",
       "The DUFF (2015)                                                           71\n",
       "The Divergent Series: Insurgent (2015)                                    30\n",
       "The Gallows (2015)                                                        16\n",
       "The Gunman (2015)                                                         17\n",
       "The Hobbit: The Battle of the Five Armies (2014)                          61\n",
       "The Last Five Years (2015)                                                60\n",
       "The Lazarus Effect (2015)                                                 14\n",
       "The Loft (2015)                                                           11\n",
       "The Longest Ride (2015)                                                   31\n",
       "The Man From U.N.C.L.E. (2015)                                            68\n",
       "The Second Best Exotic Marigold Hotel (2015)                              62\n",
       "The Vatican Tapes (2015)                                                  13\n",
       "The Water Diviner (2015)                                                  63\n",
       "The Wedding Ringer (2015)                                                 27\n",
       "The Woman In Black 2 Angel of Death (2015)                                22\n",
       "Tomorrowland (2015)                                                       50\n",
       "True Story (2015)                                                         45\n",
       "Unbroken (2014)                                                           51\n",
       "Unfinished Business (2015)                                                11\n",
       "Unfriended (2015)                                                         60\n",
       "Vacation (2015)                                                           27\n",
       "Welcome to Me (2015)                                                      71\n",
       "Woman in Gold (2015)                                                      52\n",
       "Length: 85, dtype: int64"
      ]
     },
     "execution_count": 18,
     "metadata": {},
     "output_type": "execute_result"
    }
   ],
   "source": [
    "sorted_series[sorted_series < 75]"
   ]
  },
  {
   "cell_type": "code",
   "execution_count": 8,
   "metadata": {},
   "outputs": [
    {
     "name": "stdout",
     "output_type": "stream",
     "text": [
      "106 µs ± 925 ns per loop (mean ± std. dev. of 7 runs, 10000 loops each)\n"
     ]
    }
   ],
   "source": [
    "%%timeit\n",
    "sorted_by_score/10"
   ]
  },
  {
   "cell_type": "code",
   "execution_count": 9,
   "metadata": {},
   "outputs": [
    {
     "name": "stdout",
     "output_type": "stream",
     "text": [
      "2.51 ms ± 15.2 µs per loop (mean ± std. dev. of 7 runs, 100 loops each)\n"
     ]
    }
   ],
   "source": [
    "%%timeit\n",
    "for i in range(len(sorted_by_score)):\n",
    "    sorted_by_score[i]/10"
   ]
  },
  {
   "cell_type": "markdown",
   "metadata": {},
   "source": [
    "Using vectorization for math values in Series greatly reduces processing time. In this example above, vectorization speeds the process up by 25x"
   ]
  },
  {
   "cell_type": "code",
   "execution_count": 10,
   "metadata": {},
   "outputs": [],
   "source": [
    "rt_critics = Series(fandango['RottenTomatoes'].values, index = fandango['FILM'])\n",
    "rt_users = Series(fandango['RottenTomatoes_User'].values, index = fandango['FILM'])"
   ]
  },
  {
   "cell_type": "code",
   "execution_count": 11,
   "metadata": {},
   "outputs": [],
   "source": [
    "rt_mean = (rt_critics + rt_users)/2"
   ]
  },
  {
   "cell_type": "code",
   "execution_count": 12,
   "metadata": {},
   "outputs": [
    {
     "data": {
      "text/plain": [
       "RangeIndex(start=0, stop=146, step=1)"
      ]
     },
     "execution_count": 12,
     "metadata": {},
     "output_type": "execute_result"
    }
   ],
   "source": [
    "fandango.index"
   ]
  },
  {
   "cell_type": "code",
   "execution_count": 13,
   "metadata": {},
   "outputs": [],
   "source": [
    "first_last = fandango.iloc[[0,-1]]"
   ]
  },
  {
   "cell_type": "code",
   "execution_count": 15,
   "metadata": {},
   "outputs": [
    {
     "name": "stdout",
     "output_type": "stream",
     "text": [
      "Index(['Avengers: Age of Ultron (2015)', 'Cinderella (2015)', 'Ant-Man (2015)',\n",
      "       'Do You Believe? (2015)', 'Hot Tub Time Machine 2 (2015)',\n",
      "       'The Water Diviner (2015)', 'Irrational Man (2015)', 'Top Five (2014)',\n",
      "       'Shaun the Sheep Movie (2015)', 'Love & Mercy (2015)',\n",
      "       ...\n",
      "       'The Woman In Black 2 Angel of Death (2015)', 'Danny Collins (2015)',\n",
      "       'Spare Parts (2015)', 'Serena (2015)', 'Inside Out (2015)',\n",
      "       'Mr. Holmes (2015)', ''71 (2015)', 'Two Days, One Night (2014)',\n",
      "       'Gett: The Trial of Viviane Amsalem (2015)',\n",
      "       'Kumiko, The Treasure Hunter (2015)'],\n",
      "      dtype='object', name='FILM', length=146)\n"
     ]
    }
   ],
   "source": [
    "fandango_films = fandango.set_index('FILM', drop = False)\n",
    "\n",
    "print(fandango_films.index)"
   ]
  },
  {
   "cell_type": "code",
   "execution_count": 32,
   "metadata": {},
   "outputs": [
    {
     "data": {
      "text/html": [
       "<div>\n",
       "<style scoped>\n",
       "    .dataframe tbody tr th:only-of-type {\n",
       "        vertical-align: middle;\n",
       "    }\n",
       "\n",
       "    .dataframe tbody tr th {\n",
       "        vertical-align: top;\n",
       "    }\n",
       "\n",
       "    .dataframe thead th {\n",
       "        text-align: right;\n",
       "    }\n",
       "</style>\n",
       "<table border=\"1\" class=\"dataframe\">\n",
       "  <thead>\n",
       "    <tr style=\"text-align: right;\">\n",
       "      <th></th>\n",
       "      <th>FILM</th>\n",
       "      <th>RottenTomatoes</th>\n",
       "      <th>RottenTomatoes_User</th>\n",
       "      <th>Metacritic</th>\n",
       "      <th>Metacritic_User</th>\n",
       "      <th>IMDB</th>\n",
       "      <th>Fandango_Stars</th>\n",
       "      <th>Fandango_Ratingvalue</th>\n",
       "      <th>RT_norm</th>\n",
       "      <th>RT_user_norm</th>\n",
       "      <th>...</th>\n",
       "      <th>IMDB_norm</th>\n",
       "      <th>RT_norm_round</th>\n",
       "      <th>RT_user_norm_round</th>\n",
       "      <th>Metacritic_norm_round</th>\n",
       "      <th>Metacritic_user_norm_round</th>\n",
       "      <th>IMDB_norm_round</th>\n",
       "      <th>Metacritic_user_vote_count</th>\n",
       "      <th>IMDB_user_vote_count</th>\n",
       "      <th>Fandango_votes</th>\n",
       "      <th>Fandango_Difference</th>\n",
       "    </tr>\n",
       "    <tr>\n",
       "      <th>FILM</th>\n",
       "      <th></th>\n",
       "      <th></th>\n",
       "      <th></th>\n",
       "      <th></th>\n",
       "      <th></th>\n",
       "      <th></th>\n",
       "      <th></th>\n",
       "      <th></th>\n",
       "      <th></th>\n",
       "      <th></th>\n",
       "      <th></th>\n",
       "      <th></th>\n",
       "      <th></th>\n",
       "      <th></th>\n",
       "      <th></th>\n",
       "      <th></th>\n",
       "      <th></th>\n",
       "      <th></th>\n",
       "      <th></th>\n",
       "      <th></th>\n",
       "      <th></th>\n",
       "    </tr>\n",
       "  </thead>\n",
       "  <tbody>\n",
       "    <tr>\n",
       "      <th>Mr. Holmes (2015)</th>\n",
       "      <td>Mr. Holmes (2015)</td>\n",
       "      <td>87</td>\n",
       "      <td>78</td>\n",
       "      <td>67</td>\n",
       "      <td>7.9</td>\n",
       "      <td>7.4</td>\n",
       "      <td>4.0</td>\n",
       "      <td>4.0</td>\n",
       "      <td>4.35</td>\n",
       "      <td>3.90</td>\n",
       "      <td>...</td>\n",
       "      <td>3.7</td>\n",
       "      <td>4.5</td>\n",
       "      <td>4.0</td>\n",
       "      <td>3.5</td>\n",
       "      <td>4.0</td>\n",
       "      <td>3.5</td>\n",
       "      <td>33</td>\n",
       "      <td>7367</td>\n",
       "      <td>1348</td>\n",
       "      <td>0.0</td>\n",
       "    </tr>\n",
       "    <tr>\n",
       "      <th>Paddington (2015)</th>\n",
       "      <td>Paddington (2015)</td>\n",
       "      <td>98</td>\n",
       "      <td>81</td>\n",
       "      <td>77</td>\n",
       "      <td>8.2</td>\n",
       "      <td>7.2</td>\n",
       "      <td>4.5</td>\n",
       "      <td>4.3</td>\n",
       "      <td>4.90</td>\n",
       "      <td>4.05</td>\n",
       "      <td>...</td>\n",
       "      <td>3.6</td>\n",
       "      <td>5.0</td>\n",
       "      <td>4.0</td>\n",
       "      <td>4.0</td>\n",
       "      <td>4.0</td>\n",
       "      <td>3.5</td>\n",
       "      <td>149</td>\n",
       "      <td>38593</td>\n",
       "      <td>4045</td>\n",
       "      <td>0.2</td>\n",
       "    </tr>\n",
       "  </tbody>\n",
       "</table>\n",
       "<p>2 rows × 22 columns</p>\n",
       "</div>"
      ],
      "text/plain": [
       "                                FILM  RottenTomatoes  RottenTomatoes_User  \\\n",
       "FILM                                                                        \n",
       "Mr. Holmes (2015)  Mr. Holmes (2015)              87                   78   \n",
       "Paddington (2015)  Paddington (2015)              98                   81   \n",
       "\n",
       "                   Metacritic  Metacritic_User  IMDB  Fandango_Stars  \\\n",
       "FILM                                                                   \n",
       "Mr. Holmes (2015)          67              7.9   7.4             4.0   \n",
       "Paddington (2015)          77              8.2   7.2             4.5   \n",
       "\n",
       "                   Fandango_Ratingvalue  RT_norm  RT_user_norm  \\\n",
       "FILM                                                             \n",
       "Mr. Holmes (2015)                   4.0     4.35          3.90   \n",
       "Paddington (2015)                   4.3     4.90          4.05   \n",
       "\n",
       "                          ...           IMDB_norm  RT_norm_round  \\\n",
       "FILM                      ...                                      \n",
       "Mr. Holmes (2015)         ...                 3.7            4.5   \n",
       "Paddington (2015)         ...                 3.6            5.0   \n",
       "\n",
       "                   RT_user_norm_round  Metacritic_norm_round  \\\n",
       "FILM                                                           \n",
       "Mr. Holmes (2015)                 4.0                    3.5   \n",
       "Paddington (2015)                 4.0                    4.0   \n",
       "\n",
       "                   Metacritic_user_norm_round  IMDB_norm_round  \\\n",
       "FILM                                                             \n",
       "Mr. Holmes (2015)                         4.0              3.5   \n",
       "Paddington (2015)                         4.0              3.5   \n",
       "\n",
       "                   Metacritic_user_vote_count  IMDB_user_vote_count  \\\n",
       "FILM                                                                  \n",
       "Mr. Holmes (2015)                          33                  7367   \n",
       "Paddington (2015)                         149                 38593   \n",
       "\n",
       "                   Fandango_votes  Fandango_Difference  \n",
       "FILM                                                    \n",
       "Mr. Holmes (2015)            1348                  0.0  \n",
       "Paddington (2015)            4045                  0.2  \n",
       "\n",
       "[2 rows x 22 columns]"
      ]
     },
     "execution_count": 32,
     "metadata": {},
     "output_type": "execute_result"
    }
   ],
   "source": [
    "fandango_films.loc[['Mr. Holmes (2015)','Paddington (2015)']]"
   ]
  },
  {
   "cell_type": "code",
   "execution_count": null,
   "metadata": {},
   "outputs": [],
   "source": []
  }
 ],
 "metadata": {
  "kernelspec": {
   "display_name": "Python 3",
   "language": "python",
   "name": "python3"
  },
  "language_info": {
   "codemirror_mode": {
    "name": "ipython",
    "version": 3
   },
   "file_extension": ".py",
   "mimetype": "text/x-python",
   "name": "python",
   "nbconvert_exporter": "python",
   "pygments_lexer": "ipython3",
   "version": "3.6.4"
  }
 },
 "nbformat": 4,
 "nbformat_minor": 2
}
