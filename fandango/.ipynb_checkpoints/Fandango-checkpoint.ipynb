{
 "cells": [
  {
   "cell_type": "code",
   "execution_count": 1,
   "metadata": {},
   "outputs": [
    {
     "data": {
      "text/html": [
       "<div>\n",
       "<style scoped>\n",
       "    .dataframe tbody tr th:only-of-type {\n",
       "        vertical-align: middle;\n",
       "    }\n",
       "\n",
       "    .dataframe tbody tr th {\n",
       "        vertical-align: top;\n",
       "    }\n",
       "\n",
       "    .dataframe thead th {\n",
       "        text-align: right;\n",
       "    }\n",
       "</style>\n",
       "<table border=\"1\" class=\"dataframe\">\n",
       "  <thead>\n",
       "    <tr style=\"text-align: right;\">\n",
       "      <th></th>\n",
       "      <th>FILM</th>\n",
       "      <th>RottenTomatoes</th>\n",
       "      <th>RottenTomatoes_User</th>\n",
       "      <th>Metacritic</th>\n",
       "      <th>Metacritic_User</th>\n",
       "      <th>IMDB</th>\n",
       "      <th>Fandango_Stars</th>\n",
       "      <th>Fandango_Ratingvalue</th>\n",
       "      <th>RT_norm</th>\n",
       "      <th>RT_user_norm</th>\n",
       "      <th>...</th>\n",
       "      <th>IMDB_norm</th>\n",
       "      <th>RT_norm_round</th>\n",
       "      <th>RT_user_norm_round</th>\n",
       "      <th>Metacritic_norm_round</th>\n",
       "      <th>Metacritic_user_norm_round</th>\n",
       "      <th>IMDB_norm_round</th>\n",
       "      <th>Metacritic_user_vote_count</th>\n",
       "      <th>IMDB_user_vote_count</th>\n",
       "      <th>Fandango_votes</th>\n",
       "      <th>Fandango_Difference</th>\n",
       "    </tr>\n",
       "  </thead>\n",
       "  <tbody>\n",
       "    <tr>\n",
       "      <th>0</th>\n",
       "      <td>Avengers: Age of Ultron (2015)</td>\n",
       "      <td>74</td>\n",
       "      <td>86</td>\n",
       "      <td>66</td>\n",
       "      <td>7.1</td>\n",
       "      <td>7.8</td>\n",
       "      <td>5.0</td>\n",
       "      <td>4.5</td>\n",
       "      <td>3.70</td>\n",
       "      <td>4.3</td>\n",
       "      <td>...</td>\n",
       "      <td>3.90</td>\n",
       "      <td>3.5</td>\n",
       "      <td>4.5</td>\n",
       "      <td>3.5</td>\n",
       "      <td>3.5</td>\n",
       "      <td>4.0</td>\n",
       "      <td>1330</td>\n",
       "      <td>271107</td>\n",
       "      <td>14846</td>\n",
       "      <td>0.5</td>\n",
       "    </tr>\n",
       "    <tr>\n",
       "      <th>1</th>\n",
       "      <td>Cinderella (2015)</td>\n",
       "      <td>85</td>\n",
       "      <td>80</td>\n",
       "      <td>67</td>\n",
       "      <td>7.5</td>\n",
       "      <td>7.1</td>\n",
       "      <td>5.0</td>\n",
       "      <td>4.5</td>\n",
       "      <td>4.25</td>\n",
       "      <td>4.0</td>\n",
       "      <td>...</td>\n",
       "      <td>3.55</td>\n",
       "      <td>4.5</td>\n",
       "      <td>4.0</td>\n",
       "      <td>3.5</td>\n",
       "      <td>4.0</td>\n",
       "      <td>3.5</td>\n",
       "      <td>249</td>\n",
       "      <td>65709</td>\n",
       "      <td>12640</td>\n",
       "      <td>0.5</td>\n",
       "    </tr>\n",
       "  </tbody>\n",
       "</table>\n",
       "<p>2 rows × 22 columns</p>\n",
       "</div>"
      ],
      "text/plain": [
       "                             FILM  RottenTomatoes  RottenTomatoes_User  \\\n",
       "0  Avengers: Age of Ultron (2015)              74                   86   \n",
       "1               Cinderella (2015)              85                   80   \n",
       "\n",
       "   Metacritic  Metacritic_User  IMDB  Fandango_Stars  Fandango_Ratingvalue  \\\n",
       "0          66              7.1   7.8             5.0                   4.5   \n",
       "1          67              7.5   7.1             5.0                   4.5   \n",
       "\n",
       "   RT_norm  RT_user_norm         ...           IMDB_norm  RT_norm_round  \\\n",
       "0     3.70           4.3         ...                3.90            3.5   \n",
       "1     4.25           4.0         ...                3.55            4.5   \n",
       "\n",
       "   RT_user_norm_round  Metacritic_norm_round  Metacritic_user_norm_round  \\\n",
       "0                 4.5                    3.5                         3.5   \n",
       "1                 4.0                    3.5                         4.0   \n",
       "\n",
       "   IMDB_norm_round  Metacritic_user_vote_count  IMDB_user_vote_count  \\\n",
       "0              4.0                        1330                271107   \n",
       "1              3.5                         249                 65709   \n",
       "\n",
       "   Fandango_votes  Fandango_Difference  \n",
       "0           14846                  0.5  \n",
       "1           12640                  0.5  \n",
       "\n",
       "[2 rows x 22 columns]"
      ]
     },
     "execution_count": 1,
     "metadata": {},
     "output_type": "execute_result"
    }
   ],
   "source": [
    "import pandas as pd\n",
    "import numpy as np\n",
    "\n",
    "fandango = pd.read_csv(\"fandango_score_comparison.csv\")\n",
    "fandango.head(2)"
   ]
  },
  {
   "cell_type": "code",
   "execution_count": 3,
   "metadata": {},
   "outputs": [
    {
     "name": "stdout",
     "output_type": "stream",
     "text": [
      "0    Avengers: Age of Ultron (2015)\n",
      "1                 Cinderella (2015)\n",
      "2                    Ant-Man (2015)\n",
      "3            Do You Believe? (2015)\n",
      "4     Hot Tub Time Machine 2 (2015)\n",
      "Name: FILM, dtype: object\n",
      "0    74\n",
      "1    85\n",
      "2    80\n",
      "3    18\n",
      "4    14\n",
      "Name: RottenTomatoes, dtype: int64\n"
     ]
    }
   ],
   "source": [
    "series_film = fandango['FILM']\n",
    "print(series_film.head())\n",
    "\n",
    "series_rt = fandango['RottenTomatoes']\n",
    "print(series_rt.head())"
   ]
  },
  {
   "cell_type": "code",
   "execution_count": 5,
   "metadata": {},
   "outputs": [],
   "source": [
    "film_names = series_film.values\n",
    "rt_scores = series_rt.values"
   ]
  },
  {
   "cell_type": "code",
   "execution_count": 9,
   "metadata": {},
   "outputs": [],
   "source": [
    "from pandas import Series\n",
    "series_custom = Series(data = rt_scores, index = film_names)"
   ]
  },
  {
   "cell_type": "markdown",
   "metadata": {},
   "source": [
    "Slicing:\n",
    "1. Use series[[a,b,c]] to get three specific values\n",
    "2. Use series[a:c] to get a range *REMEMBER that the final value is NOT included when slicing*"
   ]
  },
  {
   "cell_type": "code",
   "execution_count": 14,
   "metadata": {},
   "outputs": [
    {
     "data": {
      "text/plain": [
       "The Water Diviner (2015)             63\n",
       "Irrational Man (2015)                42\n",
       "Top Five (2014)                      86\n",
       "Shaun the Sheep Movie (2015)         99\n",
       "Love & Mercy (2015)                  89\n",
       "Far From The Madding Crowd (2015)    84\n",
       "dtype: int64"
      ]
     },
     "execution_count": 14,
     "metadata": {},
     "output_type": "execute_result"
    }
   ],
   "source": [
    "fiveten = series_custom[5:11]\n",
    "fiveten"
   ]
  },
  {
   "cell_type": "code",
   "execution_count": 21,
   "metadata": {},
   "outputs": [],
   "source": [
    "sorted_series = series_custom.reindex(sorted(series_custom.index))\n",
    "\n",
    "sorted_by_title = series_custom.sort_index()\n",
    "sorted_by_score = series_custom.sort_values()"
   ]
  },
  {
   "cell_type": "markdown",
   "metadata": {},
   "source": [
    "## Subsetting Example"
   ]
  },
  {
   "cell_type": "code",
   "execution_count": 25,
   "metadata": {},
   "outputs": [
    {
     "data": {
      "text/plain": [
       "'71 (2015)                                          97\n",
       "A Most Violent Year (2014)                          90\n",
       "About Elly (2015)                                   97\n",
       "Amy (2015)                                          97\n",
       "Ant-Man (2015)                                      80\n",
       "Birdman (2014)                                      92\n",
       "Black Sea (2015)                                    82\n",
       "Cinderella (2015)                                   85\n",
       "Clouds of Sils Maria (2015)                         89\n",
       "Danny Collins (2015)                                77\n",
       "Dope (2015)                                         87\n",
       "Ex Machina (2015)                                   92\n",
       "Far From The Madding Crowd (2015)                   84\n",
       "Furious 7 (2015)                                    81\n",
       "Gett: The Trial of Viviane Amsalem (2015)          100\n",
       "I'll See You In My Dreams (2015)                    94\n",
       "Infinitely Polar Bear (2015)                        80\n",
       "Inside Out (2015)                                   98\n",
       "It Follows (2015)                                   96\n",
       "Kumiko, The Treasure Hunter (2015)                  87\n",
       "Leviathan (2014)                                    99\n",
       "Love & Mercy (2015)                                 89\n",
       "Mad Max: Fury Road (2015)                           97\n",
       "McFarland, USA (2015)                               79\n",
       "Me and Earl and The Dying Girl (2015)               81\n",
       "Mission: Impossible â€“ Rogue Nation (2015)         92\n",
       "Monkey Kingdom (2015)                               94\n",
       "Mr. Holmes (2015)                                   87\n",
       "Mr. Turner (2014)                                   98\n",
       "Paddington (2015)                                   98\n",
       "Phoenix (2015)                                      99\n",
       "Red Army (2015)                                     96\n",
       "Selma (2014)                                        99\n",
       "Seymour: An Introduction (2015)                    100\n",
       "Shaun the Sheep Movie (2015)                        99\n",
       "Song of the Sea (2014)                              99\n",
       "Spy (2015)                                          93\n",
       "Still Alice (2015)                                  88\n",
       "Straight Outta Compton (2015)                       90\n",
       "Tangerine (2015)                                    95\n",
       "Testament of Youth (2015)                           81\n",
       "The Diary of a Teenage Girl (2015)                  95\n",
       "The End of the Tour (2015)                          92\n",
       "The Gift (2015)                                     93\n",
       "The Hunting Ground (2015)                           92\n",
       "The Imitation Game (2014)                           90\n",
       "The Overnight (2015)                                82\n",
       "The Salt of the Earth (2015)                        96\n",
       "The SpongeBob Movie: Sponge Out of Water (2015)     78\n",
       "The Stanford Prison Experiment (2015)               84\n",
       "The Wolfpack (2015)                                 84\n",
       "The Wrecking Crew (2015)                            93\n",
       "Timbuktu (2015)                                     99\n",
       "Top Five (2014)                                     86\n",
       "Trainwreck (2015)                                   85\n",
       "Two Days, One Night (2014)                          97\n",
       "What We Do in the Shadows (2015)                    96\n",
       "When Marnie Was There (2015)                        89\n",
       "While We're Young (2015)                            83\n",
       "Wild Tales (2014)                                   96\n",
       "dtype: int64"
      ]
     },
     "execution_count": 25,
     "metadata": {},
     "output_type": "execute_result"
    }
   ],
   "source": [
    "sorted_series[sorted_series > 75]"
   ]
  },
  {
   "cell_type": "code",
   "execution_count": 28,
   "metadata": {},
   "outputs": [
    {
     "name": "stdout",
     "output_type": "stream",
     "text": [
      "107 µs ± 880 ns per loop (mean ± std. dev. of 7 runs, 10000 loops each)\n"
     ]
    }
   ],
   "source": [
    "%%timeit\n",
    "sorted_by_score/10"
   ]
  },
  {
   "cell_type": "code",
   "execution_count": 31,
   "metadata": {},
   "outputs": [
    {
     "name": "stdout",
     "output_type": "stream",
     "text": [
      "2.63 ms ± 3.72 µs per loop (mean ± std. dev. of 7 runs, 100 loops each)\n"
     ]
    }
   ],
   "source": [
    "%%timeit\n",
    "for i in range(len(sorted_by_score)):\n",
    "    sorted_by_score[i]/10"
   ]
  },
  {
   "cell_type": "markdown",
   "metadata": {},
   "source": [
    "Using vectorization for math values in Series greatly reduces processing time. In this example above, vectorization speeds the process up by 25x"
   ]
  },
  {
   "cell_type": "code",
   "execution_count": 35,
   "metadata": {},
   "outputs": [],
   "source": [
    "rt_critics = Series(fandango['RottenTomatoes'].values, index = fandango['FILM'])\n",
    "rt_users = Series(fandango['RottenTomatoes_User'].values, index = fandango['FILM'])"
   ]
  },
  {
   "cell_type": "code",
   "execution_count": 36,
   "metadata": {},
   "outputs": [],
   "source": [
    "rt_mean = (rt_critics + rt_users)/2"
   ]
  },
  {
   "cell_type": "code",
   "execution_count": null,
   "metadata": {},
   "outputs": [],
   "source": []
  }
 ],
 "metadata": {
  "kernelspec": {
   "display_name": "Python 3",
   "language": "python",
   "name": "python3"
  },
  "language_info": {
   "codemirror_mode": {
    "name": "ipython",
    "version": 3
   },
   "file_extension": ".py",
   "mimetype": "text/x-python",
   "name": "python",
   "nbconvert_exporter": "python",
   "pygments_lexer": "ipython3",
   "version": "3.6.4"
  }
 },
 "nbformat": 4,
 "nbformat_minor": 2
}
