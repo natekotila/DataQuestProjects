{
 "cells": [
  {
   "cell_type": "code",
   "execution_count": 1,
   "metadata": {},
   "outputs": [],
   "source": [
    "import psycopg2\n",
    "import csv\n",
    "from datetime import date\n",
    "conn = psycopg2.connect(dbname=\"nate\", user=\"nate\")\n",
    "cur = conn.cursor()\n"
   ]
  },
  {
   "cell_type": "code",
   "execution_count": 2,
   "metadata": {},
   "outputs": [],
   "source": [
    "with open('ign.csv') as f:\n",
    "    next(f)\n",
    "    reader = csv.reader(f)\n",
    "    data = [row for row in reader]\n",
    "        "
   ]
  },
  {
   "cell_type": "code",
   "execution_count": 3,
   "metadata": {},
   "outputs": [
    {
     "data": {
      "text/plain": [
       "18625"
      ]
     },
     "execution_count": 3,
     "metadata": {},
     "output_type": "execute_result"
    }
   ],
   "source": [
    "len(data)"
   ]
  },
  {
   "cell_type": "code",
   "execution_count": 4,
   "metadata": {},
   "outputs": [
    {
     "data": {
      "text/plain": [
       "['5249979066121302517',\n",
       " 'Amazing',\n",
       " 'LittleBigPlanet PS Vita',\n",
       " '/games/littlebigplanet-vita/vita-98907',\n",
       " 'PlayStation Vita',\n",
       " '9.0',\n",
       " 'Platformer',\n",
       " 'Y',\n",
       " '2012',\n",
       " '9',\n",
       " '12']"
      ]
     },
     "execution_count": 4,
     "metadata": {},
     "output_type": "execute_result"
    }
   ],
   "source": [
    "data[0]"
   ]
  },
  {
   "cell_type": "code",
   "execution_count": 5,
   "metadata": {},
   "outputs": [],
   "source": [
    "updated_data = []\n",
    "for row in data:\n",
    "    updated_row = row[:8]\n",
    "    updated_row.append(date(int(row[8]), int(row[9]), int(row[10])))\n",
    "    updated_data.append(updated_row)\n",
    "data = updated_data\n"
   ]
  },
  {
   "cell_type": "code",
   "execution_count": 6,
   "metadata": {},
   "outputs": [],
   "source": [
    "labels = {\n",
    "    'id': 0,\n",
    "    'score_phrase': 1,\n",
    "    'title': 2,\n",
    "    'url': 3,\n",
    "    'platform' : 4,\n",
    "    'score': 5,\n",
    "    'genre': 6,\n",
    "    \"editors_choice\": 7\n",
    "    \n",
    "}"
   ]
  },
  {
   "cell_type": "code",
   "execution_count": 7,
   "metadata": {},
   "outputs": [
    {
     "data": {
      "text/plain": [
       "{'id': 0,\n",
       " 'score_phrase': 1,\n",
       " 'title': 2,\n",
       " 'url': 3,\n",
       " 'platform': 4,\n",
       " 'score': 5,\n",
       " 'genre': 6,\n",
       " 'editors_choice': 7}"
      ]
     },
     "execution_count": 7,
     "metadata": {},
     "output_type": "execute_result"
    }
   ],
   "source": [
    "labels"
   ]
  },
  {
   "cell_type": "code",
   "execution_count": 8,
   "metadata": {},
   "outputs": [],
   "source": [
    "def column_max(col):\n",
    "    max_score = 0\n",
    "    for row in data:\n",
    "        if len(row[col]) > max_score:\n",
    "            max_score = len(row[col])\n",
    "    return max_score\n",
    "    "
   ]
  },
  {
   "cell_type": "code",
   "execution_count": 9,
   "metadata": {},
   "outputs": [],
   "source": [
    "scores = {}\n",
    "for key, value in labels.items():\n",
    "    scores[key] = column_max(value)"
   ]
  },
  {
   "cell_type": "code",
   "execution_count": 10,
   "metadata": {},
   "outputs": [
    {
     "data": {
      "text/plain": [
       "{'id': 19,\n",
       " 'score_phrase': 11,\n",
       " 'title': 96,\n",
       " 'url': 105,\n",
       " 'platform': 20,\n",
       " 'score': 4,\n",
       " 'genre': 25,\n",
       " 'editors_choice': 1}"
      ]
     },
     "execution_count": 10,
     "metadata": {},
     "output_type": "execute_result"
    }
   ],
   "source": [
    "scores"
   ]
  },
  {
   "cell_type": "code",
   "execution_count": 11,
   "metadata": {},
   "outputs": [],
   "source": [
    "cur.execute('DROP TABLE IF EXISTS ign_reviews')"
   ]
  },
  {
   "cell_type": "code",
   "execution_count": 12,
   "metadata": {},
   "outputs": [],
   "source": [
    "cur.execute(\"\"\"\n",
    "    CREATE TABLE IF NOT EXISTS ign_reviews (\n",
    "        id BIGINT PRIMARY KEY,\n",
    "        score_phrase VARCHAR(11),\n",
    "        title VARCHAR(96),\n",
    "        url VARCHAR(105),\n",
    "        platform VARCHAR(20),\n",
    "        score DECIMAL(3,1),\n",
    "        genre VARCHAR(25),\n",
    "        editors_choice BOOLEAN,\n",
    "        date DATE\n",
    "        \n",
    "    )\n",
    "\"\"\")\n",
    "conn.commit()"
   ]
  },
  {
   "cell_type": "code",
   "execution_count": 13,
   "metadata": {},
   "outputs": [],
   "source": [
    "for row in data:\n",
    "    cur.execute('INSERT INTO ign_reviews VALUES (%s, %s, %s, %s, %s, %s, %s, %s,  %s)', row)\n",
    "    \n",
    "conn.commit() "
   ]
  },
  {
   "cell_type": "code",
   "execution_count": 14,
   "metadata": {},
   "outputs": [],
   "source": [
    "cur.execute('SELECT * FROM ign_reviews')"
   ]
  },
  {
   "cell_type": "code",
   "execution_count": 15,
   "metadata": {},
   "outputs": [
    {
     "name": "stdout",
     "output_type": "stream",
     "text": [
      "[(5249979066121302517, 'Amazing', 'LittleBigPlanet PS Vita', '/games/littlebigplanet-vita/vita-98907', 'PlayStation Vita', Decimal('9.0'), 'Platformer', True, datetime.date(2012, 9, 12)), (7399589116837456607, 'Amazing', 'LittleBigPlanet PS Vita -- Marvel Super Hero Edition', '/games/littlebigplanet-ps-vita-marvel-super-hero-edition/vita-20027059', 'PlayStation Vita', Decimal('9.0'), 'Platformer', True, datetime.date(2012, 9, 12)), (582057716445789124, 'Great', 'Splice: Tree of Life', '/games/splice/ipad-141070', 'iPad', Decimal('8.5'), 'Puzzle', False, datetime.date(2012, 9, 12))]\n"
     ]
    }
   ],
   "source": [
    "table = cur.fetchall()\n",
    "print(table[:3])"
   ]
  },
  {
   "cell_type": "code",
   "execution_count": 16,
   "metadata": {},
   "outputs": [],
   "source": [
    "#conn.close()"
   ]
  },
  {
   "cell_type": "code",
   "execution_count": null,
   "metadata": {},
   "outputs": [],
   "source": []
  }
 ],
 "metadata": {
  "kernelspec": {
   "display_name": "Python 3",
   "language": "python",
   "name": "python3"
  },
  "language_info": {
   "codemirror_mode": {
    "name": "ipython",
    "version": 3
   },
   "file_extension": ".py",
   "mimetype": "text/x-python",
   "name": "python",
   "nbconvert_exporter": "python",
   "pygments_lexer": "ipython3",
   "version": "3.7.4"
  }
 },
 "nbformat": 4,
 "nbformat_minor": 4
}
