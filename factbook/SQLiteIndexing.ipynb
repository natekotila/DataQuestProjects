{
 "cells": [
  {
   "cell_type": "markdown",
   "metadata": {},
   "source": [
    "# Single Column Indexing"
   ]
  },
  {
   "cell_type": "markdown",
   "metadata": {},
   "source": [
    "In order to optimize the speed of SQL, we must learn how to properly make use of indexing. Indexing will allow our SQL queries to take advantage of binary search, rather than scanning an entire table"
   ]
  },
  {
   "cell_type": "code",
   "execution_count": 6,
   "metadata": {},
   "outputs": [
    {
     "name": "stdout",
     "output_type": "stream",
     "text": [
      "(0, 'id', 'INTEGER', 1, None, 1)\n",
      "(1, 'code', 'varchar(255)', 1, None, 0)\n",
      "(2, 'name', 'varchar(255)', 1, None, 0)\n",
      "(3, 'area', 'integer', 0, None, 0)\n",
      "(4, 'area_land', 'integer', 0, None, 0)\n",
      "(5, 'area_water', 'integer', 0, None, 0)\n",
      "(6, 'population', 'integer', 0, None, 0)\n",
      "(7, 'population_growth', 'float', 0, None, 0)\n",
      "(8, 'birth_rate', 'float', 0, None, 0)\n",
      "(9, 'death_rate', 'float', 0, None, 0)\n",
      "(10, 'migration_rate', 'float', 0, None, 0)\n"
     ]
    }
   ],
   "source": [
    "import sqlite3\n",
    "conn = sqlite3.connect('factbook.db')\n",
    "schema = conn.execute(\"pragma table_info(facts);\").fetchall()\n",
    "for s in schema:\n",
    "    print(s)"
   ]
  },
  {
   "cell_type": "markdown",
   "metadata": {},
   "source": [
    "### Viewing Query Plans to check for efficiency"
   ]
  },
  {
   "cell_type": "code",
   "execution_count": 7,
   "metadata": {},
   "outputs": [
    {
     "data": {
      "text/plain": [
       "<sqlite3.Cursor at 0x13f7592a500>"
      ]
     },
     "execution_count": 7,
     "metadata": {},
     "output_type": "execute_result"
    }
   ],
   "source": [
    "conn.execute(\"CREATE INDEX IF NOT EXISTS name_idx ON facts(name)\")"
   ]
  },
  {
   "cell_type": "code",
   "execution_count": 15,
   "metadata": {},
   "outputs": [
    {
     "name": "stdout",
     "output_type": "stream",
     "text": [
      "[(0, 0, 0, 'SCAN TABLE facts')]\n",
      "[(0, 0, 0, 'SCAN TABLE facts')]\n",
      "[(0, 0, 0, 'SEARCH TABLE facts USING INDEX name_idx (name=?)')]\n",
      "[(0, 0, 0, 'SEARCH TABLE facts USING INTEGER PRIMARY KEY (rowid=?)')]\n"
     ]
    }
   ],
   "source": [
    "query_plan_one = conn.execute('''\n",
    "EXPLAIN QUERY PLAN \n",
    "    SELECT * \n",
    "    FROM facts \n",
    "    WHERE area > 40000\n",
    ";''').fetchall()\n",
    "print(query_plan_one)\n",
    "\n",
    "query_plan_two = conn.execute('''\n",
    "EXPLAIN QUERY PLAN \n",
    "    SELECT area \n",
    "    FROM facts \n",
    "    WHERE area > 40000\n",
    ";''').fetchall()\n",
    "print(query_plan_two)\n",
    "\n",
    "query_plan_three = conn.execute('''\n",
    "EXPLAIN QUERY PLAN \n",
    "    SELECT * \n",
    "    FROM facts \n",
    "    WHERE name = 'Czech Republic'\n",
    ";''').fetchall()\n",
    "print(query_plan_three)\n",
    "\n",
    "query_plan_four = conn.execute('''\n",
    "EXPLAIN QUERY PLAN \n",
    "    SELECT * \n",
    "    FROM facts \n",
    "    WHERE id=20\n",
    ";''').fetchall()\n",
    "print(query_plan_four)\n"
   ]
  },
  {
   "cell_type": "markdown",
   "metadata": {},
   "source": [
    "More query plans. You may wonder where query_plan_five went. I wonder the same thing. "
   ]
  },
  {
   "cell_type": "code",
   "execution_count": 9,
   "metadata": {},
   "outputs": [
    {
     "name": "stdout",
     "output_type": "stream",
     "text": [
      "[(0, 0, 0, 'SEARCH TABLE facts USING INDEX pop_idx (population>?)')]\n",
      "[(0, 0, 0, 'SEARCH TABLE facts USING INDEX pop_idx (population>?)')]\n"
     ]
    }
   ],
   "source": [
    "query_plan_six = conn.execute('''\n",
    "EXPLAIN QUERY PLAN \n",
    "    SELECT * \n",
    "    FROM facts \n",
    "    WHERE population > 10000\n",
    ";''').fetchall()\n",
    "print(query_plan_six)\n",
    "\n",
    "conn.execute(\"CREATE INDEX IF NOT EXISTS pop_idx ON facts(population)\")\n",
    "\n",
    "query_plan_seven = conn.execute('''\n",
    "EXPLAIN QUERY PLAN \n",
    "    SELECT * \n",
    "    FROM facts \n",
    "    WHERE population > 10000\n",
    ";''').fetchall()\n",
    "print(query_plan_seven)"
   ]
  },
  {
   "cell_type": "markdown",
   "metadata": {},
   "source": [
    "Knowing the query plans will allow for increased efficiency when searching databases. At least, it will allow for some knowledge of what needs to be optimized. If the query is searching the entire table, perhaps there should be an index addressing the specific column that we are searching."
   ]
  },
  {
   "cell_type": "markdown",
   "metadata": {},
   "source": [
    "# Multi-Column Indexing"
   ]
  },
  {
   "cell_type": "code",
   "execution_count": 10,
   "metadata": {},
   "outputs": [
    {
     "name": "stdout",
     "output_type": "stream",
     "text": [
      "[(0, 0, 0, 'SEARCH TABLE facts USING INDEX pop_idx (population>?)')]\n"
     ]
    }
   ],
   "source": [
    "query_plan_one = conn.execute('''\n",
    "EXPLAIN QUERY PLAN \n",
    "SELECT * \n",
    "FROM facts \n",
    "WHERE \n",
    "    population_growth < .05 \n",
    "    AND \n",
    "    population > 1000000\n",
    ";''').fetchall()\n",
    "print(query_plan_one)"
   ]
  },
  {
   "cell_type": "markdown",
   "metadata": {},
   "source": [
    "In order to increase efficiency over two columns, we can create two different indexes"
   ]
  },
  {
   "cell_type": "code",
   "execution_count": 11,
   "metadata": {},
   "outputs": [
    {
     "name": "stdout",
     "output_type": "stream",
     "text": [
      "[(0, 0, 0, 'SEARCH TABLE facts USING INDEX pop_growth_idx (population_growth<?)')]\n"
     ]
    }
   ],
   "source": [
    "conn.execute(\"CREATE INDEX IF NOT EXISTS pop_idx ON facts(population)\")\n",
    "conn.execute(\"CREATE INDEX IF NOT EXISTS pop_growth_idx ON facts(population_growth)\")\n",
    "\n",
    "query_plan_two = conn.execute('''\n",
    "EXPLAIN QUERY PLAN \n",
    "    SELECT * \n",
    "    FROM facts \n",
    "    WHERE \n",
    "        population > 100000 \n",
    "        AND \n",
    "        population_growth < 0.05\n",
    ";''').fetchall()\n",
    "print(query_plan_two)"
   ]
  },
  {
   "cell_type": "markdown",
   "metadata": {},
   "source": [
    "**The attempt above has an issue. Only one of the two indices created was used.** \n",
    "\n",
    "Our next attempt will create a single index over two separate columns."
   ]
  },
  {
   "cell_type": "code",
   "execution_count": 14,
   "metadata": {},
   "outputs": [
    {
     "name": "stdout",
     "output_type": "stream",
     "text": [
      "[(0, 0, 0, 'SEARCH TABLE facts USING INDEX pop_pop_growth_idx (population>?)')]\n"
     ]
    }
   ],
   "source": [
    "conn.execute(\"CREATE INDEX IF NOT EXISTS pop_pop_growth_idx ON facts(population, population_growth);\")\n",
    "\n",
    "query_plan_three =  conn.execute('''\n",
    "EXPLAIN QUERY PLAN \n",
    "    SELECT * \n",
    "    FROM facts \n",
    "    WHERE \n",
    "        population > 1000000 \n",
    "        AND \n",
    "        population_growth < 0.05;\n",
    "''').fetchall()\n",
    "print(query_plan_three)"
   ]
  },
  {
   "cell_type": "code",
   "execution_count": 13,
   "metadata": {},
   "outputs": [
    {
     "name": "stdout",
     "output_type": "stream",
     "text": [
      "[(0, 0, 0, 'SEARCH TABLE facts USING COVERING INDEX pop_pop_growth_idx (population>?)')]\n"
     ]
    }
   ],
   "source": [
    "query_plan_four = conn.execute('''\n",
    "EXPLAIN QUERY PLAN \n",
    "SELECT \n",
    "    population, \n",
    "    population_growth \n",
    "FROM facts \n",
    "WHERE \n",
    "    population > 1000000 \n",
    "    AND \n",
    "    population_growth < 0.05\n",
    ";''').fetchall()\n",
    "print(query_plan_four)"
   ]
  },
  {
   "cell_type": "code",
   "execution_count": null,
   "metadata": {},
   "outputs": [],
   "source": []
  }
 ],
 "metadata": {
  "kernelspec": {
   "display_name": "Python 3",
   "language": "python",
   "name": "python3"
  },
  "language_info": {
   "codemirror_mode": {
    "name": "ipython",
    "version": 3
   },
   "file_extension": ".py",
   "mimetype": "text/x-python",
   "name": "python",
   "nbconvert_exporter": "python",
   "pygments_lexer": "ipython3",
   "version": "3.6.4"
  }
 },
 "nbformat": 4,
 "nbformat_minor": 2
}
