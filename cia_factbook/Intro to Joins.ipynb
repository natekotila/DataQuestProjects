{
 "cells": [
  {
   "cell_type": "markdown",
   "metadata": {},
   "source": [
    "# Joins Using the CIA Factbook\n",
    "\n",
    "The purpose of this notebook is to continue using the CIA Factbook to expand SQL skills. Specifically using Joins"
   ]
  },
  {
   "cell_type": "code",
   "execution_count": 1,
   "metadata": {},
   "outputs": [],
   "source": [
    "%%capture\n",
    "%load_ext sql\n",
    "%sql sqlite:///factbook.db"
   ]
  },
  {
   "cell_type": "markdown",
   "metadata": {},
   "source": [
    "## Inner Joins"
   ]
  },
  {
   "cell_type": "code",
   "execution_count": 2,
   "metadata": {},
   "outputs": [
    {
     "output_type": "stream",
     "name": "stdout",
     "text": "* sqlite:///factbook.db\nDone.\n"
    },
    {
     "output_type": "execute_result",
     "data": {
      "text/plain": "[(216, 'aa', 'Aruba', 180, 180, 0, 112162, 1.33, 12.56, 8.18, 8.92, 1, 'Oranjestad', 37000, 1, '216'),\n (6, 'ac', 'Antigua and Barbuda', 442, 442, 0, 92436, 1.24, 15.85, 5.69, 2.21, 2, \"Saint John'S\", 27000, 1, '6'),\n (184, 'ae', 'United Arab Emirates', 83600, 83600, 0, 5779760, 2.58, 15.43, 1.97, 12.36, 3, 'Abu Dhabi', 942000, 1, '184'),\n (184, 'ae', 'United Arab Emirates', 83600, 83600, 0, 5779760, 2.58, 15.43, 1.97, 12.36, 4, 'Dubai', 1978000, 0, '184'),\n (184, 'ae', 'United Arab Emirates', 83600, 83600, 0, 5779760, 2.58, 15.43, 1.97, 12.36, 5, 'Sharjah', 983000, 0, '184'),\n (1, 'af', 'Afghanistan', 652230, 652230, 0, 32564342, 2.32, 38.57, 13.89, 1.51, 6, 'Kabul', 3097000, 1, '1'),\n (3, 'ag', 'Algeria', 2381741, 2381741, 0, 39542166, 1.84, 23.67, 4.31, 0.92, 7, 'Algiers', 2916000, 1, '3'),\n (3, 'ag', 'Algeria', 2381741, 2381741, 0, 39542166, 1.84, 23.67, 4.31, 0.92, 8, 'Oran', 783000, 0, '3'),\n (11, 'aj', 'Azerbaijan', 86600, 82629, 3971, 9780780, 0.96, 16.64, 7.07, 0.0, 9, 'Baku', 2123000, 1, '11'),\n (2, 'al', 'Albania', 28748, 27398, 1350, 3029278, 0.3, 12.92, 6.58, 3.3, 10, 'Tirana', 419000, 1, '2')]",
      "text/html": "<table>\n    <tr>\n        <th>id</th>\n        <th>code</th>\n        <th>name</th>\n        <th>area</th>\n        <th>area_land</th>\n        <th>area_water</th>\n        <th>population</th>\n        <th>population_growth</th>\n        <th>birth_rate</th>\n        <th>death_rate</th>\n        <th>migration_rate</th>\n        <th>id_1</th>\n        <th>name_1</th>\n        <th>population_1</th>\n        <th>capital</th>\n        <th>facts_id</th>\n    </tr>\n    <tr>\n        <td>216</td>\n        <td>aa</td>\n        <td>Aruba</td>\n        <td>180</td>\n        <td>180</td>\n        <td>0</td>\n        <td>112162</td>\n        <td>1.33</td>\n        <td>12.56</td>\n        <td>8.18</td>\n        <td>8.92</td>\n        <td>1</td>\n        <td>Oranjestad</td>\n        <td>37000</td>\n        <td>1</td>\n        <td>216</td>\n    </tr>\n    <tr>\n        <td>6</td>\n        <td>ac</td>\n        <td>Antigua and Barbuda</td>\n        <td>442</td>\n        <td>442</td>\n        <td>0</td>\n        <td>92436</td>\n        <td>1.24</td>\n        <td>15.85</td>\n        <td>5.69</td>\n        <td>2.21</td>\n        <td>2</td>\n        <td>Saint John&#x27;S</td>\n        <td>27000</td>\n        <td>1</td>\n        <td>6</td>\n    </tr>\n    <tr>\n        <td>184</td>\n        <td>ae</td>\n        <td>United Arab Emirates</td>\n        <td>83600</td>\n        <td>83600</td>\n        <td>0</td>\n        <td>5779760</td>\n        <td>2.58</td>\n        <td>15.43</td>\n        <td>1.97</td>\n        <td>12.36</td>\n        <td>3</td>\n        <td>Abu Dhabi</td>\n        <td>942000</td>\n        <td>1</td>\n        <td>184</td>\n    </tr>\n    <tr>\n        <td>184</td>\n        <td>ae</td>\n        <td>United Arab Emirates</td>\n        <td>83600</td>\n        <td>83600</td>\n        <td>0</td>\n        <td>5779760</td>\n        <td>2.58</td>\n        <td>15.43</td>\n        <td>1.97</td>\n        <td>12.36</td>\n        <td>4</td>\n        <td>Dubai</td>\n        <td>1978000</td>\n        <td>0</td>\n        <td>184</td>\n    </tr>\n    <tr>\n        <td>184</td>\n        <td>ae</td>\n        <td>United Arab Emirates</td>\n        <td>83600</td>\n        <td>83600</td>\n        <td>0</td>\n        <td>5779760</td>\n        <td>2.58</td>\n        <td>15.43</td>\n        <td>1.97</td>\n        <td>12.36</td>\n        <td>5</td>\n        <td>Sharjah</td>\n        <td>983000</td>\n        <td>0</td>\n        <td>184</td>\n    </tr>\n    <tr>\n        <td>1</td>\n        <td>af</td>\n        <td>Afghanistan</td>\n        <td>652230</td>\n        <td>652230</td>\n        <td>0</td>\n        <td>32564342</td>\n        <td>2.32</td>\n        <td>38.57</td>\n        <td>13.89</td>\n        <td>1.51</td>\n        <td>6</td>\n        <td>Kabul</td>\n        <td>3097000</td>\n        <td>1</td>\n        <td>1</td>\n    </tr>\n    <tr>\n        <td>3</td>\n        <td>ag</td>\n        <td>Algeria</td>\n        <td>2381741</td>\n        <td>2381741</td>\n        <td>0</td>\n        <td>39542166</td>\n        <td>1.84</td>\n        <td>23.67</td>\n        <td>4.31</td>\n        <td>0.92</td>\n        <td>7</td>\n        <td>Algiers</td>\n        <td>2916000</td>\n        <td>1</td>\n        <td>3</td>\n    </tr>\n    <tr>\n        <td>3</td>\n        <td>ag</td>\n        <td>Algeria</td>\n        <td>2381741</td>\n        <td>2381741</td>\n        <td>0</td>\n        <td>39542166</td>\n        <td>1.84</td>\n        <td>23.67</td>\n        <td>4.31</td>\n        <td>0.92</td>\n        <td>8</td>\n        <td>Oran</td>\n        <td>783000</td>\n        <td>0</td>\n        <td>3</td>\n    </tr>\n    <tr>\n        <td>11</td>\n        <td>aj</td>\n        <td>Azerbaijan</td>\n        <td>86600</td>\n        <td>82629</td>\n        <td>3971</td>\n        <td>9780780</td>\n        <td>0.96</td>\n        <td>16.64</td>\n        <td>7.07</td>\n        <td>0.0</td>\n        <td>9</td>\n        <td>Baku</td>\n        <td>2123000</td>\n        <td>1</td>\n        <td>11</td>\n    </tr>\n    <tr>\n        <td>2</td>\n        <td>al</td>\n        <td>Albania</td>\n        <td>28748</td>\n        <td>27398</td>\n        <td>1350</td>\n        <td>3029278</td>\n        <td>0.3</td>\n        <td>12.92</td>\n        <td>6.58</td>\n        <td>3.3</td>\n        <td>10</td>\n        <td>Tirana</td>\n        <td>419000</td>\n        <td>1</td>\n        <td>2</td>\n    </tr>\n</table>"
     },
     "metadata": {},
     "execution_count": 2
    }
   ],
   "source": [
    "%%sql\n",
    "SELECT *\n",
    "FROM facts\n",
    "INNER JOIN cities ON cities.facts_id = facts.id\n",
    "LIMIT 10;"
   ]
  },
  {
   "cell_type": "markdown",
   "metadata": {},
   "source": [
    "The above gives us the first 10 rows with columns that are the same in both tables."
   ]
  },
  {
   "cell_type": "code",
   "execution_count": 3,
   "metadata": {},
   "outputs": [
    {
     "output_type": "stream",
     "name": "stdout",
     "text": "* sqlite:///factbook.db\nDone.\n"
    },
    {
     "output_type": "execute_result",
     "data": {
      "text/plain": "[(1, 'Oranjestad', 37000, 1, '216', 'Aruba'),\n (2, \"Saint John'S\", 27000, 1, '6', 'Antigua and Barbuda'),\n (3, 'Abu Dhabi', 942000, 1, '184', 'United Arab Emirates'),\n (4, 'Dubai', 1978000, 0, '184', 'United Arab Emirates'),\n (5, 'Sharjah', 983000, 0, '184', 'United Arab Emirates')]",
      "text/html": "<table>\n    <tr>\n        <th>id</th>\n        <th>name</th>\n        <th>population</th>\n        <th>capital</th>\n        <th>facts_id</th>\n        <th>country_name</th>\n    </tr>\n    <tr>\n        <td>1</td>\n        <td>Oranjestad</td>\n        <td>37000</td>\n        <td>1</td>\n        <td>216</td>\n        <td>Aruba</td>\n    </tr>\n    <tr>\n        <td>2</td>\n        <td>Saint John&#x27;S</td>\n        <td>27000</td>\n        <td>1</td>\n        <td>6</td>\n        <td>Antigua and Barbuda</td>\n    </tr>\n    <tr>\n        <td>3</td>\n        <td>Abu Dhabi</td>\n        <td>942000</td>\n        <td>1</td>\n        <td>184</td>\n        <td>United Arab Emirates</td>\n    </tr>\n    <tr>\n        <td>4</td>\n        <td>Dubai</td>\n        <td>1978000</td>\n        <td>0</td>\n        <td>184</td>\n        <td>United Arab Emirates</td>\n    </tr>\n    <tr>\n        <td>5</td>\n        <td>Sharjah</td>\n        <td>983000</td>\n        <td>0</td>\n        <td>184</td>\n        <td>United Arab Emirates</td>\n    </tr>\n</table>"
     },
     "metadata": {},
     "execution_count": 3
    }
   ],
   "source": [
    "%%sql\n",
    "SELECT c.*, f.name AS country_name \n",
    "FROM facts f\n",
    "INNER JOIN cities c ON c.facts_id = f.id\n",
    "LIMIT 5;"
   ]
  },
  {
   "cell_type": "markdown",
   "metadata": {},
   "source": [
    "For the next query, I will combine the two tables and return capital cities for each country."
   ]
  },
  {
   "cell_type": "code",
   "execution_count": 4,
   "metadata": {},
   "outputs": [
    {
     "output_type": "stream",
     "name": "stdout",
     "text": "* sqlite:///factbook.db\nDone.\n"
    },
    {
     "output_type": "execute_result",
     "data": {
      "text/plain": "[('Aruba', 'Oranjestad'),\n ('Antigua and Barbuda', \"Saint John'S\"),\n ('United Arab Emirates', 'Abu Dhabi'),\n ('Afghanistan', 'Kabul'),\n ('Algeria', 'Algiers'),\n ('Azerbaijan', 'Baku'),\n ('Albania', 'Tirana'),\n ('Armenia', 'Yerevan'),\n ('Andorra', 'Andorra La Vella'),\n ('Angola', 'Luanda'),\n ('American Samoa', 'Pago Pago'),\n ('Argentina', 'Buenos Aires'),\n ('Australia', 'Canberra'),\n ('Austria', 'Vienna'),\n ('Anguilla', 'The Valley'),\n ('Bahrain', 'Manama'),\n ('Barbados', 'Bridgetown'),\n ('Botswana', 'Gaborone'),\n ('Bermuda', 'Hamilton'),\n ('Belgium', 'Brussels'),\n ('Bahamas, The', 'Nassau'),\n ('Bangladesh', 'Dhaka'),\n ('Belize', 'Belmopan'),\n ('Bosnia and Herzegovina', 'Sarajevo'),\n ('Bolivia', 'La Paz'),\n ('Burma', 'Rangoon'),\n ('Benin', 'Porto-Novo'),\n ('Belarus', 'Minsk'),\n ('Solomon Islands', 'Honiara'),\n ('Brazil', 'Brasilia'),\n ('Bhutan', 'Thimphu'),\n ('Bulgaria', 'Sofia'),\n ('Brunei', 'Bandar Seri Begawan'),\n ('Burundi', 'Bujumbura'),\n ('Canada', 'Ottawa'),\n ('Cambodia', 'Phnom Penh'),\n ('Chad', \"N'Djamena\"),\n ('Sri Lanka', 'Colombo'),\n ('Congo, Republic of the', 'Brazzaville'),\n ('Congo, Democratic Republic of the', 'Kinshasa'),\n ('China', 'Beijing'),\n ('Chile', 'Santiago'),\n ('Cayman Islands', 'George Town'),\n ('Cameroon', 'Yaounde'),\n ('Comoros', 'Moroni'),\n ('Colombia', 'Bogota'),\n ('Northern Mariana Islands', 'Saipan'),\n ('Costa Rica', 'San Jose'),\n ('Central African Republic', 'Bangui'),\n ('Cuba', 'Havana'),\n ('Cabo Verde', 'Praia'),\n ('Cyprus', 'Nicosia'),\n ('Denmark', 'Copenhagen'),\n ('Djibouti', 'Djibouti'),\n ('Dominica', 'Roseau'),\n ('Dominican Republic', 'Santo Domingo'),\n ('Ecuador', 'Quito'),\n ('Egypt', 'Cairo'),\n ('Ireland', 'Dublin'),\n ('Equatorial Guinea', 'Malabo'),\n ('Estonia', 'Tallinn'),\n ('Eritrea', 'Asmara'),\n ('El Salvador', 'San Salvador'),\n ('Ethiopia', 'Addis Ababa'),\n ('Czech Republic', 'Prague'),\n ('Finland', 'Helsinki'),\n ('Fiji', 'Suva'),\n ('Falkland Islands (Islas Malvinas)', 'Stanley'),\n ('Micronesia, Federated States of', 'Palikir'),\n ('Faroe Islands', 'Torshavn'),\n ('French Polynesia', 'Papeete'),\n ('France', 'Paris'),\n ('Gambia, The', 'Banjul'),\n ('Gabon', 'Libreville'),\n ('Georgia', 'Tbilisi'),\n ('Ghana', 'Accra'),\n ('Grenada', \"Saint George'S\"),\n ('Greenland', 'Nuuk'),\n ('Germany', 'Berlin'),\n ('Guam', 'Hagatna'),\n ('Greece', 'Athens'),\n ('Guatemala', 'Guatemala City'),\n ('Guinea', 'Conakry'),\n ('Guyana', 'Georgetown'),\n ('Haiti', 'Port-Au-Prince'),\n ('Honduras', 'Tegucigalpa'),\n ('Croatia', 'Zagreb'),\n ('Hungary', 'Budapest'),\n ('Iceland', 'Reykjavik'),\n ('Indonesia', 'Jakarta'),\n ('Isle of Man', 'Douglas'),\n ('India', 'New Delhi'),\n ('Iran', 'Tehran'),\n ('Israel', 'Jerusalem'),\n ('Italy', 'Rome'),\n (\"Cote d'Ivoire\", 'Yamoussoukro'),\n ('Iraq', 'Baghdad'),\n ('Japan', 'Tokyo'),\n ('Jamaica', 'Kingston'),\n ('Jordan', 'Amman'),\n ('Kenya', 'Nairobi'),\n ('Kyrgyzstan', 'Bishkek'),\n ('Korea, North', 'Pyongyang'),\n ('Kiribati', 'Tarawa'),\n ('Korea, South', 'Seoul'),\n ('Kuwait', 'Kuwait'),\n ('Kazakhstan', 'Astana'),\n ('Laos', 'Vientiane'),\n ('Lebanon', 'Beirut'),\n ('Latvia', 'Riga'),\n ('Lithuania', 'Vilnius'),\n ('Liberia', 'Monrovia'),\n ('Slovakia', 'Bratislava'),\n ('Liechtenstein', 'Vaduz'),\n ('Lesotho', 'Maseru'),\n ('Luxembourg', 'Luxembourg'),\n ('Libya', 'Tripoli'),\n ('Madagascar', 'Antananarivo'),\n ('Moldova', 'Chisinau'),\n ('Mongolia', 'Ulaanbaatar'),\n ('Malawi', 'Lilongwe'),\n ('Montenegro', 'Podgorica'),\n ('Macedonia', 'Skopje'),\n ('Mali', 'Bamako'),\n ('Morocco', 'Rabat'),\n ('Mauritius', 'Port Louis'),\n ('Mauritania', 'Nouakchott'),\n ('Malta', 'Valletta'),\n ('Oman', 'Muscat'),\n ('Maldives', 'Male'),\n ('Mexico', 'Mexico City'),\n ('Malaysia', 'Kuala Lumpur'),\n ('Mozambique', 'Maputo'),\n ('New Caledonia', 'Noumea'),\n ('Niger', 'Niamey'),\n ('Vanuatu', 'Port-Vila'),\n ('Nigeria', 'Abuja'),\n ('Netherlands', 'Amsterdam'),\n ('Norway', 'Oslo'),\n ('Nepal', 'Kathmandu'),\n ('Suriname', 'Paramaribo'),\n ('Nicaragua', 'Managua'),\n ('New Zealand', 'Wellington'),\n ('South Sudan', 'Juba'),\n ('Paraguay', 'Asuncion'),\n ('Peru', 'Lima'),\n ('Pakistan', 'Islamabad'),\n ('Poland', 'Warsaw'),\n ('Panama', 'Panama City'),\n ('Portugal', 'Lisbon'),\n ('Papua New Guinea', 'Port Moresby'),\n ('Palau', 'Melekeok'),\n ('Guinea-Bissau', 'Bissau'),\n ('Qatar', 'Doha'),\n ('Serbia', 'Belgrade'),\n ('Marshall Islands', 'Majuro'),\n ('Romania', 'Bucharest'),\n ('Philippines', 'Manila'),\n ('Puerto Rico', 'San Juan'),\n ('Russia', 'Moscow'),\n ('Rwanda', 'Kigali'),\n ('Saudi Arabia', 'Riyadh'),\n ('Saint Pierre and Miquelon', 'Saint-Pierre'),\n ('Saint Kitts and Nevis', 'Basseterre'),\n ('Seychelles', 'Victoria'),\n ('South Africa', 'Pretoria'),\n ('Senegal', 'Dakar'),\n ('Saint Helena, Ascension, and Tristan da Cunha', 'Jamestown'),\n ('Slovenia', 'Ljubljana'),\n ('Sierra Leone', 'Freetown'),\n ('Somalia', 'Mogadishu'),\n ('Spain', 'Madrid'),\n ('Saint Lucia', 'Castries'),\n ('Sudan', 'Khartoum'),\n ('Sweden', 'Stockholm'),\n ('Syria', 'Damascus'),\n ('Switzerland', 'Bern'),\n ('Trinidad and Tobago', 'Port-Of-Spain'),\n ('Thailand', 'Bangkok'),\n ('Tajikistan', 'Dushanbe'),\n ('Turks and Caicos Islands', 'Grand Turk'),\n ('Togo', 'Lome'),\n ('Sao Tome and Principe', 'Sao Tome'),\n ('Tunisia', 'Tunis'),\n ('Timor-Leste', 'Dili'),\n ('Turkey', 'Ankara'),\n ('Tuvalu', 'Funafuti'),\n ('Turkmenistan', 'Ashgabat'),\n ('Tanzania', 'Dar Es Salaam'),\n ('Uganda', 'Kampala'),\n ('United Kingdom', 'London'),\n ('Ukraine', 'Kyiv'),\n ('United States', 'Washington, D.C.'),\n ('Burkina Faso', 'Ouagadougou'),\n ('Uruguay', 'Montevideo'),\n ('Uzbekistan', 'Tashkent'),\n ('Saint Vincent and the Grenadines', 'Kingstown'),\n ('Venezuela', 'Caracas'),\n ('British Virgin Islands', 'Road Town'),\n ('Vietnam', 'Hanoi'),\n ('Virgin Islands', 'Charlotte Amalie'),\n ('Namibia', 'Windhoek'),\n ('Wallis and Futuna', 'Mata-Utu'),\n ('Samoa', 'Apia'),\n ('Swaziland', 'Mbabane'),\n ('Yemen', 'Sanaa'),\n ('Zambia', 'Lusaka'),\n ('Zimbabwe', 'Harare')]",
      "text/html": "<table>\n    <tr>\n        <th>country</th>\n        <th>capital_city</th>\n    </tr>\n    <tr>\n        <td>Aruba</td>\n        <td>Oranjestad</td>\n    </tr>\n    <tr>\n        <td>Antigua and Barbuda</td>\n        <td>Saint John&#x27;S</td>\n    </tr>\n    <tr>\n        <td>United Arab Emirates</td>\n        <td>Abu Dhabi</td>\n    </tr>\n    <tr>\n        <td>Afghanistan</td>\n        <td>Kabul</td>\n    </tr>\n    <tr>\n        <td>Algeria</td>\n        <td>Algiers</td>\n    </tr>\n    <tr>\n        <td>Azerbaijan</td>\n        <td>Baku</td>\n    </tr>\n    <tr>\n        <td>Albania</td>\n        <td>Tirana</td>\n    </tr>\n    <tr>\n        <td>Armenia</td>\n        <td>Yerevan</td>\n    </tr>\n    <tr>\n        <td>Andorra</td>\n        <td>Andorra La Vella</td>\n    </tr>\n    <tr>\n        <td>Angola</td>\n        <td>Luanda</td>\n    </tr>\n    <tr>\n        <td>American Samoa</td>\n        <td>Pago Pago</td>\n    </tr>\n    <tr>\n        <td>Argentina</td>\n        <td>Buenos Aires</td>\n    </tr>\n    <tr>\n        <td>Australia</td>\n        <td>Canberra</td>\n    </tr>\n    <tr>\n        <td>Austria</td>\n        <td>Vienna</td>\n    </tr>\n    <tr>\n        <td>Anguilla</td>\n        <td>The Valley</td>\n    </tr>\n    <tr>\n        <td>Bahrain</td>\n        <td>Manama</td>\n    </tr>\n    <tr>\n        <td>Barbados</td>\n        <td>Bridgetown</td>\n    </tr>\n    <tr>\n        <td>Botswana</td>\n        <td>Gaborone</td>\n    </tr>\n    <tr>\n        <td>Bermuda</td>\n        <td>Hamilton</td>\n    </tr>\n    <tr>\n        <td>Belgium</td>\n        <td>Brussels</td>\n    </tr>\n    <tr>\n        <td>Bahamas, The</td>\n        <td>Nassau</td>\n    </tr>\n    <tr>\n        <td>Bangladesh</td>\n        <td>Dhaka</td>\n    </tr>\n    <tr>\n        <td>Belize</td>\n        <td>Belmopan</td>\n    </tr>\n    <tr>\n        <td>Bosnia and Herzegovina</td>\n        <td>Sarajevo</td>\n    </tr>\n    <tr>\n        <td>Bolivia</td>\n        <td>La Paz</td>\n    </tr>\n    <tr>\n        <td>Burma</td>\n        <td>Rangoon</td>\n    </tr>\n    <tr>\n        <td>Benin</td>\n        <td>Porto-Novo</td>\n    </tr>\n    <tr>\n        <td>Belarus</td>\n        <td>Minsk</td>\n    </tr>\n    <tr>\n        <td>Solomon Islands</td>\n        <td>Honiara</td>\n    </tr>\n    <tr>\n        <td>Brazil</td>\n        <td>Brasilia</td>\n    </tr>\n    <tr>\n        <td>Bhutan</td>\n        <td>Thimphu</td>\n    </tr>\n    <tr>\n        <td>Bulgaria</td>\n        <td>Sofia</td>\n    </tr>\n    <tr>\n        <td>Brunei</td>\n        <td>Bandar Seri Begawan</td>\n    </tr>\n    <tr>\n        <td>Burundi</td>\n        <td>Bujumbura</td>\n    </tr>\n    <tr>\n        <td>Canada</td>\n        <td>Ottawa</td>\n    </tr>\n    <tr>\n        <td>Cambodia</td>\n        <td>Phnom Penh</td>\n    </tr>\n    <tr>\n        <td>Chad</td>\n        <td>N&#x27;Djamena</td>\n    </tr>\n    <tr>\n        <td>Sri Lanka</td>\n        <td>Colombo</td>\n    </tr>\n    <tr>\n        <td>Congo, Republic of the</td>\n        <td>Brazzaville</td>\n    </tr>\n    <tr>\n        <td>Congo, Democratic Republic of the</td>\n        <td>Kinshasa</td>\n    </tr>\n    <tr>\n        <td>China</td>\n        <td>Beijing</td>\n    </tr>\n    <tr>\n        <td>Chile</td>\n        <td>Santiago</td>\n    </tr>\n    <tr>\n        <td>Cayman Islands</td>\n        <td>George Town</td>\n    </tr>\n    <tr>\n        <td>Cameroon</td>\n        <td>Yaounde</td>\n    </tr>\n    <tr>\n        <td>Comoros</td>\n        <td>Moroni</td>\n    </tr>\n    <tr>\n        <td>Colombia</td>\n        <td>Bogota</td>\n    </tr>\n    <tr>\n        <td>Northern Mariana Islands</td>\n        <td>Saipan</td>\n    </tr>\n    <tr>\n        <td>Costa Rica</td>\n        <td>San Jose</td>\n    </tr>\n    <tr>\n        <td>Central African Republic</td>\n        <td>Bangui</td>\n    </tr>\n    <tr>\n        <td>Cuba</td>\n        <td>Havana</td>\n    </tr>\n    <tr>\n        <td>Cabo Verde</td>\n        <td>Praia</td>\n    </tr>\n    <tr>\n        <td>Cyprus</td>\n        <td>Nicosia</td>\n    </tr>\n    <tr>\n        <td>Denmark</td>\n        <td>Copenhagen</td>\n    </tr>\n    <tr>\n        <td>Djibouti</td>\n        <td>Djibouti</td>\n    </tr>\n    <tr>\n        <td>Dominica</td>\n        <td>Roseau</td>\n    </tr>\n    <tr>\n        <td>Dominican Republic</td>\n        <td>Santo Domingo</td>\n    </tr>\n    <tr>\n        <td>Ecuador</td>\n        <td>Quito</td>\n    </tr>\n    <tr>\n        <td>Egypt</td>\n        <td>Cairo</td>\n    </tr>\n    <tr>\n        <td>Ireland</td>\n        <td>Dublin</td>\n    </tr>\n    <tr>\n        <td>Equatorial Guinea</td>\n        <td>Malabo</td>\n    </tr>\n    <tr>\n        <td>Estonia</td>\n        <td>Tallinn</td>\n    </tr>\n    <tr>\n        <td>Eritrea</td>\n        <td>Asmara</td>\n    </tr>\n    <tr>\n        <td>El Salvador</td>\n        <td>San Salvador</td>\n    </tr>\n    <tr>\n        <td>Ethiopia</td>\n        <td>Addis Ababa</td>\n    </tr>\n    <tr>\n        <td>Czech Republic</td>\n        <td>Prague</td>\n    </tr>\n    <tr>\n        <td>Finland</td>\n        <td>Helsinki</td>\n    </tr>\n    <tr>\n        <td>Fiji</td>\n        <td>Suva</td>\n    </tr>\n    <tr>\n        <td>Falkland Islands (Islas Malvinas)</td>\n        <td>Stanley</td>\n    </tr>\n    <tr>\n        <td>Micronesia, Federated States of</td>\n        <td>Palikir</td>\n    </tr>\n    <tr>\n        <td>Faroe Islands</td>\n        <td>Torshavn</td>\n    </tr>\n    <tr>\n        <td>French Polynesia</td>\n        <td>Papeete</td>\n    </tr>\n    <tr>\n        <td>France</td>\n        <td>Paris</td>\n    </tr>\n    <tr>\n        <td>Gambia, The</td>\n        <td>Banjul</td>\n    </tr>\n    <tr>\n        <td>Gabon</td>\n        <td>Libreville</td>\n    </tr>\n    <tr>\n        <td>Georgia</td>\n        <td>Tbilisi</td>\n    </tr>\n    <tr>\n        <td>Ghana</td>\n        <td>Accra</td>\n    </tr>\n    <tr>\n        <td>Grenada</td>\n        <td>Saint George&#x27;S</td>\n    </tr>\n    <tr>\n        <td>Greenland</td>\n        <td>Nuuk</td>\n    </tr>\n    <tr>\n        <td>Germany</td>\n        <td>Berlin</td>\n    </tr>\n    <tr>\n        <td>Guam</td>\n        <td>Hagatna</td>\n    </tr>\n    <tr>\n        <td>Greece</td>\n        <td>Athens</td>\n    </tr>\n    <tr>\n        <td>Guatemala</td>\n        <td>Guatemala City</td>\n    </tr>\n    <tr>\n        <td>Guinea</td>\n        <td>Conakry</td>\n    </tr>\n    <tr>\n        <td>Guyana</td>\n        <td>Georgetown</td>\n    </tr>\n    <tr>\n        <td>Haiti</td>\n        <td>Port-Au-Prince</td>\n    </tr>\n    <tr>\n        <td>Honduras</td>\n        <td>Tegucigalpa</td>\n    </tr>\n    <tr>\n        <td>Croatia</td>\n        <td>Zagreb</td>\n    </tr>\n    <tr>\n        <td>Hungary</td>\n        <td>Budapest</td>\n    </tr>\n    <tr>\n        <td>Iceland</td>\n        <td>Reykjavik</td>\n    </tr>\n    <tr>\n        <td>Indonesia</td>\n        <td>Jakarta</td>\n    </tr>\n    <tr>\n        <td>Isle of Man</td>\n        <td>Douglas</td>\n    </tr>\n    <tr>\n        <td>India</td>\n        <td>New Delhi</td>\n    </tr>\n    <tr>\n        <td>Iran</td>\n        <td>Tehran</td>\n    </tr>\n    <tr>\n        <td>Israel</td>\n        <td>Jerusalem</td>\n    </tr>\n    <tr>\n        <td>Italy</td>\n        <td>Rome</td>\n    </tr>\n    <tr>\n        <td>Cote d&#x27;Ivoire</td>\n        <td>Yamoussoukro</td>\n    </tr>\n    <tr>\n        <td>Iraq</td>\n        <td>Baghdad</td>\n    </tr>\n    <tr>\n        <td>Japan</td>\n        <td>Tokyo</td>\n    </tr>\n    <tr>\n        <td>Jamaica</td>\n        <td>Kingston</td>\n    </tr>\n    <tr>\n        <td>Jordan</td>\n        <td>Amman</td>\n    </tr>\n    <tr>\n        <td>Kenya</td>\n        <td>Nairobi</td>\n    </tr>\n    <tr>\n        <td>Kyrgyzstan</td>\n        <td>Bishkek</td>\n    </tr>\n    <tr>\n        <td>Korea, North</td>\n        <td>Pyongyang</td>\n    </tr>\n    <tr>\n        <td>Kiribati</td>\n        <td>Tarawa</td>\n    </tr>\n    <tr>\n        <td>Korea, South</td>\n        <td>Seoul</td>\n    </tr>\n    <tr>\n        <td>Kuwait</td>\n        <td>Kuwait</td>\n    </tr>\n    <tr>\n        <td>Kazakhstan</td>\n        <td>Astana</td>\n    </tr>\n    <tr>\n        <td>Laos</td>\n        <td>Vientiane</td>\n    </tr>\n    <tr>\n        <td>Lebanon</td>\n        <td>Beirut</td>\n    </tr>\n    <tr>\n        <td>Latvia</td>\n        <td>Riga</td>\n    </tr>\n    <tr>\n        <td>Lithuania</td>\n        <td>Vilnius</td>\n    </tr>\n    <tr>\n        <td>Liberia</td>\n        <td>Monrovia</td>\n    </tr>\n    <tr>\n        <td>Slovakia</td>\n        <td>Bratislava</td>\n    </tr>\n    <tr>\n        <td>Liechtenstein</td>\n        <td>Vaduz</td>\n    </tr>\n    <tr>\n        <td>Lesotho</td>\n        <td>Maseru</td>\n    </tr>\n    <tr>\n        <td>Luxembourg</td>\n        <td>Luxembourg</td>\n    </tr>\n    <tr>\n        <td>Libya</td>\n        <td>Tripoli</td>\n    </tr>\n    <tr>\n        <td>Madagascar</td>\n        <td>Antananarivo</td>\n    </tr>\n    <tr>\n        <td>Moldova</td>\n        <td>Chisinau</td>\n    </tr>\n    <tr>\n        <td>Mongolia</td>\n        <td>Ulaanbaatar</td>\n    </tr>\n    <tr>\n        <td>Malawi</td>\n        <td>Lilongwe</td>\n    </tr>\n    <tr>\n        <td>Montenegro</td>\n        <td>Podgorica</td>\n    </tr>\n    <tr>\n        <td>Macedonia</td>\n        <td>Skopje</td>\n    </tr>\n    <tr>\n        <td>Mali</td>\n        <td>Bamako</td>\n    </tr>\n    <tr>\n        <td>Morocco</td>\n        <td>Rabat</td>\n    </tr>\n    <tr>\n        <td>Mauritius</td>\n        <td>Port Louis</td>\n    </tr>\n    <tr>\n        <td>Mauritania</td>\n        <td>Nouakchott</td>\n    </tr>\n    <tr>\n        <td>Malta</td>\n        <td>Valletta</td>\n    </tr>\n    <tr>\n        <td>Oman</td>\n        <td>Muscat</td>\n    </tr>\n    <tr>\n        <td>Maldives</td>\n        <td>Male</td>\n    </tr>\n    <tr>\n        <td>Mexico</td>\n        <td>Mexico City</td>\n    </tr>\n    <tr>\n        <td>Malaysia</td>\n        <td>Kuala Lumpur</td>\n    </tr>\n    <tr>\n        <td>Mozambique</td>\n        <td>Maputo</td>\n    </tr>\n    <tr>\n        <td>New Caledonia</td>\n        <td>Noumea</td>\n    </tr>\n    <tr>\n        <td>Niger</td>\n        <td>Niamey</td>\n    </tr>\n    <tr>\n        <td>Vanuatu</td>\n        <td>Port-Vila</td>\n    </tr>\n    <tr>\n        <td>Nigeria</td>\n        <td>Abuja</td>\n    </tr>\n    <tr>\n        <td>Netherlands</td>\n        <td>Amsterdam</td>\n    </tr>\n    <tr>\n        <td>Norway</td>\n        <td>Oslo</td>\n    </tr>\n    <tr>\n        <td>Nepal</td>\n        <td>Kathmandu</td>\n    </tr>\n    <tr>\n        <td>Suriname</td>\n        <td>Paramaribo</td>\n    </tr>\n    <tr>\n        <td>Nicaragua</td>\n        <td>Managua</td>\n    </tr>\n    <tr>\n        <td>New Zealand</td>\n        <td>Wellington</td>\n    </tr>\n    <tr>\n        <td>South Sudan</td>\n        <td>Juba</td>\n    </tr>\n    <tr>\n        <td>Paraguay</td>\n        <td>Asuncion</td>\n    </tr>\n    <tr>\n        <td>Peru</td>\n        <td>Lima</td>\n    </tr>\n    <tr>\n        <td>Pakistan</td>\n        <td>Islamabad</td>\n    </tr>\n    <tr>\n        <td>Poland</td>\n        <td>Warsaw</td>\n    </tr>\n    <tr>\n        <td>Panama</td>\n        <td>Panama City</td>\n    </tr>\n    <tr>\n        <td>Portugal</td>\n        <td>Lisbon</td>\n    </tr>\n    <tr>\n        <td>Papua New Guinea</td>\n        <td>Port Moresby</td>\n    </tr>\n    <tr>\n        <td>Palau</td>\n        <td>Melekeok</td>\n    </tr>\n    <tr>\n        <td>Guinea-Bissau</td>\n        <td>Bissau</td>\n    </tr>\n    <tr>\n        <td>Qatar</td>\n        <td>Doha</td>\n    </tr>\n    <tr>\n        <td>Serbia</td>\n        <td>Belgrade</td>\n    </tr>\n    <tr>\n        <td>Marshall Islands</td>\n        <td>Majuro</td>\n    </tr>\n    <tr>\n        <td>Romania</td>\n        <td>Bucharest</td>\n    </tr>\n    <tr>\n        <td>Philippines</td>\n        <td>Manila</td>\n    </tr>\n    <tr>\n        <td>Puerto Rico</td>\n        <td>San Juan</td>\n    </tr>\n    <tr>\n        <td>Russia</td>\n        <td>Moscow</td>\n    </tr>\n    <tr>\n        <td>Rwanda</td>\n        <td>Kigali</td>\n    </tr>\n    <tr>\n        <td>Saudi Arabia</td>\n        <td>Riyadh</td>\n    </tr>\n    <tr>\n        <td>Saint Pierre and Miquelon</td>\n        <td>Saint-Pierre</td>\n    </tr>\n    <tr>\n        <td>Saint Kitts and Nevis</td>\n        <td>Basseterre</td>\n    </tr>\n    <tr>\n        <td>Seychelles</td>\n        <td>Victoria</td>\n    </tr>\n    <tr>\n        <td>South Africa</td>\n        <td>Pretoria</td>\n    </tr>\n    <tr>\n        <td>Senegal</td>\n        <td>Dakar</td>\n    </tr>\n    <tr>\n        <td>Saint Helena, Ascension, and Tristan da Cunha</td>\n        <td>Jamestown</td>\n    </tr>\n    <tr>\n        <td>Slovenia</td>\n        <td>Ljubljana</td>\n    </tr>\n    <tr>\n        <td>Sierra Leone</td>\n        <td>Freetown</td>\n    </tr>\n    <tr>\n        <td>Somalia</td>\n        <td>Mogadishu</td>\n    </tr>\n    <tr>\n        <td>Spain</td>\n        <td>Madrid</td>\n    </tr>\n    <tr>\n        <td>Saint Lucia</td>\n        <td>Castries</td>\n    </tr>\n    <tr>\n        <td>Sudan</td>\n        <td>Khartoum</td>\n    </tr>\n    <tr>\n        <td>Sweden</td>\n        <td>Stockholm</td>\n    </tr>\n    <tr>\n        <td>Syria</td>\n        <td>Damascus</td>\n    </tr>\n    <tr>\n        <td>Switzerland</td>\n        <td>Bern</td>\n    </tr>\n    <tr>\n        <td>Trinidad and Tobago</td>\n        <td>Port-Of-Spain</td>\n    </tr>\n    <tr>\n        <td>Thailand</td>\n        <td>Bangkok</td>\n    </tr>\n    <tr>\n        <td>Tajikistan</td>\n        <td>Dushanbe</td>\n    </tr>\n    <tr>\n        <td>Turks and Caicos Islands</td>\n        <td>Grand Turk</td>\n    </tr>\n    <tr>\n        <td>Togo</td>\n        <td>Lome</td>\n    </tr>\n    <tr>\n        <td>Sao Tome and Principe</td>\n        <td>Sao Tome</td>\n    </tr>\n    <tr>\n        <td>Tunisia</td>\n        <td>Tunis</td>\n    </tr>\n    <tr>\n        <td>Timor-Leste</td>\n        <td>Dili</td>\n    </tr>\n    <tr>\n        <td>Turkey</td>\n        <td>Ankara</td>\n    </tr>\n    <tr>\n        <td>Tuvalu</td>\n        <td>Funafuti</td>\n    </tr>\n    <tr>\n        <td>Turkmenistan</td>\n        <td>Ashgabat</td>\n    </tr>\n    <tr>\n        <td>Tanzania</td>\n        <td>Dar Es Salaam</td>\n    </tr>\n    <tr>\n        <td>Uganda</td>\n        <td>Kampala</td>\n    </tr>\n    <tr>\n        <td>United Kingdom</td>\n        <td>London</td>\n    </tr>\n    <tr>\n        <td>Ukraine</td>\n        <td>Kyiv</td>\n    </tr>\n    <tr>\n        <td>United States</td>\n        <td>Washington, D.C.</td>\n    </tr>\n    <tr>\n        <td>Burkina Faso</td>\n        <td>Ouagadougou</td>\n    </tr>\n    <tr>\n        <td>Uruguay</td>\n        <td>Montevideo</td>\n    </tr>\n    <tr>\n        <td>Uzbekistan</td>\n        <td>Tashkent</td>\n    </tr>\n    <tr>\n        <td>Saint Vincent and the Grenadines</td>\n        <td>Kingstown</td>\n    </tr>\n    <tr>\n        <td>Venezuela</td>\n        <td>Caracas</td>\n    </tr>\n    <tr>\n        <td>British Virgin Islands</td>\n        <td>Road Town</td>\n    </tr>\n    <tr>\n        <td>Vietnam</td>\n        <td>Hanoi</td>\n    </tr>\n    <tr>\n        <td>Virgin Islands</td>\n        <td>Charlotte Amalie</td>\n    </tr>\n    <tr>\n        <td>Namibia</td>\n        <td>Windhoek</td>\n    </tr>\n    <tr>\n        <td>Wallis and Futuna</td>\n        <td>Mata-Utu</td>\n    </tr>\n    <tr>\n        <td>Samoa</td>\n        <td>Apia</td>\n    </tr>\n    <tr>\n        <td>Swaziland</td>\n        <td>Mbabane</td>\n    </tr>\n    <tr>\n        <td>Yemen</td>\n        <td>Sanaa</td>\n    </tr>\n    <tr>\n        <td>Zambia</td>\n        <td>Lusaka</td>\n    </tr>\n    <tr>\n        <td>Zimbabwe</td>\n        <td>Harare</td>\n    </tr>\n</table>"
     },
     "metadata": {},
     "execution_count": 4
    }
   ],
   "source": [
    "%%sql\n",
    "SELECT f.name AS country, c.name AS capital_city\n",
    "FROM facts f\n",
    "INNER JOIN cities c ON c.facts_id = f.id\n",
    "WHERE c.capital = 1;"
   ]
  },
  {
   "cell_type": "markdown",
   "metadata": {},
   "source": [
    "## Left Joins"
   ]
  },
  {
   "cell_type": "markdown",
   "metadata": {},
   "source": [
    "The first query using left joins will select countries that do not have any city information."
   ]
  },
  {
   "cell_type": "code",
   "execution_count": 5,
   "metadata": {},
   "outputs": [
    {
     "output_type": "stream",
     "name": "stdout",
     "text": "* sqlite:///factbook.db\nDone.\n"
    },
    {
     "output_type": "execute_result",
     "data": {
      "text/plain": "[('Kosovo', 1870981),\n ('Monaco', 30535),\n ('Nauru', 9540),\n ('San Marino', 33020),\n ('Singapore', 5674472),\n ('Holy See (Vatican City)', 842),\n ('Taiwan', 23415126),\n ('European Union', 513949445),\n ('Ashmore and Cartier Islands', None),\n ('Christmas Island', 1530),\n ('Cocos (Keeling) Islands', 596),\n ('Coral Sea Islands', None),\n ('Heard Island and McDonald Islands', None),\n ('Norfolk Island', 2210),\n ('Hong Kong', 7141106),\n ('Macau', 592731),\n ('Clipperton Island', None),\n ('French Southern and Antarctic Lands', None),\n ('Saint Barthelemy', 7237),\n ('Saint Martin', 31754),\n ('Curacao', 148406),\n ('Sint Maarten', 39689),\n ('Cook Islands', 9838),\n ('Niue', 1190),\n ('Tokelau', 1337),\n ('Bouvet Island', None),\n ('Jan Mayen', None),\n ('Svalbard', 1872),\n ('Akrotiri', 15700),\n ('British Indian Ocean Territory', None),\n ('Dhekelia', 15700),\n ('Gibraltar', 29258),\n ('Guernsey', 66080),\n ('Jersey', 97294),\n ('Montserrat', 5241),\n ('Pitcairn Islands', 48),\n ('South Georgia and South Sandwich Islands', None),\n ('Navassa Island', None),\n ('Wake Island', None),\n ('United States Pacific Island Wildlife Refuges', None),\n ('Antarctica', 0),\n ('Gaza Strip', 1869055),\n ('Paracel Islands', None),\n ('Spratly Islands', None),\n ('West Bank', 2785366),\n ('Arctic Ocean', None),\n ('Atlantic Ocean', None),\n ('Indian Ocean', None),\n ('Pacific Ocean', None),\n ('Southern Ocean', None),\n ('World', 7256490011)]",
      "text/html": "<table>\n    <tr>\n        <th>country</th>\n        <th>population</th>\n    </tr>\n    <tr>\n        <td>Kosovo</td>\n        <td>1870981</td>\n    </tr>\n    <tr>\n        <td>Monaco</td>\n        <td>30535</td>\n    </tr>\n    <tr>\n        <td>Nauru</td>\n        <td>9540</td>\n    </tr>\n    <tr>\n        <td>San Marino</td>\n        <td>33020</td>\n    </tr>\n    <tr>\n        <td>Singapore</td>\n        <td>5674472</td>\n    </tr>\n    <tr>\n        <td>Holy See (Vatican City)</td>\n        <td>842</td>\n    </tr>\n    <tr>\n        <td>Taiwan</td>\n        <td>23415126</td>\n    </tr>\n    <tr>\n        <td>European Union</td>\n        <td>513949445</td>\n    </tr>\n    <tr>\n        <td>Ashmore and Cartier Islands</td>\n        <td>None</td>\n    </tr>\n    <tr>\n        <td>Christmas Island</td>\n        <td>1530</td>\n    </tr>\n    <tr>\n        <td>Cocos (Keeling) Islands</td>\n        <td>596</td>\n    </tr>\n    <tr>\n        <td>Coral Sea Islands</td>\n        <td>None</td>\n    </tr>\n    <tr>\n        <td>Heard Island and McDonald Islands</td>\n        <td>None</td>\n    </tr>\n    <tr>\n        <td>Norfolk Island</td>\n        <td>2210</td>\n    </tr>\n    <tr>\n        <td>Hong Kong</td>\n        <td>7141106</td>\n    </tr>\n    <tr>\n        <td>Macau</td>\n        <td>592731</td>\n    </tr>\n    <tr>\n        <td>Clipperton Island</td>\n        <td>None</td>\n    </tr>\n    <tr>\n        <td>French Southern and Antarctic Lands</td>\n        <td>None</td>\n    </tr>\n    <tr>\n        <td>Saint Barthelemy</td>\n        <td>7237</td>\n    </tr>\n    <tr>\n        <td>Saint Martin</td>\n        <td>31754</td>\n    </tr>\n    <tr>\n        <td>Curacao</td>\n        <td>148406</td>\n    </tr>\n    <tr>\n        <td>Sint Maarten</td>\n        <td>39689</td>\n    </tr>\n    <tr>\n        <td>Cook Islands</td>\n        <td>9838</td>\n    </tr>\n    <tr>\n        <td>Niue</td>\n        <td>1190</td>\n    </tr>\n    <tr>\n        <td>Tokelau</td>\n        <td>1337</td>\n    </tr>\n    <tr>\n        <td>Bouvet Island</td>\n        <td>None</td>\n    </tr>\n    <tr>\n        <td>Jan Mayen</td>\n        <td>None</td>\n    </tr>\n    <tr>\n        <td>Svalbard</td>\n        <td>1872</td>\n    </tr>\n    <tr>\n        <td>Akrotiri</td>\n        <td>15700</td>\n    </tr>\n    <tr>\n        <td>British Indian Ocean Territory</td>\n        <td>None</td>\n    </tr>\n    <tr>\n        <td>Dhekelia</td>\n        <td>15700</td>\n    </tr>\n    <tr>\n        <td>Gibraltar</td>\n        <td>29258</td>\n    </tr>\n    <tr>\n        <td>Guernsey</td>\n        <td>66080</td>\n    </tr>\n    <tr>\n        <td>Jersey</td>\n        <td>97294</td>\n    </tr>\n    <tr>\n        <td>Montserrat</td>\n        <td>5241</td>\n    </tr>\n    <tr>\n        <td>Pitcairn Islands</td>\n        <td>48</td>\n    </tr>\n    <tr>\n        <td>South Georgia and South Sandwich Islands</td>\n        <td>None</td>\n    </tr>\n    <tr>\n        <td>Navassa Island</td>\n        <td>None</td>\n    </tr>\n    <tr>\n        <td>Wake Island</td>\n        <td>None</td>\n    </tr>\n    <tr>\n        <td>United States Pacific Island Wildlife Refuges</td>\n        <td>None</td>\n    </tr>\n    <tr>\n        <td>Antarctica</td>\n        <td>0</td>\n    </tr>\n    <tr>\n        <td>Gaza Strip</td>\n        <td>1869055</td>\n    </tr>\n    <tr>\n        <td>Paracel Islands</td>\n        <td>None</td>\n    </tr>\n    <tr>\n        <td>Spratly Islands</td>\n        <td>None</td>\n    </tr>\n    <tr>\n        <td>West Bank</td>\n        <td>2785366</td>\n    </tr>\n    <tr>\n        <td>Arctic Ocean</td>\n        <td>None</td>\n    </tr>\n    <tr>\n        <td>Atlantic Ocean</td>\n        <td>None</td>\n    </tr>\n    <tr>\n        <td>Indian Ocean</td>\n        <td>None</td>\n    </tr>\n    <tr>\n        <td>Pacific Ocean</td>\n        <td>None</td>\n    </tr>\n    <tr>\n        <td>Southern Ocean</td>\n        <td>None</td>\n    </tr>\n    <tr>\n        <td>World</td>\n        <td>7256490011</td>\n    </tr>\n</table>"
     },
     "metadata": {},
     "execution_count": 5
    }
   ],
   "source": [
    "%%sql\n",
    "SELECT f.name AS country, f.population\n",
    "FROM facts f\n",
    "LEFT JOIN cities c ON c.facts_id = f.id\n",
    "WHERE c.facts_id IS NULL;"
   ]
  },
  {
   "cell_type": "markdown",
   "metadata": {},
   "source": [
    "An interesting thing to note is that the oceans are included in this data. The fact that their population values are None, so they didn't come up earlier when I was looking at min and max population values."
   ]
  },
  {
   "cell_type": "markdown",
   "metadata": {},
   "source": [
    "## Other Joins\n",
    "\n",
    "Types of Joins:\n",
    "1. INNER JOIN\n",
    "2. LEFT JOIN\n",
    "3. RIGHT JOIN\n",
    "4. FULL OUTER JOIN"
   ]
  },
  {
   "cell_type": "code",
   "execution_count": 6,
   "metadata": {},
   "outputs": [
    {
     "output_type": "stream",
     "name": "stdout",
     "text": "* sqlite:///factbook.db\nDone.\n"
    },
    {
     "output_type": "execute_result",
     "data": {
      "text/plain": "[('Tokyo', 'Japan', 37217000),\n ('New Delhi', 'India', 22654000),\n ('Mexico City', 'Mexico', 20446000),\n ('Beijing', 'China', 15594000),\n ('Dhaka', 'Bangladesh', 15391000),\n ('Buenos Aires', 'Argentina', 13528000),\n ('Manila', 'Philippines', 11862000),\n ('Moscow', 'Russia', 11621000),\n ('Cairo', 'Egypt', 11169000),\n ('Jakarta', 'Indonesia', 9769000)]",
      "text/html": "<table>\n    <tr>\n        <th>capital_city</th>\n        <th>country</th>\n        <th>population</th>\n    </tr>\n    <tr>\n        <td>Tokyo</td>\n        <td>Japan</td>\n        <td>37217000</td>\n    </tr>\n    <tr>\n        <td>New Delhi</td>\n        <td>India</td>\n        <td>22654000</td>\n    </tr>\n    <tr>\n        <td>Mexico City</td>\n        <td>Mexico</td>\n        <td>20446000</td>\n    </tr>\n    <tr>\n        <td>Beijing</td>\n        <td>China</td>\n        <td>15594000</td>\n    </tr>\n    <tr>\n        <td>Dhaka</td>\n        <td>Bangladesh</td>\n        <td>15391000</td>\n    </tr>\n    <tr>\n        <td>Buenos Aires</td>\n        <td>Argentina</td>\n        <td>13528000</td>\n    </tr>\n    <tr>\n        <td>Manila</td>\n        <td>Philippines</td>\n        <td>11862000</td>\n    </tr>\n    <tr>\n        <td>Moscow</td>\n        <td>Russia</td>\n        <td>11621000</td>\n    </tr>\n    <tr>\n        <td>Cairo</td>\n        <td>Egypt</td>\n        <td>11169000</td>\n    </tr>\n    <tr>\n        <td>Jakarta</td>\n        <td>Indonesia</td>\n        <td>9769000</td>\n    </tr>\n</table>"
     },
     "metadata": {},
     "execution_count": 6
    }
   ],
   "source": [
    "%%sql\n",
    "SELECT c.name capital_city, f.name country, c.population population\n",
    "FROM facts f\n",
    "INNER JOIN cities c ON c.facts_id = f.id\n",
    "WHERE c.capital = 1\n",
    "ORDER BY population DESC\n",
    "LIMIT 10;"
   ]
  },
  {
   "cell_type": "markdown",
   "metadata": {},
   "source": [
    "Now for a join using a subquery... This may be a little difficult.\n",
    "\n",
    "Goal:\n",
    "capital_city, country, population\n",
    "\n",
    "capital cities with pop > 10 Million ordered from largest to smallest"
   ]
  },
  {
   "cell_type": "code",
   "execution_count": 7,
   "metadata": {},
   "outputs": [
    {
     "output_type": "stream",
     "name": "stdout",
     "text": "* sqlite:///factbook.db\nDone.\n"
    },
    {
     "output_type": "execute_result",
     "data": {
      "text/plain": "[('Tokyo', 'Japan', 37217000),\n ('New Delhi', 'India', 22654000),\n ('Mexico City', 'Mexico', 20446000),\n ('Beijing', 'China', 15594000),\n ('Dhaka', 'Bangladesh', 15391000),\n ('Buenos Aires', 'Argentina', 13528000),\n ('Manila', 'Philippines', 11862000),\n ('Moscow', 'Russia', 11621000),\n ('Cairo', 'Egypt', 11169000)]",
      "text/html": "<table>\n    <tr>\n        <th>capital_city</th>\n        <th>country</th>\n        <th>population</th>\n    </tr>\n    <tr>\n        <td>Tokyo</td>\n        <td>Japan</td>\n        <td>37217000</td>\n    </tr>\n    <tr>\n        <td>New Delhi</td>\n        <td>India</td>\n        <td>22654000</td>\n    </tr>\n    <tr>\n        <td>Mexico City</td>\n        <td>Mexico</td>\n        <td>20446000</td>\n    </tr>\n    <tr>\n        <td>Beijing</td>\n        <td>China</td>\n        <td>15594000</td>\n    </tr>\n    <tr>\n        <td>Dhaka</td>\n        <td>Bangladesh</td>\n        <td>15391000</td>\n    </tr>\n    <tr>\n        <td>Buenos Aires</td>\n        <td>Argentina</td>\n        <td>13528000</td>\n    </tr>\n    <tr>\n        <td>Manila</td>\n        <td>Philippines</td>\n        <td>11862000</td>\n    </tr>\n    <tr>\n        <td>Moscow</td>\n        <td>Russia</td>\n        <td>11621000</td>\n    </tr>\n    <tr>\n        <td>Cairo</td>\n        <td>Egypt</td>\n        <td>11169000</td>\n    </tr>\n</table>"
     },
     "metadata": {},
     "execution_count": 7
    }
   ],
   "source": [
    "%%sql\n",
    "SELECT c.name capital_city, f.name country, c.population population\n",
    "FROM facts f\n",
    "INNER JOIN (SELECT * FROM cities\n",
    "           WHERE capital = 1 AND population > 10000000) c\n",
    "ON c.facts_id = f.id\n",
    "ORDER BY population DESC;"
   ]
  },
  {
   "cell_type": "markdown",
   "metadata": {},
   "source": [
    "The following appears to be a complex query:\n",
    "\n",
    "The query should include:\n",
    "\n",
    "The following columns, in order:\n",
    "\n",
    "1. country, the name of the country.\n",
    "2. urban_pop, the sum of the population in major urban areas belonging to that country.\n",
    "3. total_pop, the total population of the country.\n",
    "4. urban_pct, the percentage of the popularion within urban areas, calculated by dividing urban_pop by total_pop.\n",
    "5. Only countries that have an urban_pct greater than 0.5.\n",
    "6.  Rows should be sorted by urban_pct in ascending order.\n"
   ]
  },
  {
   "cell_type": "markdown",
   "metadata": {},
   "source": [
    "<img src=\"schema.svg\" width = 1000px>"
   ]
  },
  {
   "cell_type": "code",
   "execution_count": 21,
   "metadata": {},
   "outputs": [
    {
     "output_type": "stream",
     "name": "stdout",
     "text": "* sqlite:///factbook.db\nDone.\n"
    },
    {
     "output_type": "execute_result",
     "data": {
      "text/plain": "[('Uruguay', 1672000, 3341893, 0.5003152404939356),\n ('Congo, Republic of the', 2445000, 4755097, 0.5141850944365594),\n ('Brunei', 241000, 429646, 0.5609269026128487),\n ('New Caledonia', 157000, 271615, 0.5780240413821034),\n ('Virgin Islands', 60000, 103574, 0.5792959623071428),\n ('Falkland Islands (Islas Malvinas)', 2000, 3361, 0.5950609937518596),\n ('Djibouti', 496000, 828324, 0.5987995035758954),\n ('Australia', 13789000, 22751014, 0.6060828761302683),\n ('Iceland', 206000, 331918, 0.6206352171319423),\n ('Israel', 5226000, 8049314, 0.6492478737939655),\n ('United Arab Emirates', 3903000, 5779760, 0.6752875551926032),\n ('Puerto Rico', 2475000, 3598357, 0.6878139106264332),\n ('Bahamas, The', 254000, 324597, 0.7825087724162577),\n ('Kuwait', 2406000, 2788534, 0.8628189579183901),\n ('Saint Pierre and Miquelon', 5000, 5657, 0.8838607035531201),\n ('Guam', 169000, 161785, 1.0445962233828847),\n ('Northern Mariana Islands', 56000, 52344, 1.0698456365581537),\n ('American Samoa', 64000, 54343, 1.1777045801667188)]",
      "text/html": "<table>\n    <tr>\n        <th>country</th>\n        <th>urban_pop</th>\n        <th>total_pop</th>\n        <th>urban_pct</th>\n    </tr>\n    <tr>\n        <td>Uruguay</td>\n        <td>1672000</td>\n        <td>3341893</td>\n        <td>0.5003152404939356</td>\n    </tr>\n    <tr>\n        <td>Congo, Republic of the</td>\n        <td>2445000</td>\n        <td>4755097</td>\n        <td>0.5141850944365594</td>\n    </tr>\n    <tr>\n        <td>Brunei</td>\n        <td>241000</td>\n        <td>429646</td>\n        <td>0.5609269026128487</td>\n    </tr>\n    <tr>\n        <td>New Caledonia</td>\n        <td>157000</td>\n        <td>271615</td>\n        <td>0.5780240413821034</td>\n    </tr>\n    <tr>\n        <td>Virgin Islands</td>\n        <td>60000</td>\n        <td>103574</td>\n        <td>0.5792959623071428</td>\n    </tr>\n    <tr>\n        <td>Falkland Islands (Islas Malvinas)</td>\n        <td>2000</td>\n        <td>3361</td>\n        <td>0.5950609937518596</td>\n    </tr>\n    <tr>\n        <td>Djibouti</td>\n        <td>496000</td>\n        <td>828324</td>\n        <td>0.5987995035758954</td>\n    </tr>\n    <tr>\n        <td>Australia</td>\n        <td>13789000</td>\n        <td>22751014</td>\n        <td>0.6060828761302683</td>\n    </tr>\n    <tr>\n        <td>Iceland</td>\n        <td>206000</td>\n        <td>331918</td>\n        <td>0.6206352171319423</td>\n    </tr>\n    <tr>\n        <td>Israel</td>\n        <td>5226000</td>\n        <td>8049314</td>\n        <td>0.6492478737939655</td>\n    </tr>\n    <tr>\n        <td>United Arab Emirates</td>\n        <td>3903000</td>\n        <td>5779760</td>\n        <td>0.6752875551926032</td>\n    </tr>\n    <tr>\n        <td>Puerto Rico</td>\n        <td>2475000</td>\n        <td>3598357</td>\n        <td>0.6878139106264332</td>\n    </tr>\n    <tr>\n        <td>Bahamas, The</td>\n        <td>254000</td>\n        <td>324597</td>\n        <td>0.7825087724162577</td>\n    </tr>\n    <tr>\n        <td>Kuwait</td>\n        <td>2406000</td>\n        <td>2788534</td>\n        <td>0.8628189579183901</td>\n    </tr>\n    <tr>\n        <td>Saint Pierre and Miquelon</td>\n        <td>5000</td>\n        <td>5657</td>\n        <td>0.8838607035531201</td>\n    </tr>\n    <tr>\n        <td>Guam</td>\n        <td>169000</td>\n        <td>161785</td>\n        <td>1.0445962233828847</td>\n    </tr>\n    <tr>\n        <td>Northern Mariana Islands</td>\n        <td>56000</td>\n        <td>52344</td>\n        <td>1.0698456365581537</td>\n    </tr>\n    <tr>\n        <td>American Samoa</td>\n        <td>64000</td>\n        <td>54343</td>\n        <td>1.1777045801667188</td>\n    </tr>\n</table>"
     },
     "metadata": {},
     "execution_count": 21
    }
   ],
   "source": [
    "%%sql\n",
    "SELECT f.name country, c.population AS urban_pop, f.population total_pop, CAST(c.population AS FLOAT) / f.population AS urban_pct \n",
    "FROM facts f\n",
    "INNER JOIN (SELECT facts_id, SUM(population) AS population\n",
    "            FROM cities\n",
    "            GROUP BY facts_id) c\n",
    "ON c.facts_id = f.id\n",
    "WHERE urban_pct > 0.5\n",
    "ORDER BY urban_pct;"
   ]
  },
  {
   "cell_type": "code",
   "execution_count": 11,
   "metadata": {},
   "outputs": [
    {
     "output_type": "stream",
     "name": "stdout",
     "text": "* sqlite:///factbook.db\nDone.\n"
    },
    {
     "output_type": "execute_result",
     "data": {
      "text/plain": "[('1', 3097000),\n ('10', 172000),\n ('100', 1127000),\n ('101', 5000),\n ('102', 546000),\n ('103', 94000),\n ('104', 499000),\n ('105', 1987000),\n ('106', 772000),\n ('107', 2720000),\n ('108', 132000),\n ('109', 2037000),\n ('11', 2123000),\n ('110', 198000),\n ('111', 31000),\n ('112', 786000),\n ('113', 151000),\n ('114', 33449000),\n ('115', 7000),\n ('116', 677000),\n ('118', 1184000),\n ('119', 156000),\n ('12', 254000),\n ('120', 8531000),\n ('121', 905000),\n ('122', 380000),\n ('124', 1015000),\n ('125', 2705000),\n ('126', 1862000),\n ('127', 970000),\n ('128', 1297000),\n ('129', 23118000),\n ('13', 262000),\n ('130', 915000),\n ('131', 743000),\n ('132', 29338000),\n ('133', 1000),\n ('134', 1426000),\n ('135', 343000),\n ('136', 2139000),\n ('137', 1717000),\n ('138', 15166000),\n ('139', 2479000),\n ('14', 23343000),\n ('140', 4210000),\n ('141', 567000),\n ('142', 1937000),\n ('143', 21731000),\n ('144', 1004000),\n ('145', 12000),\n ('146', 21000),\n ('147', 31000),\n ('148', 37000),\n ('15', 122000),\n ('150', 64000),\n ('151', 12703000),\n ('152', 3035000),\n ('153', 1135000),\n ('154', 27000),\n ('155', 941000),\n ('157', 434000),\n ('158', 273000),\n ('159', 68000),\n ('16', 1861000),\n ('160', 1554000),\n ('161', 15756000),\n ('162', 269000),\n ('163', 7928000),\n ('164', 819000),\n ('165', 4632000),\n ('166', 278000),\n ('167', 66000),\n ('168', 1385000),\n ('169', 1547000),\n ('17', 2908000),\n ('170', 5731000),\n ('171', 739000),\n ('172', 3588000),\n ('173', 9638000),\n ('174', 180000),\n ('175', 1524000),\n ('176', 25000),\n ('177', 66000),\n ('178', 790000),\n ('179', 22753000),\n ('18', 14000),\n ('180', 683000),\n ('181', 5000),\n ('182', 1659000),\n ('183', 7105000),\n ('184', 3903000),\n ('185', 17126000),\n ('186', 60116000),\n ('187', 1672000),\n ('188', 2227000),\n ('189', 47000),\n ('19', 1238000),\n ('191', 8498000),\n ('192', 11119000),\n ('193', 3203000),\n ('194', 1802000),\n ('195', 1542000),\n ('2', 419000),\n ('20', 99000),\n ('206', 20000),\n ('207', 16000),\n ('209', 137000),\n ('21', 3741000),\n ('211', 157000),\n ('214', 5000),\n ('215', 1000),\n ('216', 37000),\n ('22', 389000),\n ('226', 2000),\n ('227', 11000),\n ('229', 10000),\n ('23', 202000),\n ('230', 28000),\n ('232', 2000),\n ('236', 27000),\n ('239', 1000),\n ('24', 38086000),\n ('241', 7000),\n ('242', 64000),\n ('243', 169000),\n ('245', 56000),\n ('246', 2475000),\n ('247', 60000),\n ('25', 241000),\n ('255', 237000),\n ('26', 1174000),\n ('27', 2053000),\n ('28', 5626000),\n ('29', 605000),\n ('3', 3699000),\n ('30', 155000),\n ('31', 4881000),\n ('32', 15262000),\n ('33', 132000),\n ('34', 740000),\n ('35', 1079000),\n ('36', 7687000),\n ('37', 66849000),\n ('38', 16009000),\n ('39', 54000),\n ('4', 23000),\n ('40', 13566000),\n ('41', 2445000),\n ('42', 1515000),\n ('43', 5254000),\n ('44', 686000),\n ('45', 2116000),\n ('46', 253000),\n ('47', 1276000),\n ('48', 1206000),\n ('49', 496000),\n ('5', 6166000),\n ('50', 14000),\n ('51', 2191000),\n ('52', 3909000),\n ('53', 15663000),\n ('54', 1605000),\n ('55', 137000),\n ('56', 712000),\n ('57', 400000),\n ('58', 2979000),\n ('59', 177000),\n ('6', 27000),\n ('60', 1134000),\n ('61', 20406100),\n ('62', 686000),\n ('63', 506000),\n ('64', 1121000),\n ('65', 7628000),\n ('66', 4592000),\n ('67', 4297000),\n ('68', 41000),\n ('69', 1168000),\n ('7', 18951000),\n ('70', 1786000),\n ('71', 423000),\n ('72', 127000),\n ('73', 2207000),\n ('74', 1088000),\n ('75', 1737000),\n ('76', 206000),\n ('77', 82035000),\n ('78', 20131000),\n ('79', 16263000),\n ('8', 1116000),\n ('80', 11157000),\n ('81', 1121000),\n ('82', 5226000),\n ('83', 11892000),\n ('84', 571000),\n ('85', 60077000),\n ('86', 1179000),\n ('87', 2090000),\n ('88', 4335000),\n ('89', 44000),\n ('9', 13789000),\n ('90', 2843000),\n ('91', 21218000),\n ('93', 2406000),\n ('94', 839000),\n ('95', 810000),\n ('96', 701000),\n ('97', 2022000),\n ('98', 239000),\n ('99', 750000)]",
      "text/html": "<table>\n    <tr>\n        <th>facts_id</th>\n        <th>population</th>\n    </tr>\n    <tr>\n        <td>1</td>\n        <td>3097000</td>\n    </tr>\n    <tr>\n        <td>10</td>\n        <td>172000</td>\n    </tr>\n    <tr>\n        <td>100</td>\n        <td>1127000</td>\n    </tr>\n    <tr>\n        <td>101</td>\n        <td>5000</td>\n    </tr>\n    <tr>\n        <td>102</td>\n        <td>546000</td>\n    </tr>\n    <tr>\n        <td>103</td>\n        <td>94000</td>\n    </tr>\n    <tr>\n        <td>104</td>\n        <td>499000</td>\n    </tr>\n    <tr>\n        <td>105</td>\n        <td>1987000</td>\n    </tr>\n    <tr>\n        <td>106</td>\n        <td>772000</td>\n    </tr>\n    <tr>\n        <td>107</td>\n        <td>2720000</td>\n    </tr>\n    <tr>\n        <td>108</td>\n        <td>132000</td>\n    </tr>\n    <tr>\n        <td>109</td>\n        <td>2037000</td>\n    </tr>\n    <tr>\n        <td>11</td>\n        <td>2123000</td>\n    </tr>\n    <tr>\n        <td>110</td>\n        <td>198000</td>\n    </tr>\n    <tr>\n        <td>111</td>\n        <td>31000</td>\n    </tr>\n    <tr>\n        <td>112</td>\n        <td>786000</td>\n    </tr>\n    <tr>\n        <td>113</td>\n        <td>151000</td>\n    </tr>\n    <tr>\n        <td>114</td>\n        <td>33449000</td>\n    </tr>\n    <tr>\n        <td>115</td>\n        <td>7000</td>\n    </tr>\n    <tr>\n        <td>116</td>\n        <td>677000</td>\n    </tr>\n    <tr>\n        <td>118</td>\n        <td>1184000</td>\n    </tr>\n    <tr>\n        <td>119</td>\n        <td>156000</td>\n    </tr>\n    <tr>\n        <td>12</td>\n        <td>254000</td>\n    </tr>\n    <tr>\n        <td>120</td>\n        <td>8531000</td>\n    </tr>\n    <tr>\n        <td>121</td>\n        <td>905000</td>\n    </tr>\n    <tr>\n        <td>122</td>\n        <td>380000</td>\n    </tr>\n    <tr>\n        <td>124</td>\n        <td>1015000</td>\n    </tr>\n    <tr>\n        <td>125</td>\n        <td>2705000</td>\n    </tr>\n    <tr>\n        <td>126</td>\n        <td>1862000</td>\n    </tr>\n    <tr>\n        <td>127</td>\n        <td>970000</td>\n    </tr>\n    <tr>\n        <td>128</td>\n        <td>1297000</td>\n    </tr>\n    <tr>\n        <td>129</td>\n        <td>23118000</td>\n    </tr>\n    <tr>\n        <td>13</td>\n        <td>262000</td>\n    </tr>\n    <tr>\n        <td>130</td>\n        <td>915000</td>\n    </tr>\n    <tr>\n        <td>131</td>\n        <td>743000</td>\n    </tr>\n    <tr>\n        <td>132</td>\n        <td>29338000</td>\n    </tr>\n    <tr>\n        <td>133</td>\n        <td>1000</td>\n    </tr>\n    <tr>\n        <td>134</td>\n        <td>1426000</td>\n    </tr>\n    <tr>\n        <td>135</td>\n        <td>343000</td>\n    </tr>\n    <tr>\n        <td>136</td>\n        <td>2139000</td>\n    </tr>\n    <tr>\n        <td>137</td>\n        <td>1717000</td>\n    </tr>\n    <tr>\n        <td>138</td>\n        <td>15166000</td>\n    </tr>\n    <tr>\n        <td>139</td>\n        <td>2479000</td>\n    </tr>\n    <tr>\n        <td>14</td>\n        <td>23343000</td>\n    </tr>\n    <tr>\n        <td>140</td>\n        <td>4210000</td>\n    </tr>\n    <tr>\n        <td>141</td>\n        <td>567000</td>\n    </tr>\n    <tr>\n        <td>142</td>\n        <td>1937000</td>\n    </tr>\n    <tr>\n        <td>143</td>\n        <td>21731000</td>\n    </tr>\n    <tr>\n        <td>144</td>\n        <td>1004000</td>\n    </tr>\n    <tr>\n        <td>145</td>\n        <td>12000</td>\n    </tr>\n    <tr>\n        <td>146</td>\n        <td>21000</td>\n    </tr>\n    <tr>\n        <td>147</td>\n        <td>31000</td>\n    </tr>\n    <tr>\n        <td>148</td>\n        <td>37000</td>\n    </tr>\n    <tr>\n        <td>15</td>\n        <td>122000</td>\n    </tr>\n    <tr>\n        <td>150</td>\n        <td>64000</td>\n    </tr>\n    <tr>\n        <td>151</td>\n        <td>12703000</td>\n    </tr>\n    <tr>\n        <td>152</td>\n        <td>3035000</td>\n    </tr>\n    <tr>\n        <td>153</td>\n        <td>1135000</td>\n    </tr>\n    <tr>\n        <td>154</td>\n        <td>27000</td>\n    </tr>\n    <tr>\n        <td>155</td>\n        <td>941000</td>\n    </tr>\n    <tr>\n        <td>157</td>\n        <td>434000</td>\n    </tr>\n    <tr>\n        <td>158</td>\n        <td>273000</td>\n    </tr>\n    <tr>\n        <td>159</td>\n        <td>68000</td>\n    </tr>\n    <tr>\n        <td>16</td>\n        <td>1861000</td>\n    </tr>\n    <tr>\n        <td>160</td>\n        <td>1554000</td>\n    </tr>\n    <tr>\n        <td>161</td>\n        <td>15756000</td>\n    </tr>\n    <tr>\n        <td>162</td>\n        <td>269000</td>\n    </tr>\n    <tr>\n        <td>163</td>\n        <td>7928000</td>\n    </tr>\n    <tr>\n        <td>164</td>\n        <td>819000</td>\n    </tr>\n    <tr>\n        <td>165</td>\n        <td>4632000</td>\n    </tr>\n    <tr>\n        <td>166</td>\n        <td>278000</td>\n    </tr>\n    <tr>\n        <td>167</td>\n        <td>66000</td>\n    </tr>\n    <tr>\n        <td>168</td>\n        <td>1385000</td>\n    </tr>\n    <tr>\n        <td>169</td>\n        <td>1547000</td>\n    </tr>\n    <tr>\n        <td>17</td>\n        <td>2908000</td>\n    </tr>\n    <tr>\n        <td>170</td>\n        <td>5731000</td>\n    </tr>\n    <tr>\n        <td>171</td>\n        <td>739000</td>\n    </tr>\n    <tr>\n        <td>172</td>\n        <td>3588000</td>\n    </tr>\n    <tr>\n        <td>173</td>\n        <td>9638000</td>\n    </tr>\n    <tr>\n        <td>174</td>\n        <td>180000</td>\n    </tr>\n    <tr>\n        <td>175</td>\n        <td>1524000</td>\n    </tr>\n    <tr>\n        <td>176</td>\n        <td>25000</td>\n    </tr>\n    <tr>\n        <td>177</td>\n        <td>66000</td>\n    </tr>\n    <tr>\n        <td>178</td>\n        <td>790000</td>\n    </tr>\n    <tr>\n        <td>179</td>\n        <td>22753000</td>\n    </tr>\n    <tr>\n        <td>18</td>\n        <td>14000</td>\n    </tr>\n    <tr>\n        <td>180</td>\n        <td>683000</td>\n    </tr>\n    <tr>\n        <td>181</td>\n        <td>5000</td>\n    </tr>\n    <tr>\n        <td>182</td>\n        <td>1659000</td>\n    </tr>\n    <tr>\n        <td>183</td>\n        <td>7105000</td>\n    </tr>\n    <tr>\n        <td>184</td>\n        <td>3903000</td>\n    </tr>\n    <tr>\n        <td>185</td>\n        <td>17126000</td>\n    </tr>\n    <tr>\n        <td>186</td>\n        <td>60116000</td>\n    </tr>\n    <tr>\n        <td>187</td>\n        <td>1672000</td>\n    </tr>\n    <tr>\n        <td>188</td>\n        <td>2227000</td>\n    </tr>\n    <tr>\n        <td>189</td>\n        <td>47000</td>\n    </tr>\n    <tr>\n        <td>19</td>\n        <td>1238000</td>\n    </tr>\n    <tr>\n        <td>191</td>\n        <td>8498000</td>\n    </tr>\n    <tr>\n        <td>192</td>\n        <td>11119000</td>\n    </tr>\n    <tr>\n        <td>193</td>\n        <td>3203000</td>\n    </tr>\n    <tr>\n        <td>194</td>\n        <td>1802000</td>\n    </tr>\n    <tr>\n        <td>195</td>\n        <td>1542000</td>\n    </tr>\n    <tr>\n        <td>2</td>\n        <td>419000</td>\n    </tr>\n    <tr>\n        <td>20</td>\n        <td>99000</td>\n    </tr>\n    <tr>\n        <td>206</td>\n        <td>20000</td>\n    </tr>\n    <tr>\n        <td>207</td>\n        <td>16000</td>\n    </tr>\n    <tr>\n        <td>209</td>\n        <td>137000</td>\n    </tr>\n    <tr>\n        <td>21</td>\n        <td>3741000</td>\n    </tr>\n    <tr>\n        <td>211</td>\n        <td>157000</td>\n    </tr>\n    <tr>\n        <td>214</td>\n        <td>5000</td>\n    </tr>\n    <tr>\n        <td>215</td>\n        <td>1000</td>\n    </tr>\n    <tr>\n        <td>216</td>\n        <td>37000</td>\n    </tr>\n    <tr>\n        <td>22</td>\n        <td>389000</td>\n    </tr>\n    <tr>\n        <td>226</td>\n        <td>2000</td>\n    </tr>\n    <tr>\n        <td>227</td>\n        <td>11000</td>\n    </tr>\n    <tr>\n        <td>229</td>\n        <td>10000</td>\n    </tr>\n    <tr>\n        <td>23</td>\n        <td>202000</td>\n    </tr>\n    <tr>\n        <td>230</td>\n        <td>28000</td>\n    </tr>\n    <tr>\n        <td>232</td>\n        <td>2000</td>\n    </tr>\n    <tr>\n        <td>236</td>\n        <td>27000</td>\n    </tr>\n    <tr>\n        <td>239</td>\n        <td>1000</td>\n    </tr>\n    <tr>\n        <td>24</td>\n        <td>38086000</td>\n    </tr>\n    <tr>\n        <td>241</td>\n        <td>7000</td>\n    </tr>\n    <tr>\n        <td>242</td>\n        <td>64000</td>\n    </tr>\n    <tr>\n        <td>243</td>\n        <td>169000</td>\n    </tr>\n    <tr>\n        <td>245</td>\n        <td>56000</td>\n    </tr>\n    <tr>\n        <td>246</td>\n        <td>2475000</td>\n    </tr>\n    <tr>\n        <td>247</td>\n        <td>60000</td>\n    </tr>\n    <tr>\n        <td>25</td>\n        <td>241000</td>\n    </tr>\n    <tr>\n        <td>255</td>\n        <td>237000</td>\n    </tr>\n    <tr>\n        <td>26</td>\n        <td>1174000</td>\n    </tr>\n    <tr>\n        <td>27</td>\n        <td>2053000</td>\n    </tr>\n    <tr>\n        <td>28</td>\n        <td>5626000</td>\n    </tr>\n    <tr>\n        <td>29</td>\n        <td>605000</td>\n    </tr>\n    <tr>\n        <td>3</td>\n        <td>3699000</td>\n    </tr>\n    <tr>\n        <td>30</td>\n        <td>155000</td>\n    </tr>\n    <tr>\n        <td>31</td>\n        <td>4881000</td>\n    </tr>\n    <tr>\n        <td>32</td>\n        <td>15262000</td>\n    </tr>\n    <tr>\n        <td>33</td>\n        <td>132000</td>\n    </tr>\n    <tr>\n        <td>34</td>\n        <td>740000</td>\n    </tr>\n    <tr>\n        <td>35</td>\n        <td>1079000</td>\n    </tr>\n    <tr>\n        <td>36</td>\n        <td>7687000</td>\n    </tr>\n    <tr>\n        <td>37</td>\n        <td>66849000</td>\n    </tr>\n    <tr>\n        <td>38</td>\n        <td>16009000</td>\n    </tr>\n    <tr>\n        <td>39</td>\n        <td>54000</td>\n    </tr>\n    <tr>\n        <td>4</td>\n        <td>23000</td>\n    </tr>\n    <tr>\n        <td>40</td>\n        <td>13566000</td>\n    </tr>\n    <tr>\n        <td>41</td>\n        <td>2445000</td>\n    </tr>\n    <tr>\n        <td>42</td>\n        <td>1515000</td>\n    </tr>\n    <tr>\n        <td>43</td>\n        <td>5254000</td>\n    </tr>\n    <tr>\n        <td>44</td>\n        <td>686000</td>\n    </tr>\n    <tr>\n        <td>45</td>\n        <td>2116000</td>\n    </tr>\n    <tr>\n        <td>46</td>\n        <td>253000</td>\n    </tr>\n    <tr>\n        <td>47</td>\n        <td>1276000</td>\n    </tr>\n    <tr>\n        <td>48</td>\n        <td>1206000</td>\n    </tr>\n    <tr>\n        <td>49</td>\n        <td>496000</td>\n    </tr>\n    <tr>\n        <td>5</td>\n        <td>6166000</td>\n    </tr>\n    <tr>\n        <td>50</td>\n        <td>14000</td>\n    </tr>\n    <tr>\n        <td>51</td>\n        <td>2191000</td>\n    </tr>\n    <tr>\n        <td>52</td>\n        <td>3909000</td>\n    </tr>\n    <tr>\n        <td>53</td>\n        <td>15663000</td>\n    </tr>\n    <tr>\n        <td>54</td>\n        <td>1605000</td>\n    </tr>\n    <tr>\n        <td>55</td>\n        <td>137000</td>\n    </tr>\n    <tr>\n        <td>56</td>\n        <td>712000</td>\n    </tr>\n    <tr>\n        <td>57</td>\n        <td>400000</td>\n    </tr>\n    <tr>\n        <td>58</td>\n        <td>2979000</td>\n    </tr>\n    <tr>\n        <td>59</td>\n        <td>177000</td>\n    </tr>\n    <tr>\n        <td>6</td>\n        <td>27000</td>\n    </tr>\n    <tr>\n        <td>60</td>\n        <td>1134000</td>\n    </tr>\n    <tr>\n        <td>61</td>\n        <td>20406100</td>\n    </tr>\n    <tr>\n        <td>62</td>\n        <td>686000</td>\n    </tr>\n    <tr>\n        <td>63</td>\n        <td>506000</td>\n    </tr>\n    <tr>\n        <td>64</td>\n        <td>1121000</td>\n    </tr>\n    <tr>\n        <td>65</td>\n        <td>7628000</td>\n    </tr>\n    <tr>\n        <td>66</td>\n        <td>4592000</td>\n    </tr>\n    <tr>\n        <td>67</td>\n        <td>4297000</td>\n    </tr>\n    <tr>\n        <td>68</td>\n        <td>41000</td>\n    </tr>\n    <tr>\n        <td>69</td>\n        <td>1168000</td>\n    </tr>\n    <tr>\n        <td>7</td>\n        <td>18951000</td>\n    </tr>\n    <tr>\n        <td>70</td>\n        <td>1786000</td>\n    </tr>\n    <tr>\n        <td>71</td>\n        <td>423000</td>\n    </tr>\n    <tr>\n        <td>72</td>\n        <td>127000</td>\n    </tr>\n    <tr>\n        <td>73</td>\n        <td>2207000</td>\n    </tr>\n    <tr>\n        <td>74</td>\n        <td>1088000</td>\n    </tr>\n    <tr>\n        <td>75</td>\n        <td>1737000</td>\n    </tr>\n    <tr>\n        <td>76</td>\n        <td>206000</td>\n    </tr>\n    <tr>\n        <td>77</td>\n        <td>82035000</td>\n    </tr>\n    <tr>\n        <td>78</td>\n        <td>20131000</td>\n    </tr>\n    <tr>\n        <td>79</td>\n        <td>16263000</td>\n    </tr>\n    <tr>\n        <td>8</td>\n        <td>1116000</td>\n    </tr>\n    <tr>\n        <td>80</td>\n        <td>11157000</td>\n    </tr>\n    <tr>\n        <td>81</td>\n        <td>1121000</td>\n    </tr>\n    <tr>\n        <td>82</td>\n        <td>5226000</td>\n    </tr>\n    <tr>\n        <td>83</td>\n        <td>11892000</td>\n    </tr>\n    <tr>\n        <td>84</td>\n        <td>571000</td>\n    </tr>\n    <tr>\n        <td>85</td>\n        <td>60077000</td>\n    </tr>\n    <tr>\n        <td>86</td>\n        <td>1179000</td>\n    </tr>\n    <tr>\n        <td>87</td>\n        <td>2090000</td>\n    </tr>\n    <tr>\n        <td>88</td>\n        <td>4335000</td>\n    </tr>\n    <tr>\n        <td>89</td>\n        <td>44000</td>\n    </tr>\n    <tr>\n        <td>9</td>\n        <td>13789000</td>\n    </tr>\n    <tr>\n        <td>90</td>\n        <td>2843000</td>\n    </tr>\n    <tr>\n        <td>91</td>\n        <td>21218000</td>\n    </tr>\n    <tr>\n        <td>93</td>\n        <td>2406000</td>\n    </tr>\n    <tr>\n        <td>94</td>\n        <td>839000</td>\n    </tr>\n    <tr>\n        <td>95</td>\n        <td>810000</td>\n    </tr>\n    <tr>\n        <td>96</td>\n        <td>701000</td>\n    </tr>\n    <tr>\n        <td>97</td>\n        <td>2022000</td>\n    </tr>\n    <tr>\n        <td>98</td>\n        <td>239000</td>\n    </tr>\n    <tr>\n        <td>99</td>\n        <td>750000</td>\n    </tr>\n</table>"
     },
     "metadata": {},
     "execution_count": 11
    }
   ],
   "source": [
    "%%sql \n",
    "SELECT facts_id, SUM(population) population\n",
    "            FROM cities\n",
    "            GROUP BY facts_id;"
   ]
  },
  {
   "cell_type": "code",
   "execution_count": null,
   "metadata": {},
   "outputs": [],
   "source": []
  }
 ],
 "metadata": {
  "file_extension": ".py",
  "kernelspec": {
   "display_name": "Python 3",
   "language": "python",
   "name": "python3"
  },
  "language_info": {
   "codemirror_mode": {
    "name": "ipython",
    "version": 3
   },
   "file_extension": ".py",
   "mimetype": "text/x-python",
   "name": "python",
   "nbconvert_exporter": "python",
   "pygments_lexer": "ipython3",
   "version": "3.7.3-final"
  },
  "mimetype": "text/x-python",
  "name": "python",
  "npconvert_exporter": "python",
  "pygments_lexer": "ipython3",
  "version": 3
 },
 "nbformat": 4,
 "nbformat_minor": 2
}